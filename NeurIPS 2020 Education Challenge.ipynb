{
  "cells": [
    {
      "cell_type": "markdown",
      "metadata": {
        "id": "Gf7lXxXN0sEh"
      },
      "source": [
        "**Project Notebook**"
      ]
    },
    {
      "attachments": {},
      "cell_type": "markdown",
      "metadata": {
        "id": "aMve8EK70l0P"
      },
      "source": []
    },
    {
      "cell_type": "code",
      "execution_count": null,
      "metadata": {
        "id": "9DU8TnrebeqL"
      },
      "outputs": [],
      "source": [
        "import pandas as pd\n",
        "import numpy as np\n",
        "import matplotlib.pyplot as plt\n",
        "import seaborn as sns\n",
        "from sklearn.model_selection import train_test_split\n",
        "from sklearn.svm import SVC\n",
        "from sklearn.metrics import confusion_matrix, precision_score, accuracy_score, recall_score, f1_score, roc_auc_score,RocCurveDisplay\n",
        "from sklearn.linear_model import LogisticRegression\n",
        "from sklearn import metrics\n",
        "from sklearn.tree import DecisionTreeClassifier\n",
        "from sklearn.ensemble import RandomForestClassifier\n",
        "from sklearn.feature_selection import SelectKBest, SelectPercentile, GenericUnivariateSelect, f_classif, chi2\n",
        "from sklearn.model_selection import GridSearchCV\n",
        "from sklearn.ensemble import GradientBoostingClassifier\n",
        "from sklearn import model_selection\n",
        "from sklearn.ensemble import BaggingClassifier\n",
        "from sklearn.tree import DecisionTreeClassifier\n",
        "from sklearn.ensemble import AdaBoostClassifier\n",
        "import time"
      ]
    },
    {
      "cell_type": "markdown",
      "metadata": {
        "id": "kKqA_dB76on_"
      },
      "source": [
        "**Loading data**"
      ]
    },
    {
      "cell_type": "code",
      "execution_count": null,
      "metadata": {
        "colab": {
          "base_uri": "https://localhost:8080/",
          "height": 206
        },
        "id": "GXtetwEv6row",
        "outputId": "c87eabe5-845b-466d-8e1b-bd21097389c1"
      },
      "outputs": [
        {
          "data": {
            "text/html": [
              "\n",
              "  <div id=\"df-4b967402-d098-4471-b3d1-985f67dc5d43\">\n",
              "    <div class=\"colab-df-container\">\n",
              "      <div>\n",
              "<style scoped>\n",
              "    .dataframe tbody tr th:only-of-type {\n",
              "        vertical-align: middle;\n",
              "    }\n",
              "\n",
              "    .dataframe tbody tr th {\n",
              "        vertical-align: top;\n",
              "    }\n",
              "\n",
              "    .dataframe thead th {\n",
              "        text-align: right;\n",
              "    }\n",
              "</style>\n",
              "<table border=\"1\" class=\"dataframe\">\n",
              "  <thead>\n",
              "    <tr style=\"text-align: right;\">\n",
              "      <th></th>\n",
              "      <th>QuestionId</th>\n",
              "      <th>UserId</th>\n",
              "      <th>AnswerId</th>\n",
              "      <th>IsCorrect</th>\n",
              "      <th>CorrectAnswer</th>\n",
              "      <th>AnswerValue</th>\n",
              "    </tr>\n",
              "  </thead>\n",
              "  <tbody>\n",
              "    <tr>\n",
              "      <th>11142821</th>\n",
              "      <td>8026</td>\n",
              "      <td>95738</td>\n",
              "      <td>14921119</td>\n",
              "      <td>1</td>\n",
              "      <td>3</td>\n",
              "      <td>3</td>\n",
              "    </tr>\n",
              "    <tr>\n",
              "      <th>5938454</th>\n",
              "      <td>19269</td>\n",
              "      <td>96922</td>\n",
              "      <td>11471165</td>\n",
              "      <td>1</td>\n",
              "      <td>4</td>\n",
              "      <td>4</td>\n",
              "    </tr>\n",
              "    <tr>\n",
              "      <th>14992662</th>\n",
              "      <td>13759</td>\n",
              "      <td>76059</td>\n",
              "      <td>6638933</td>\n",
              "      <td>1</td>\n",
              "      <td>4</td>\n",
              "      <td>4</td>\n",
              "    </tr>\n",
              "    <tr>\n",
              "      <th>9434683</th>\n",
              "      <td>6081</td>\n",
              "      <td>81285</td>\n",
              "      <td>18661085</td>\n",
              "      <td>1</td>\n",
              "      <td>3</td>\n",
              "      <td>3</td>\n",
              "    </tr>\n",
              "    <tr>\n",
              "      <th>11034072</th>\n",
              "      <td>26893</td>\n",
              "      <td>68491</td>\n",
              "      <td>2538751</td>\n",
              "      <td>0</td>\n",
              "      <td>4</td>\n",
              "      <td>3</td>\n",
              "    </tr>\n",
              "  </tbody>\n",
              "</table>\n",
              "</div>\n",
              "      <button class=\"colab-df-convert\" onclick=\"convertToInteractive('df-4b967402-d098-4471-b3d1-985f67dc5d43')\"\n",
              "              title=\"Convert this dataframe to an interactive table.\"\n",
              "              style=\"display:none;\">\n",
              "        \n",
              "  <svg xmlns=\"http://www.w3.org/2000/svg\" height=\"24px\"viewBox=\"0 0 24 24\"\n",
              "       width=\"24px\">\n",
              "    <path d=\"M0 0h24v24H0V0z\" fill=\"none\"/>\n",
              "    <path d=\"M18.56 5.44l.94 2.06.94-2.06 2.06-.94-2.06-.94-.94-2.06-.94 2.06-2.06.94zm-11 1L8.5 8.5l.94-2.06 2.06-.94-2.06-.94L8.5 2.5l-.94 2.06-2.06.94zm10 10l.94 2.06.94-2.06 2.06-.94-2.06-.94-.94-2.06-.94 2.06-2.06.94z\"/><path d=\"M17.41 7.96l-1.37-1.37c-.4-.4-.92-.59-1.43-.59-.52 0-1.04.2-1.43.59L10.3 9.45l-7.72 7.72c-.78.78-.78 2.05 0 2.83L4 21.41c.39.39.9.59 1.41.59.51 0 1.02-.2 1.41-.59l7.78-7.78 2.81-2.81c.8-.78.8-2.07 0-2.86zM5.41 20L4 18.59l7.72-7.72 1.47 1.35L5.41 20z\"/>\n",
              "  </svg>\n",
              "      </button>\n",
              "      \n",
              "  <style>\n",
              "    .colab-df-container {\n",
              "      display:flex;\n",
              "      flex-wrap:wrap;\n",
              "      gap: 12px;\n",
              "    }\n",
              "\n",
              "    .colab-df-convert {\n",
              "      background-color: #E8F0FE;\n",
              "      border: none;\n",
              "      border-radius: 50%;\n",
              "      cursor: pointer;\n",
              "      display: none;\n",
              "      fill: #1967D2;\n",
              "      height: 32px;\n",
              "      padding: 0 0 0 0;\n",
              "      width: 32px;\n",
              "    }\n",
              "\n",
              "    .colab-df-convert:hover {\n",
              "      background-color: #E2EBFA;\n",
              "      box-shadow: 0px 1px 2px rgba(60, 64, 67, 0.3), 0px 1px 3px 1px rgba(60, 64, 67, 0.15);\n",
              "      fill: #174EA6;\n",
              "    }\n",
              "\n",
              "    [theme=dark] .colab-df-convert {\n",
              "      background-color: #3B4455;\n",
              "      fill: #D2E3FC;\n",
              "    }\n",
              "\n",
              "    [theme=dark] .colab-df-convert:hover {\n",
              "      background-color: #434B5C;\n",
              "      box-shadow: 0px 1px 3px 1px rgba(0, 0, 0, 0.15);\n",
              "      filter: drop-shadow(0px 1px 2px rgba(0, 0, 0, 0.3));\n",
              "      fill: #FFFFFF;\n",
              "    }\n",
              "  </style>\n",
              "\n",
              "      <script>\n",
              "        const buttonEl =\n",
              "          document.querySelector('#df-4b967402-d098-4471-b3d1-985f67dc5d43 button.colab-df-convert');\n",
              "        buttonEl.style.display =\n",
              "          google.colab.kernel.accessAllowed ? 'block' : 'none';\n",
              "\n",
              "        async function convertToInteractive(key) {\n",
              "          const element = document.querySelector('#df-4b967402-d098-4471-b3d1-985f67dc5d43');\n",
              "          const dataTable =\n",
              "            await google.colab.kernel.invokeFunction('convertToInteractive',\n",
              "                                                     [key], {});\n",
              "          if (!dataTable) return;\n",
              "\n",
              "          const docLinkHtml = 'Like what you see? Visit the ' +\n",
              "            '<a target=\"_blank\" href=https://colab.research.google.com/notebooks/data_table.ipynb>data table notebook</a>'\n",
              "            + ' to learn more about interactive tables.';\n",
              "          element.innerHTML = '';\n",
              "          dataTable['output_type'] = 'display_data';\n",
              "          await google.colab.output.renderOutput(dataTable, element);\n",
              "          const docLink = document.createElement('div');\n",
              "          docLink.innerHTML = docLinkHtml;\n",
              "          element.appendChild(docLink);\n",
              "        }\n",
              "      </script>\n",
              "    </div>\n",
              "  </div>\n",
              "  "
            ],
            "text/plain": [
              "          QuestionId  UserId  AnswerId  IsCorrect  CorrectAnswer  AnswerValue\n",
              "11142821        8026   95738  14921119          1              3            3\n",
              "5938454        19269   96922  11471165          1              4            4\n",
              "14992662       13759   76059   6638933          1              4            4\n",
              "9434683         6081   81285  18661085          1              3            3\n",
              "11034072       26893   68491   2538751          0              4            3"
            ]
          },
          "execution_count": 3,
          "metadata": {},
          "output_type": "execute_result"
        }
      ],
      "source": [
        "data = pd.read_csv('/content/drive/MyDrive/train_task_1_2.csv').sample(100000)\n",
        "data.head()"
      ]
    },
    {
      "cell_type": "markdown",
      "metadata": {
        "id": "kqixE8pdlrff"
      },
      "source": [
        "**Explore the data**"
      ]
    },
    {
      "cell_type": "code",
      "execution_count": null,
      "metadata": {
        "colab": {
          "base_uri": "https://localhost:8080/"
        },
        "id": "XJ5baLe_NrRq",
        "outputId": "6e84089f-7098-4e45-bed0-d1ef1fa25318"
      },
      "outputs": [
        {
          "data": {
            "text/plain": [
              "(100000, 6)"
            ]
          },
          "execution_count": 4,
          "metadata": {},
          "output_type": "execute_result"
        }
      ],
      "source": [
        "data.shape"
      ]
    },
    {
      "cell_type": "code",
      "execution_count": null,
      "metadata": {
        "colab": {
          "base_uri": "https://localhost:8080/"
        },
        "id": "IHDZL7AHkc0a",
        "outputId": "b282e76a-269a-4f5c-ac62-a14af1c52e8b"
      },
      "outputs": [
        {
          "data": {
            "text/plain": [
              "Index(['QuestionId', 'UserId', 'AnswerId', 'IsCorrect', 'CorrectAnswer',\n",
              "       'AnswerValue'],\n",
              "      dtype='object')"
            ]
          },
          "execution_count": 5,
          "metadata": {},
          "output_type": "execute_result"
        }
      ],
      "source": [
        "data.columns"
      ]
    },
    {
      "cell_type": "code",
      "execution_count": null,
      "metadata": {
        "colab": {
          "base_uri": "https://localhost:8080/",
          "height": 363
        },
        "id": "j2xyYIbhtA2h",
        "outputId": "505a942f-7201-4e7d-8725-0c3e51af1ce7"
      },
      "outputs": [
        {
          "data": {
            "text/html": [
              "\n",
              "  <div id=\"df-e2c73623-e559-4fea-b20e-73102265df68\">\n",
              "    <div class=\"colab-df-container\">\n",
              "      <div>\n",
              "<style scoped>\n",
              "    .dataframe tbody tr th:only-of-type {\n",
              "        vertical-align: middle;\n",
              "    }\n",
              "\n",
              "    .dataframe tbody tr th {\n",
              "        vertical-align: top;\n",
              "    }\n",
              "\n",
              "    .dataframe thead th {\n",
              "        text-align: right;\n",
              "    }\n",
              "</style>\n",
              "<table border=\"1\" class=\"dataframe\">\n",
              "  <thead>\n",
              "    <tr style=\"text-align: right;\">\n",
              "      <th></th>\n",
              "      <th>AnswerId</th>\n",
              "      <th>DateAnswered</th>\n",
              "      <th>Confidence</th>\n",
              "      <th>GroupId</th>\n",
              "      <th>QuizId</th>\n",
              "      <th>SchemeOfWorkId</th>\n",
              "    </tr>\n",
              "  </thead>\n",
              "  <tbody>\n",
              "    <tr>\n",
              "      <th>0</th>\n",
              "      <td>11808339.0</td>\n",
              "      <td>2020-03-17 07:55:00.000</td>\n",
              "      <td>NaN</td>\n",
              "      <td>4186</td>\n",
              "      <td>14854</td>\n",
              "      <td>NaN</td>\n",
              "    </tr>\n",
              "    <tr>\n",
              "      <th>1</th>\n",
              "      <td>98649.0</td>\n",
              "      <td>2018-12-18 14:23:00.000</td>\n",
              "      <td>NaN</td>\n",
              "      <td>9427</td>\n",
              "      <td>16895</td>\n",
              "      <td>28237.0</td>\n",
              "    </tr>\n",
              "    <tr>\n",
              "      <th>2</th>\n",
              "      <td>259238.0</td>\n",
              "      <td>2019-02-21 12:41:00.000</td>\n",
              "      <td>NaN</td>\n",
              "      <td>7651</td>\n",
              "      <td>1127</td>\n",
              "      <td>8386.0</td>\n",
              "    </tr>\n",
              "    <tr>\n",
              "      <th>3</th>\n",
              "      <td>17027648.0</td>\n",
              "      <td>2020-03-01 18:13:00.000</td>\n",
              "      <td>NaN</td>\n",
              "      <td>8719</td>\n",
              "      <td>5126</td>\n",
              "      <td>40960.0</td>\n",
              "    </tr>\n",
              "    <tr>\n",
              "      <th>4</th>\n",
              "      <td>6579101.0</td>\n",
              "      <td>2019-03-22 14:57:00.000</td>\n",
              "      <td>NaN</td>\n",
              "      <td>9020</td>\n",
              "      <td>13445</td>\n",
              "      <td>NaN</td>\n",
              "    </tr>\n",
              "    <tr>\n",
              "      <th>5</th>\n",
              "      <td>10647348.0</td>\n",
              "      <td>2020-03-16 08:33:00.000</td>\n",
              "      <td>NaN</td>\n",
              "      <td>3814</td>\n",
              "      <td>14982</td>\n",
              "      <td>8466.0</td>\n",
              "    </tr>\n",
              "    <tr>\n",
              "      <th>6</th>\n",
              "      <td>18439419.0</td>\n",
              "      <td>2019-12-16 14:40:00.000</td>\n",
              "      <td>NaN</td>\n",
              "      <td>11482</td>\n",
              "      <td>3493</td>\n",
              "      <td>40959.0</td>\n",
              "    </tr>\n",
              "    <tr>\n",
              "      <th>7</th>\n",
              "      <td>2160201.0</td>\n",
              "      <td>2018-10-07 11:24:00.000</td>\n",
              "      <td>NaN</td>\n",
              "      <td>5044</td>\n",
              "      <td>16573</td>\n",
              "      <td>8388.0</td>\n",
              "    </tr>\n",
              "    <tr>\n",
              "      <th>8</th>\n",
              "      <td>7340240.0</td>\n",
              "      <td>2020-02-12 09:52:00.000</td>\n",
              "      <td>NaN</td>\n",
              "      <td>393</td>\n",
              "      <td>3687</td>\n",
              "      <td>28228.0</td>\n",
              "    </tr>\n",
              "    <tr>\n",
              "      <th>9</th>\n",
              "      <td>11489431.0</td>\n",
              "      <td>2019-09-21 14:48:00.000</td>\n",
              "      <td>NaN</td>\n",
              "      <td>224</td>\n",
              "      <td>7458</td>\n",
              "      <td>8388.0</td>\n",
              "    </tr>\n",
              "  </tbody>\n",
              "</table>\n",
              "</div>\n",
              "      <button class=\"colab-df-convert\" onclick=\"convertToInteractive('df-e2c73623-e559-4fea-b20e-73102265df68')\"\n",
              "              title=\"Convert this dataframe to an interactive table.\"\n",
              "              style=\"display:none;\">\n",
              "        \n",
              "  <svg xmlns=\"http://www.w3.org/2000/svg\" height=\"24px\"viewBox=\"0 0 24 24\"\n",
              "       width=\"24px\">\n",
              "    <path d=\"M0 0h24v24H0V0z\" fill=\"none\"/>\n",
              "    <path d=\"M18.56 5.44l.94 2.06.94-2.06 2.06-.94-2.06-.94-.94-2.06-.94 2.06-2.06.94zm-11 1L8.5 8.5l.94-2.06 2.06-.94-2.06-.94L8.5 2.5l-.94 2.06-2.06.94zm10 10l.94 2.06.94-2.06 2.06-.94-2.06-.94-.94-2.06-.94 2.06-2.06.94z\"/><path d=\"M17.41 7.96l-1.37-1.37c-.4-.4-.92-.59-1.43-.59-.52 0-1.04.2-1.43.59L10.3 9.45l-7.72 7.72c-.78.78-.78 2.05 0 2.83L4 21.41c.39.39.9.59 1.41.59.51 0 1.02-.2 1.41-.59l7.78-7.78 2.81-2.81c.8-.78.8-2.07 0-2.86zM5.41 20L4 18.59l7.72-7.72 1.47 1.35L5.41 20z\"/>\n",
              "  </svg>\n",
              "      </button>\n",
              "      \n",
              "  <style>\n",
              "    .colab-df-container {\n",
              "      display:flex;\n",
              "      flex-wrap:wrap;\n",
              "      gap: 12px;\n",
              "    }\n",
              "\n",
              "    .colab-df-convert {\n",
              "      background-color: #E8F0FE;\n",
              "      border: none;\n",
              "      border-radius: 50%;\n",
              "      cursor: pointer;\n",
              "      display: none;\n",
              "      fill: #1967D2;\n",
              "      height: 32px;\n",
              "      padding: 0 0 0 0;\n",
              "      width: 32px;\n",
              "    }\n",
              "\n",
              "    .colab-df-convert:hover {\n",
              "      background-color: #E2EBFA;\n",
              "      box-shadow: 0px 1px 2px rgba(60, 64, 67, 0.3), 0px 1px 3px 1px rgba(60, 64, 67, 0.15);\n",
              "      fill: #174EA6;\n",
              "    }\n",
              "\n",
              "    [theme=dark] .colab-df-convert {\n",
              "      background-color: #3B4455;\n",
              "      fill: #D2E3FC;\n",
              "    }\n",
              "\n",
              "    [theme=dark] .colab-df-convert:hover {\n",
              "      background-color: #434B5C;\n",
              "      box-shadow: 0px 1px 3px 1px rgba(0, 0, 0, 0.15);\n",
              "      filter: drop-shadow(0px 1px 2px rgba(0, 0, 0, 0.3));\n",
              "      fill: #FFFFFF;\n",
              "    }\n",
              "  </style>\n",
              "\n",
              "      <script>\n",
              "        const buttonEl =\n",
              "          document.querySelector('#df-e2c73623-e559-4fea-b20e-73102265df68 button.colab-df-convert');\n",
              "        buttonEl.style.display =\n",
              "          google.colab.kernel.accessAllowed ? 'block' : 'none';\n",
              "\n",
              "        async function convertToInteractive(key) {\n",
              "          const element = document.querySelector('#df-e2c73623-e559-4fea-b20e-73102265df68');\n",
              "          const dataTable =\n",
              "            await google.colab.kernel.invokeFunction('convertToInteractive',\n",
              "                                                     [key], {});\n",
              "          if (!dataTable) return;\n",
              "\n",
              "          const docLinkHtml = 'Like what you see? Visit the ' +\n",
              "            '<a target=\"_blank\" href=https://colab.research.google.com/notebooks/data_table.ipynb>data table notebook</a>'\n",
              "            + ' to learn more about interactive tables.';\n",
              "          element.innerHTML = '';\n",
              "          dataTable['output_type'] = 'display_data';\n",
              "          await google.colab.output.renderOutput(dataTable, element);\n",
              "          const docLink = document.createElement('div');\n",
              "          docLink.innerHTML = docLinkHtml;\n",
              "          element.appendChild(docLink);\n",
              "        }\n",
              "      </script>\n",
              "    </div>\n",
              "  </div>\n",
              "  "
            ],
            "text/plain": [
              "     AnswerId             DateAnswered  Confidence  GroupId  QuizId  \\\n",
              "0  11808339.0  2020-03-17 07:55:00.000         NaN     4186   14854   \n",
              "1     98649.0  2018-12-18 14:23:00.000         NaN     9427   16895   \n",
              "2    259238.0  2019-02-21 12:41:00.000         NaN     7651    1127   \n",
              "3  17027648.0  2020-03-01 18:13:00.000         NaN     8719    5126   \n",
              "4   6579101.0  2019-03-22 14:57:00.000         NaN     9020   13445   \n",
              "5  10647348.0  2020-03-16 08:33:00.000         NaN     3814   14982   \n",
              "6  18439419.0  2019-12-16 14:40:00.000         NaN    11482    3493   \n",
              "7   2160201.0  2018-10-07 11:24:00.000         NaN     5044   16573   \n",
              "8   7340240.0  2020-02-12 09:52:00.000         NaN      393    3687   \n",
              "9  11489431.0  2019-09-21 14:48:00.000         NaN      224    7458   \n",
              "\n",
              "   SchemeOfWorkId  \n",
              "0             NaN  \n",
              "1         28237.0  \n",
              "2          8386.0  \n",
              "3         40960.0  \n",
              "4             NaN  \n",
              "5          8466.0  \n",
              "6         40959.0  \n",
              "7          8388.0  \n",
              "8         28228.0  \n",
              "9          8388.0  "
            ]
          },
          "execution_count": 6,
          "metadata": {},
          "output_type": "execute_result"
        }
      ],
      "source": [
        "dfAnswer = pd.read_csv('/content/drive/MyDrive/answer_metadata_task_1_2.csv')\n",
        "dfAnswer.head(10)"
      ]
    },
    {
      "cell_type": "code",
      "execution_count": null,
      "metadata": {
        "colab": {
          "base_uri": "https://localhost:8080/"
        },
        "id": "TFVOMHqlxWYI",
        "outputId": "4ab173bb-5d71-4665-f29d-54ea0b53a3eb"
      },
      "outputs": [
        {
          "data": {
            "text/plain": [
              "(19834820, 6)"
            ]
          },
          "execution_count": 7,
          "metadata": {},
          "output_type": "execute_result"
        }
      ],
      "source": [
        "dfAnswer.shape"
      ]
    },
    {
      "cell_type": "code",
      "execution_count": null,
      "metadata": {
        "colab": {
          "base_uri": "https://localhost:8080/"
        },
        "id": "agTJgEhfxYek",
        "outputId": "56b5a9a3-102b-4534-c1bd-5afff3955229"
      },
      "outputs": [
        {
          "data": {
            "text/plain": [
              "Index(['AnswerId', 'DateAnswered', 'Confidence', 'GroupId', 'QuizId',\n",
              "       'SchemeOfWorkId'],\n",
              "      dtype='object')"
            ]
          },
          "execution_count": 8,
          "metadata": {},
          "output_type": "execute_result"
        }
      ],
      "source": [
        "dfAnswer.columns"
      ]
    },
    {
      "cell_type": "markdown",
      "metadata": {
        "id": "nWfEaxwPXKNr"
      },
      "source": [
        "**Check metadata datasets**"
      ]
    },
    {
      "cell_type": "code",
      "execution_count": null,
      "metadata": {
        "colab": {
          "base_uri": "https://localhost:8080/",
          "height": 363
        },
        "id": "lXtbEq1Vt8sr",
        "outputId": "3f6c36e1-3af0-4117-d7d7-ebaf5a552012"
      },
      "outputs": [
        {
          "data": {
            "text/html": [
              "\n",
              "  <div id=\"df-0a8c11e5-b9c9-4a1f-9927-e8df60814024\">\n",
              "    <div class=\"colab-df-container\">\n",
              "      <div>\n",
              "<style scoped>\n",
              "    .dataframe tbody tr th:only-of-type {\n",
              "        vertical-align: middle;\n",
              "    }\n",
              "\n",
              "    .dataframe tbody tr th {\n",
              "        vertical-align: top;\n",
              "    }\n",
              "\n",
              "    .dataframe thead th {\n",
              "        text-align: right;\n",
              "    }\n",
              "</style>\n",
              "<table border=\"1\" class=\"dataframe\">\n",
              "  <thead>\n",
              "    <tr style=\"text-align: right;\">\n",
              "      <th></th>\n",
              "      <th>UserId</th>\n",
              "      <th>Gender</th>\n",
              "      <th>DateOfBirth</th>\n",
              "      <th>PremiumPupil</th>\n",
              "    </tr>\n",
              "  </thead>\n",
              "  <tbody>\n",
              "    <tr>\n",
              "      <th>0</th>\n",
              "      <td>58022</td>\n",
              "      <td>2</td>\n",
              "      <td>2006-08-01 00:00:00.000</td>\n",
              "      <td>1.0</td>\n",
              "    </tr>\n",
              "    <tr>\n",
              "      <th>1</th>\n",
              "      <td>104674</td>\n",
              "      <td>0</td>\n",
              "      <td>NaN</td>\n",
              "      <td>NaN</td>\n",
              "    </tr>\n",
              "    <tr>\n",
              "      <th>2</th>\n",
              "      <td>32020</td>\n",
              "      <td>2</td>\n",
              "      <td>2008-11-01 00:00:00.000</td>\n",
              "      <td>1.0</td>\n",
              "    </tr>\n",
              "    <tr>\n",
              "      <th>3</th>\n",
              "      <td>81780</td>\n",
              "      <td>2</td>\n",
              "      <td>2004-07-01 00:00:00.000</td>\n",
              "      <td>NaN</td>\n",
              "    </tr>\n",
              "    <tr>\n",
              "      <th>4</th>\n",
              "      <td>99967</td>\n",
              "      <td>0</td>\n",
              "      <td>NaN</td>\n",
              "      <td>NaN</td>\n",
              "    </tr>\n",
              "    <tr>\n",
              "      <th>5</th>\n",
              "      <td>82944</td>\n",
              "      <td>2</td>\n",
              "      <td>2005-05-01 00:00:00.000</td>\n",
              "      <td>0.0</td>\n",
              "    </tr>\n",
              "    <tr>\n",
              "      <th>6</th>\n",
              "      <td>77439</td>\n",
              "      <td>1</td>\n",
              "      <td>2002-11-01 00:00:00.000</td>\n",
              "      <td>NaN</td>\n",
              "    </tr>\n",
              "    <tr>\n",
              "      <th>7</th>\n",
              "      <td>91470</td>\n",
              "      <td>1</td>\n",
              "      <td>2006-10-01 00:00:00.000</td>\n",
              "      <td>NaN</td>\n",
              "    </tr>\n",
              "    <tr>\n",
              "      <th>8</th>\n",
              "      <td>13893</td>\n",
              "      <td>2</td>\n",
              "      <td>2006-10-01 00:00:00.000</td>\n",
              "      <td>0.0</td>\n",
              "    </tr>\n",
              "    <tr>\n",
              "      <th>9</th>\n",
              "      <td>17714</td>\n",
              "      <td>0</td>\n",
              "      <td>NaN</td>\n",
              "      <td>NaN</td>\n",
              "    </tr>\n",
              "  </tbody>\n",
              "</table>\n",
              "</div>\n",
              "      <button class=\"colab-df-convert\" onclick=\"convertToInteractive('df-0a8c11e5-b9c9-4a1f-9927-e8df60814024')\"\n",
              "              title=\"Convert this dataframe to an interactive table.\"\n",
              "              style=\"display:none;\">\n",
              "        \n",
              "  <svg xmlns=\"http://www.w3.org/2000/svg\" height=\"24px\"viewBox=\"0 0 24 24\"\n",
              "       width=\"24px\">\n",
              "    <path d=\"M0 0h24v24H0V0z\" fill=\"none\"/>\n",
              "    <path d=\"M18.56 5.44l.94 2.06.94-2.06 2.06-.94-2.06-.94-.94-2.06-.94 2.06-2.06.94zm-11 1L8.5 8.5l.94-2.06 2.06-.94-2.06-.94L8.5 2.5l-.94 2.06-2.06.94zm10 10l.94 2.06.94-2.06 2.06-.94-2.06-.94-.94-2.06-.94 2.06-2.06.94z\"/><path d=\"M17.41 7.96l-1.37-1.37c-.4-.4-.92-.59-1.43-.59-.52 0-1.04.2-1.43.59L10.3 9.45l-7.72 7.72c-.78.78-.78 2.05 0 2.83L4 21.41c.39.39.9.59 1.41.59.51 0 1.02-.2 1.41-.59l7.78-7.78 2.81-2.81c.8-.78.8-2.07 0-2.86zM5.41 20L4 18.59l7.72-7.72 1.47 1.35L5.41 20z\"/>\n",
              "  </svg>\n",
              "      </button>\n",
              "      \n",
              "  <style>\n",
              "    .colab-df-container {\n",
              "      display:flex;\n",
              "      flex-wrap:wrap;\n",
              "      gap: 12px;\n",
              "    }\n",
              "\n",
              "    .colab-df-convert {\n",
              "      background-color: #E8F0FE;\n",
              "      border: none;\n",
              "      border-radius: 50%;\n",
              "      cursor: pointer;\n",
              "      display: none;\n",
              "      fill: #1967D2;\n",
              "      height: 32px;\n",
              "      padding: 0 0 0 0;\n",
              "      width: 32px;\n",
              "    }\n",
              "\n",
              "    .colab-df-convert:hover {\n",
              "      background-color: #E2EBFA;\n",
              "      box-shadow: 0px 1px 2px rgba(60, 64, 67, 0.3), 0px 1px 3px 1px rgba(60, 64, 67, 0.15);\n",
              "      fill: #174EA6;\n",
              "    }\n",
              "\n",
              "    [theme=dark] .colab-df-convert {\n",
              "      background-color: #3B4455;\n",
              "      fill: #D2E3FC;\n",
              "    }\n",
              "\n",
              "    [theme=dark] .colab-df-convert:hover {\n",
              "      background-color: #434B5C;\n",
              "      box-shadow: 0px 1px 3px 1px rgba(0, 0, 0, 0.15);\n",
              "      filter: drop-shadow(0px 1px 2px rgba(0, 0, 0, 0.3));\n",
              "      fill: #FFFFFF;\n",
              "    }\n",
              "  </style>\n",
              "\n",
              "      <script>\n",
              "        const buttonEl =\n",
              "          document.querySelector('#df-0a8c11e5-b9c9-4a1f-9927-e8df60814024 button.colab-df-convert');\n",
              "        buttonEl.style.display =\n",
              "          google.colab.kernel.accessAllowed ? 'block' : 'none';\n",
              "\n",
              "        async function convertToInteractive(key) {\n",
              "          const element = document.querySelector('#df-0a8c11e5-b9c9-4a1f-9927-e8df60814024');\n",
              "          const dataTable =\n",
              "            await google.colab.kernel.invokeFunction('convertToInteractive',\n",
              "                                                     [key], {});\n",
              "          if (!dataTable) return;\n",
              "\n",
              "          const docLinkHtml = 'Like what you see? Visit the ' +\n",
              "            '<a target=\"_blank\" href=https://colab.research.google.com/notebooks/data_table.ipynb>data table notebook</a>'\n",
              "            + ' to learn more about interactive tables.';\n",
              "          element.innerHTML = '';\n",
              "          dataTable['output_type'] = 'display_data';\n",
              "          await google.colab.output.renderOutput(dataTable, element);\n",
              "          const docLink = document.createElement('div');\n",
              "          docLink.innerHTML = docLinkHtml;\n",
              "          element.appendChild(docLink);\n",
              "        }\n",
              "      </script>\n",
              "    </div>\n",
              "  </div>\n",
              "  "
            ],
            "text/plain": [
              "   UserId  Gender              DateOfBirth  PremiumPupil\n",
              "0   58022       2  2006-08-01 00:00:00.000           1.0\n",
              "1  104674       0                      NaN           NaN\n",
              "2   32020       2  2008-11-01 00:00:00.000           1.0\n",
              "3   81780       2  2004-07-01 00:00:00.000           NaN\n",
              "4   99967       0                      NaN           NaN\n",
              "5   82944       2  2005-05-01 00:00:00.000           0.0\n",
              "6   77439       1  2002-11-01 00:00:00.000           NaN\n",
              "7   91470       1  2006-10-01 00:00:00.000           NaN\n",
              "8   13893       2  2006-10-01 00:00:00.000           0.0\n",
              "9   17714       0                      NaN           NaN"
            ]
          },
          "execution_count": 9,
          "metadata": {},
          "output_type": "execute_result"
        }
      ],
      "source": [
        "dfStudent = pd.read_csv('/content/drive/MyDrive/student_metadata_task_1_2.csv')\n",
        "dfStudent.head(10)"
      ]
    },
    {
      "cell_type": "code",
      "execution_count": null,
      "metadata": {
        "colab": {
          "base_uri": "https://localhost:8080/"
        },
        "id": "Kakb9lw_0mkG",
        "outputId": "d72909e8-2cb1-43fd-f3f5-3873c57b4f3b"
      },
      "outputs": [
        {
          "data": {
            "text/plain": [
              "(118971, 4)"
            ]
          },
          "execution_count": 10,
          "metadata": {},
          "output_type": "execute_result"
        }
      ],
      "source": [
        "dfStudent.shape"
      ]
    },
    {
      "cell_type": "code",
      "execution_count": null,
      "metadata": {
        "colab": {
          "base_uri": "https://localhost:8080/"
        },
        "id": "Pu2Lelw60tRf",
        "outputId": "91eff404-a0fe-421b-cf1a-84c6962398a5"
      },
      "outputs": [
        {
          "data": {
            "text/plain": [
              "Index(['UserId', 'Gender', 'DateOfBirth', 'PremiumPupil'], dtype='object')"
            ]
          },
          "execution_count": 11,
          "metadata": {},
          "output_type": "execute_result"
        }
      ],
      "source": [
        "dfStudent.columns"
      ]
    },
    {
      "cell_type": "code",
      "execution_count": null,
      "metadata": {
        "colab": {
          "base_uri": "https://localhost:8080/",
          "height": 206
        },
        "id": "EM4CjwdZt4Dn",
        "outputId": "3157cfd9-8a45-4dde-aa2e-19d414802cea"
      },
      "outputs": [
        {
          "data": {
            "text/html": [
              "\n",
              "  <div id=\"df-f0347373-4c39-4067-9151-7da0db541254\">\n",
              "    <div class=\"colab-df-container\">\n",
              "      <div>\n",
              "<style scoped>\n",
              "    .dataframe tbody tr th:only-of-type {\n",
              "        vertical-align: middle;\n",
              "    }\n",
              "\n",
              "    .dataframe tbody tr th {\n",
              "        vertical-align: top;\n",
              "    }\n",
              "\n",
              "    .dataframe thead th {\n",
              "        text-align: right;\n",
              "    }\n",
              "</style>\n",
              "<table border=\"1\" class=\"dataframe\">\n",
              "  <thead>\n",
              "    <tr style=\"text-align: right;\">\n",
              "      <th></th>\n",
              "      <th>QuestionId</th>\n",
              "      <th>SubjectId</th>\n",
              "    </tr>\n",
              "  </thead>\n",
              "  <tbody>\n",
              "    <tr>\n",
              "      <th>0</th>\n",
              "      <td>13090</td>\n",
              "      <td>[3, 32, 71, 77, 141, 185, 186, 214]</td>\n",
              "    </tr>\n",
              "    <tr>\n",
              "      <th>1</th>\n",
              "      <td>1855</td>\n",
              "      <td>[3, 71, 75, 86, 178]</td>\n",
              "    </tr>\n",
              "    <tr>\n",
              "      <th>2</th>\n",
              "      <td>10423</td>\n",
              "      <td>[3, 32, 38, 239]</td>\n",
              "    </tr>\n",
              "    <tr>\n",
              "      <th>3</th>\n",
              "      <td>2290</td>\n",
              "      <td>[3, 32, 33, 144]</td>\n",
              "    </tr>\n",
              "    <tr>\n",
              "      <th>4</th>\n",
              "      <td>12785</td>\n",
              "      <td>[3, 32, 33, 144]</td>\n",
              "    </tr>\n",
              "  </tbody>\n",
              "</table>\n",
              "</div>\n",
              "      <button class=\"colab-df-convert\" onclick=\"convertToInteractive('df-f0347373-4c39-4067-9151-7da0db541254')\"\n",
              "              title=\"Convert this dataframe to an interactive table.\"\n",
              "              style=\"display:none;\">\n",
              "        \n",
              "  <svg xmlns=\"http://www.w3.org/2000/svg\" height=\"24px\"viewBox=\"0 0 24 24\"\n",
              "       width=\"24px\">\n",
              "    <path d=\"M0 0h24v24H0V0z\" fill=\"none\"/>\n",
              "    <path d=\"M18.56 5.44l.94 2.06.94-2.06 2.06-.94-2.06-.94-.94-2.06-.94 2.06-2.06.94zm-11 1L8.5 8.5l.94-2.06 2.06-.94-2.06-.94L8.5 2.5l-.94 2.06-2.06.94zm10 10l.94 2.06.94-2.06 2.06-.94-2.06-.94-.94-2.06-.94 2.06-2.06.94z\"/><path d=\"M17.41 7.96l-1.37-1.37c-.4-.4-.92-.59-1.43-.59-.52 0-1.04.2-1.43.59L10.3 9.45l-7.72 7.72c-.78.78-.78 2.05 0 2.83L4 21.41c.39.39.9.59 1.41.59.51 0 1.02-.2 1.41-.59l7.78-7.78 2.81-2.81c.8-.78.8-2.07 0-2.86zM5.41 20L4 18.59l7.72-7.72 1.47 1.35L5.41 20z\"/>\n",
              "  </svg>\n",
              "      </button>\n",
              "      \n",
              "  <style>\n",
              "    .colab-df-container {\n",
              "      display:flex;\n",
              "      flex-wrap:wrap;\n",
              "      gap: 12px;\n",
              "    }\n",
              "\n",
              "    .colab-df-convert {\n",
              "      background-color: #E8F0FE;\n",
              "      border: none;\n",
              "      border-radius: 50%;\n",
              "      cursor: pointer;\n",
              "      display: none;\n",
              "      fill: #1967D2;\n",
              "      height: 32px;\n",
              "      padding: 0 0 0 0;\n",
              "      width: 32px;\n",
              "    }\n",
              "\n",
              "    .colab-df-convert:hover {\n",
              "      background-color: #E2EBFA;\n",
              "      box-shadow: 0px 1px 2px rgba(60, 64, 67, 0.3), 0px 1px 3px 1px rgba(60, 64, 67, 0.15);\n",
              "      fill: #174EA6;\n",
              "    }\n",
              "\n",
              "    [theme=dark] .colab-df-convert {\n",
              "      background-color: #3B4455;\n",
              "      fill: #D2E3FC;\n",
              "    }\n",
              "\n",
              "    [theme=dark] .colab-df-convert:hover {\n",
              "      background-color: #434B5C;\n",
              "      box-shadow: 0px 1px 3px 1px rgba(0, 0, 0, 0.15);\n",
              "      filter: drop-shadow(0px 1px 2px rgba(0, 0, 0, 0.3));\n",
              "      fill: #FFFFFF;\n",
              "    }\n",
              "  </style>\n",
              "\n",
              "      <script>\n",
              "        const buttonEl =\n",
              "          document.querySelector('#df-f0347373-4c39-4067-9151-7da0db541254 button.colab-df-convert');\n",
              "        buttonEl.style.display =\n",
              "          google.colab.kernel.accessAllowed ? 'block' : 'none';\n",
              "\n",
              "        async function convertToInteractive(key) {\n",
              "          const element = document.querySelector('#df-f0347373-4c39-4067-9151-7da0db541254');\n",
              "          const dataTable =\n",
              "            await google.colab.kernel.invokeFunction('convertToInteractive',\n",
              "                                                     [key], {});\n",
              "          if (!dataTable) return;\n",
              "\n",
              "          const docLinkHtml = 'Like what you see? Visit the ' +\n",
              "            '<a target=\"_blank\" href=https://colab.research.google.com/notebooks/data_table.ipynb>data table notebook</a>'\n",
              "            + ' to learn more about interactive tables.';\n",
              "          element.innerHTML = '';\n",
              "          dataTable['output_type'] = 'display_data';\n",
              "          await google.colab.output.renderOutput(dataTable, element);\n",
              "          const docLink = document.createElement('div');\n",
              "          docLink.innerHTML = docLinkHtml;\n",
              "          element.appendChild(docLink);\n",
              "        }\n",
              "      </script>\n",
              "    </div>\n",
              "  </div>\n",
              "  "
            ],
            "text/plain": [
              "   QuestionId                            SubjectId\n",
              "0       13090  [3, 32, 71, 77, 141, 185, 186, 214]\n",
              "1        1855                 [3, 71, 75, 86, 178]\n",
              "2       10423                     [3, 32, 38, 239]\n",
              "3        2290                     [3, 32, 33, 144]\n",
              "4       12785                     [3, 32, 33, 144]"
            ]
          },
          "execution_count": 12,
          "metadata": {},
          "output_type": "execute_result"
        }
      ],
      "source": [
        "dfQuestions = pd.read_csv('/content/drive/MyDrive/question_metadata_task_1_2.csv')\n",
        "dfQuestions.head()"
      ]
    },
    {
      "cell_type": "code",
      "execution_count": null,
      "metadata": {
        "colab": {
          "base_uri": "https://localhost:8080/"
        },
        "id": "M8LGQRiWmvbq",
        "outputId": "ee1babf3-5269-4706-ff20-aa60ca5b477b"
      },
      "outputs": [
        {
          "data": {
            "text/plain": [
              "(27613, 2)"
            ]
          },
          "execution_count": 13,
          "metadata": {},
          "output_type": "execute_result"
        }
      ],
      "source": [
        "dfQuestions.shape"
      ]
    },
    {
      "cell_type": "code",
      "execution_count": null,
      "metadata": {
        "colab": {
          "base_uri": "https://localhost:8080/"
        },
        "id": "G4VPncwO-BXI",
        "outputId": "3d904fd7-796f-4eb7-a053-92f95827a9d4"
      },
      "outputs": [
        {
          "name": "stdout",
          "output_type": "stream",
          "text": [
            "<class 'pandas.core.frame.DataFrame'>\n",
            "RangeIndex: 27613 entries, 0 to 27612\n",
            "Data columns (total 2 columns):\n",
            " #   Column      Non-Null Count  Dtype \n",
            "---  ------      --------------  ----- \n",
            " 0   QuestionId  27613 non-null  int64 \n",
            " 1   SubjectId   27613 non-null  object\n",
            "dtypes: int64(1), object(1)\n",
            "memory usage: 431.6+ KB\n"
          ]
        }
      ],
      "source": [
        "dfQuestions.info()"
      ]
    },
    {
      "cell_type": "markdown",
      "metadata": {
        "id": "vioq_WBsEJSw"
      },
      "source": [
        "**Merge Data**"
      ]
    },
    {
      "cell_type": "code",
      "execution_count": null,
      "metadata": {
        "id": "ZgYJ0cvsELbW"
      },
      "outputs": [],
      "source": [
        "# Merge train dataset with Answers and Students metadata\n",
        "dftrain_Answer =data.join(dfAnswer, on='AnswerId', how='left', rsuffix='1').drop('AnswerId1', axis=1)\n",
        "dftrain_Answer_student = dftrain_Answer.join(dfStudent,on='UserId', how='left', rsuffix='1').drop('UserId1', axis=1)\n"
      ]
    },
    {
      "cell_type": "code",
      "execution_count": null,
      "metadata": {
        "colab": {
          "base_uri": "https://localhost:8080/",
          "height": 580
        },
        "id": "7uhYUo0wMKyz",
        "outputId": "2628ce79-67d8-466c-8398-4186a1807165"
      },
      "outputs": [
        {
          "data": {
            "text/html": [
              "\n",
              "  <div id=\"df-e6ca3d11-f1d4-4f5f-adfd-c1da9912b6af\">\n",
              "    <div class=\"colab-df-container\">\n",
              "      <div>\n",
              "<style scoped>\n",
              "    .dataframe tbody tr th:only-of-type {\n",
              "        vertical-align: middle;\n",
              "    }\n",
              "\n",
              "    .dataframe tbody tr th {\n",
              "        vertical-align: top;\n",
              "    }\n",
              "\n",
              "    .dataframe thead th {\n",
              "        text-align: right;\n",
              "    }\n",
              "</style>\n",
              "<table border=\"1\" class=\"dataframe\">\n",
              "  <thead>\n",
              "    <tr style=\"text-align: right;\">\n",
              "      <th></th>\n",
              "      <th>QuestionId</th>\n",
              "      <th>UserId</th>\n",
              "      <th>AnswerId</th>\n",
              "      <th>IsCorrect</th>\n",
              "      <th>CorrectAnswer</th>\n",
              "      <th>AnswerValue</th>\n",
              "      <th>DateAnswered</th>\n",
              "      <th>Confidence</th>\n",
              "      <th>GroupId</th>\n",
              "      <th>QuizId</th>\n",
              "      <th>SchemeOfWorkId</th>\n",
              "      <th>Gender</th>\n",
              "      <th>DateOfBirth</th>\n",
              "      <th>PremiumPupil</th>\n",
              "      <th>SubjectId</th>\n",
              "    </tr>\n",
              "  </thead>\n",
              "  <tbody>\n",
              "    <tr>\n",
              "      <th>11142821</th>\n",
              "      <td>8026</td>\n",
              "      <td>95738</td>\n",
              "      <td>14921119</td>\n",
              "      <td>1</td>\n",
              "      <td>3</td>\n",
              "      <td>3</td>\n",
              "      <td>2018-11-13 19:36:00.000</td>\n",
              "      <td>NaN</td>\n",
              "      <td>4698</td>\n",
              "      <td>5203</td>\n",
              "      <td>8418.0</td>\n",
              "      <td>0</td>\n",
              "      <td>NaN</td>\n",
              "      <td>NaN</td>\n",
              "      <td>[3, 49, 59, 168]</td>\n",
              "    </tr>\n",
              "    <tr>\n",
              "      <th>5938454</th>\n",
              "      <td>19269</td>\n",
              "      <td>96922</td>\n",
              "      <td>11471165</td>\n",
              "      <td>1</td>\n",
              "      <td>4</td>\n",
              "      <td>4</td>\n",
              "      <td>2019-07-04 22:34:00.000</td>\n",
              "      <td>NaN</td>\n",
              "      <td>9473</td>\n",
              "      <td>14751</td>\n",
              "      <td>NaN</td>\n",
              "      <td>0</td>\n",
              "      <td>NaN</td>\n",
              "      <td>NaN</td>\n",
              "      <td>[3, 32, 46, 334]</td>\n",
              "    </tr>\n",
              "    <tr>\n",
              "      <th>14992662</th>\n",
              "      <td>13759</td>\n",
              "      <td>76059</td>\n",
              "      <td>6638933</td>\n",
              "      <td>1</td>\n",
              "      <td>4</td>\n",
              "      <td>4</td>\n",
              "      <td>2020-01-23 06:30:00.000</td>\n",
              "      <td>NaN</td>\n",
              "      <td>2111</td>\n",
              "      <td>7605</td>\n",
              "      <td>NaN</td>\n",
              "      <td>1</td>\n",
              "      <td>2003-10-01 00:00:00.000</td>\n",
              "      <td>1.0</td>\n",
              "      <td>[3, 32, 144, 204]</td>\n",
              "    </tr>\n",
              "    <tr>\n",
              "      <th>9434683</th>\n",
              "      <td>6081</td>\n",
              "      <td>81285</td>\n",
              "      <td>18661085</td>\n",
              "      <td>1</td>\n",
              "      <td>3</td>\n",
              "      <td>3</td>\n",
              "      <td>2018-11-30 07:52:00.000</td>\n",
              "      <td>NaN</td>\n",
              "      <td>11782</td>\n",
              "      <td>12467</td>\n",
              "      <td>NaN</td>\n",
              "      <td>2</td>\n",
              "      <td>2004-04-01 00:00:00.000</td>\n",
              "      <td>1.0</td>\n",
              "      <td>[3, 49, 69, 154]</td>\n",
              "    </tr>\n",
              "    <tr>\n",
              "      <th>11034072</th>\n",
              "      <td>26893</td>\n",
              "      <td>68491</td>\n",
              "      <td>2538751</td>\n",
              "      <td>0</td>\n",
              "      <td>4</td>\n",
              "      <td>3</td>\n",
              "      <td>2019-11-29 11:56:00.000</td>\n",
              "      <td>NaN</td>\n",
              "      <td>10690</td>\n",
              "      <td>15533</td>\n",
              "      <td>NaN</td>\n",
              "      <td>2</td>\n",
              "      <td>2009-12-01 00:00:00.000</td>\n",
              "      <td>0.0</td>\n",
              "      <td>[3, 49, 65, 154]</td>\n",
              "    </tr>\n",
              "    <tr>\n",
              "      <th>14902608</th>\n",
              "      <td>24479</td>\n",
              "      <td>34261</td>\n",
              "      <td>6990825</td>\n",
              "      <td>1</td>\n",
              "      <td>3</td>\n",
              "      <td>3</td>\n",
              "      <td>2018-11-17 09:14:00.000</td>\n",
              "      <td>NaN</td>\n",
              "      <td>3630</td>\n",
              "      <td>6066</td>\n",
              "      <td>NaN</td>\n",
              "      <td>0</td>\n",
              "      <td>NaN</td>\n",
              "      <td>NaN</td>\n",
              "      <td>[3, 49, 64, 154]</td>\n",
              "    </tr>\n",
              "    <tr>\n",
              "      <th>14641752</th>\n",
              "      <td>25889</td>\n",
              "      <td>98737</td>\n",
              "      <td>11589545</td>\n",
              "      <td>1</td>\n",
              "      <td>1</td>\n",
              "      <td>1</td>\n",
              "      <td>2020-03-02 10:48:00.000</td>\n",
              "      <td>NaN</td>\n",
              "      <td>388</td>\n",
              "      <td>1919</td>\n",
              "      <td>28237.0</td>\n",
              "      <td>2</td>\n",
              "      <td>NaN</td>\n",
              "      <td>NaN</td>\n",
              "      <td>[3, 32, 1980]</td>\n",
              "    </tr>\n",
              "    <tr>\n",
              "      <th>3316249</th>\n",
              "      <td>14613</td>\n",
              "      <td>21119</td>\n",
              "      <td>6110841</td>\n",
              "      <td>1</td>\n",
              "      <td>2</td>\n",
              "      <td>2</td>\n",
              "      <td>2019-02-26 10:19:00.000</td>\n",
              "      <td>NaN</td>\n",
              "      <td>6861</td>\n",
              "      <td>12387</td>\n",
              "      <td>NaN</td>\n",
              "      <td>1</td>\n",
              "      <td>2004-02-01 00:00:00.000</td>\n",
              "      <td>NaN</td>\n",
              "      <td>[3, 32, 144, 203]</td>\n",
              "    </tr>\n",
              "    <tr>\n",
              "      <th>8891769</th>\n",
              "      <td>12276</td>\n",
              "      <td>9703</td>\n",
              "      <td>12940451</td>\n",
              "      <td>1</td>\n",
              "      <td>4</td>\n",
              "      <td>4</td>\n",
              "      <td>2019-11-30 15:14:00.000</td>\n",
              "      <td>75.0</td>\n",
              "      <td>4882</td>\n",
              "      <td>16390</td>\n",
              "      <td>8388.0</td>\n",
              "      <td>0</td>\n",
              "      <td>NaN</td>\n",
              "      <td>NaN</td>\n",
              "      <td>[3, 32, 42, 211]</td>\n",
              "    </tr>\n",
              "    <tr>\n",
              "      <th>5078871</th>\n",
              "      <td>14257</td>\n",
              "      <td>81849</td>\n",
              "      <td>12705910</td>\n",
              "      <td>1</td>\n",
              "      <td>3</td>\n",
              "      <td>3</td>\n",
              "      <td>2019-02-24 17:28:00.000</td>\n",
              "      <td>NaN</td>\n",
              "      <td>11698</td>\n",
              "      <td>6688</td>\n",
              "      <td>8380.0</td>\n",
              "      <td>2</td>\n",
              "      <td>2004-09-01 00:00:00.000</td>\n",
              "      <td>0.0</td>\n",
              "      <td>[3, 32, 141, 213]</td>\n",
              "    </tr>\n",
              "  </tbody>\n",
              "</table>\n",
              "</div>\n",
              "      <button class=\"colab-df-convert\" onclick=\"convertToInteractive('df-e6ca3d11-f1d4-4f5f-adfd-c1da9912b6af')\"\n",
              "              title=\"Convert this dataframe to an interactive table.\"\n",
              "              style=\"display:none;\">\n",
              "        \n",
              "  <svg xmlns=\"http://www.w3.org/2000/svg\" height=\"24px\"viewBox=\"0 0 24 24\"\n",
              "       width=\"24px\">\n",
              "    <path d=\"M0 0h24v24H0V0z\" fill=\"none\"/>\n",
              "    <path d=\"M18.56 5.44l.94 2.06.94-2.06 2.06-.94-2.06-.94-.94-2.06-.94 2.06-2.06.94zm-11 1L8.5 8.5l.94-2.06 2.06-.94-2.06-.94L8.5 2.5l-.94 2.06-2.06.94zm10 10l.94 2.06.94-2.06 2.06-.94-2.06-.94-.94-2.06-.94 2.06-2.06.94z\"/><path d=\"M17.41 7.96l-1.37-1.37c-.4-.4-.92-.59-1.43-.59-.52 0-1.04.2-1.43.59L10.3 9.45l-7.72 7.72c-.78.78-.78 2.05 0 2.83L4 21.41c.39.39.9.59 1.41.59.51 0 1.02-.2 1.41-.59l7.78-7.78 2.81-2.81c.8-.78.8-2.07 0-2.86zM5.41 20L4 18.59l7.72-7.72 1.47 1.35L5.41 20z\"/>\n",
              "  </svg>\n",
              "      </button>\n",
              "      \n",
              "  <style>\n",
              "    .colab-df-container {\n",
              "      display:flex;\n",
              "      flex-wrap:wrap;\n",
              "      gap: 12px;\n",
              "    }\n",
              "\n",
              "    .colab-df-convert {\n",
              "      background-color: #E8F0FE;\n",
              "      border: none;\n",
              "      border-radius: 50%;\n",
              "      cursor: pointer;\n",
              "      display: none;\n",
              "      fill: #1967D2;\n",
              "      height: 32px;\n",
              "      padding: 0 0 0 0;\n",
              "      width: 32px;\n",
              "    }\n",
              "\n",
              "    .colab-df-convert:hover {\n",
              "      background-color: #E2EBFA;\n",
              "      box-shadow: 0px 1px 2px rgba(60, 64, 67, 0.3), 0px 1px 3px 1px rgba(60, 64, 67, 0.15);\n",
              "      fill: #174EA6;\n",
              "    }\n",
              "\n",
              "    [theme=dark] .colab-df-convert {\n",
              "      background-color: #3B4455;\n",
              "      fill: #D2E3FC;\n",
              "    }\n",
              "\n",
              "    [theme=dark] .colab-df-convert:hover {\n",
              "      background-color: #434B5C;\n",
              "      box-shadow: 0px 1px 3px 1px rgba(0, 0, 0, 0.15);\n",
              "      filter: drop-shadow(0px 1px 2px rgba(0, 0, 0, 0.3));\n",
              "      fill: #FFFFFF;\n",
              "    }\n",
              "  </style>\n",
              "\n",
              "      <script>\n",
              "        const buttonEl =\n",
              "          document.querySelector('#df-e6ca3d11-f1d4-4f5f-adfd-c1da9912b6af button.colab-df-convert');\n",
              "        buttonEl.style.display =\n",
              "          google.colab.kernel.accessAllowed ? 'block' : 'none';\n",
              "\n",
              "        async function convertToInteractive(key) {\n",
              "          const element = document.querySelector('#df-e6ca3d11-f1d4-4f5f-adfd-c1da9912b6af');\n",
              "          const dataTable =\n",
              "            await google.colab.kernel.invokeFunction('convertToInteractive',\n",
              "                                                     [key], {});\n",
              "          if (!dataTable) return;\n",
              "\n",
              "          const docLinkHtml = 'Like what you see? Visit the ' +\n",
              "            '<a target=\"_blank\" href=https://colab.research.google.com/notebooks/data_table.ipynb>data table notebook</a>'\n",
              "            + ' to learn more about interactive tables.';\n",
              "          element.innerHTML = '';\n",
              "          dataTable['output_type'] = 'display_data';\n",
              "          await google.colab.output.renderOutput(dataTable, element);\n",
              "          const docLink = document.createElement('div');\n",
              "          docLink.innerHTML = docLinkHtml;\n",
              "          element.appendChild(docLink);\n",
              "        }\n",
              "      </script>\n",
              "    </div>\n",
              "  </div>\n",
              "  "
            ],
            "text/plain": [
              "          QuestionId  UserId  AnswerId  IsCorrect  CorrectAnswer  AnswerValue  \\\n",
              "11142821        8026   95738  14921119          1              3            3   \n",
              "5938454        19269   96922  11471165          1              4            4   \n",
              "14992662       13759   76059   6638933          1              4            4   \n",
              "9434683         6081   81285  18661085          1              3            3   \n",
              "11034072       26893   68491   2538751          0              4            3   \n",
              "14902608       24479   34261   6990825          1              3            3   \n",
              "14641752       25889   98737  11589545          1              1            1   \n",
              "3316249        14613   21119   6110841          1              2            2   \n",
              "8891769        12276    9703  12940451          1              4            4   \n",
              "5078871        14257   81849  12705910          1              3            3   \n",
              "\n",
              "                     DateAnswered  Confidence  GroupId  QuizId  \\\n",
              "11142821  2018-11-13 19:36:00.000         NaN     4698    5203   \n",
              "5938454   2019-07-04 22:34:00.000         NaN     9473   14751   \n",
              "14992662  2020-01-23 06:30:00.000         NaN     2111    7605   \n",
              "9434683   2018-11-30 07:52:00.000         NaN    11782   12467   \n",
              "11034072  2019-11-29 11:56:00.000         NaN    10690   15533   \n",
              "14902608  2018-11-17 09:14:00.000         NaN     3630    6066   \n",
              "14641752  2020-03-02 10:48:00.000         NaN      388    1919   \n",
              "3316249   2019-02-26 10:19:00.000         NaN     6861   12387   \n",
              "8891769   2019-11-30 15:14:00.000        75.0     4882   16390   \n",
              "5078871   2019-02-24 17:28:00.000         NaN    11698    6688   \n",
              "\n",
              "          SchemeOfWorkId  Gender              DateOfBirth  PremiumPupil  \\\n",
              "11142821          8418.0       0                      NaN           NaN   \n",
              "5938454              NaN       0                      NaN           NaN   \n",
              "14992662             NaN       1  2003-10-01 00:00:00.000           1.0   \n",
              "9434683              NaN       2  2004-04-01 00:00:00.000           1.0   \n",
              "11034072             NaN       2  2009-12-01 00:00:00.000           0.0   \n",
              "14902608             NaN       0                      NaN           NaN   \n",
              "14641752         28237.0       2                      NaN           NaN   \n",
              "3316249              NaN       1  2004-02-01 00:00:00.000           NaN   \n",
              "8891769           8388.0       0                      NaN           NaN   \n",
              "5078871           8380.0       2  2004-09-01 00:00:00.000           0.0   \n",
              "\n",
              "                  SubjectId  \n",
              "11142821   [3, 49, 59, 168]  \n",
              "5938454    [3, 32, 46, 334]  \n",
              "14992662  [3, 32, 144, 204]  \n",
              "9434683    [3, 49, 69, 154]  \n",
              "11034072   [3, 49, 65, 154]  \n",
              "14902608   [3, 49, 64, 154]  \n",
              "14641752      [3, 32, 1980]  \n",
              "3316249   [3, 32, 144, 203]  \n",
              "8891769    [3, 32, 42, 211]  \n",
              "5078871   [3, 32, 141, 213]  "
            ]
          },
          "execution_count": 16,
          "metadata": {},
          "output_type": "execute_result"
        }
      ],
      "source": [
        "# Merge dataset with Questions metadata and get the final dataset\n",
        "df = dftrain_Answer_student.join(dfQuestions,on='QuestionId', how='left', rsuffix='1').drop('QuestionId1', axis=1)\n",
        "df.head(10)"
      ]
    },
    {
      "cell_type": "markdown",
      "metadata": {
        "id": "YrUtukyeZVlb"
      },
      "source": [
        "**Explore data**"
      ]
    },
    {
      "cell_type": "code",
      "execution_count": null,
      "metadata": {
        "colab": {
          "base_uri": "https://localhost:8080/"
        },
        "id": "yS48blmGNwm9",
        "outputId": "580b4df4-6020-4609-ef1b-9349212b643d"
      },
      "outputs": [
        {
          "name": "stdout",
          "output_type": "stream",
          "text": [
            "<class 'pandas.core.frame.DataFrame'>\n",
            "Int64Index: 100000 entries, 11142821 to 14712046\n",
            "Data columns (total 15 columns):\n",
            " #   Column          Non-Null Count   Dtype  \n",
            "---  ------          --------------   -----  \n",
            " 0   QuestionId      100000 non-null  int64  \n",
            " 1   UserId          100000 non-null  int64  \n",
            " 2   AnswerId        100000 non-null  int64  \n",
            " 3   IsCorrect       100000 non-null  int64  \n",
            " 4   CorrectAnswer   100000 non-null  int64  \n",
            " 5   AnswerValue     100000 non-null  int64  \n",
            " 6   DateAnswered    100000 non-null  object \n",
            " 7   Confidence      9456 non-null    float64\n",
            " 8   GroupId         100000 non-null  int64  \n",
            " 9   QuizId          100000 non-null  int64  \n",
            " 10  SchemeOfWorkId  49090 non-null   float64\n",
            " 11  Gender          100000 non-null  int64  \n",
            " 12  DateOfBirth     67949 non-null   object \n",
            " 13  PremiumPupil    28949 non-null   float64\n",
            " 14  SubjectId       100000 non-null  object \n",
            "dtypes: float64(3), int64(9), object(3)\n",
            "memory usage: 12.2+ MB\n"
          ]
        }
      ],
      "source": [
        "df.info()"
      ]
    },
    {
      "cell_type": "code",
      "execution_count": null,
      "metadata": {
        "colab": {
          "base_uri": "https://localhost:8080/",
          "height": 344
        },
        "id": "rL03iOT9l4sa",
        "outputId": "7b9215a3-91d6-464f-9059-6d0122a362bc"
      },
      "outputs": [
        {
          "data": {
            "text/html": [
              "\n",
              "  <div id=\"df-5e9c8ca2-86dc-4452-8ec2-ce14856c8d3a\">\n",
              "    <div class=\"colab-df-container\">\n",
              "      <div>\n",
              "<style scoped>\n",
              "    .dataframe tbody tr th:only-of-type {\n",
              "        vertical-align: middle;\n",
              "    }\n",
              "\n",
              "    .dataframe tbody tr th {\n",
              "        vertical-align: top;\n",
              "    }\n",
              "\n",
              "    .dataframe thead th {\n",
              "        text-align: right;\n",
              "    }\n",
              "</style>\n",
              "<table border=\"1\" class=\"dataframe\">\n",
              "  <thead>\n",
              "    <tr style=\"text-align: right;\">\n",
              "      <th></th>\n",
              "      <th>QuestionId</th>\n",
              "      <th>UserId</th>\n",
              "      <th>AnswerId</th>\n",
              "      <th>IsCorrect</th>\n",
              "      <th>CorrectAnswer</th>\n",
              "      <th>AnswerValue</th>\n",
              "      <th>Confidence</th>\n",
              "      <th>GroupId</th>\n",
              "      <th>QuizId</th>\n",
              "      <th>SchemeOfWorkId</th>\n",
              "      <th>Gender</th>\n",
              "      <th>PremiumPupil</th>\n",
              "    </tr>\n",
              "  </thead>\n",
              "  <tbody>\n",
              "    <tr>\n",
              "      <th>count</th>\n",
              "      <td>100000.000000</td>\n",
              "      <td>100000.000000</td>\n",
              "      <td>1.000000e+05</td>\n",
              "      <td>100000.000000</td>\n",
              "      <td>100000.000000</td>\n",
              "      <td>100000.000000</td>\n",
              "      <td>9456.000000</td>\n",
              "      <td>100000.000000</td>\n",
              "      <td>100000.000000</td>\n",
              "      <td>49090.000000</td>\n",
              "      <td>100000.000000</td>\n",
              "      <td>28949.000000</td>\n",
              "    </tr>\n",
              "    <tr>\n",
              "      <th>mean</th>\n",
              "      <td>13827.971960</td>\n",
              "      <td>59495.325310</td>\n",
              "      <td>9.921037e+06</td>\n",
              "      <td>0.644340</td>\n",
              "      <td>2.506510</td>\n",
              "      <td>2.496510</td>\n",
              "      <td>75.039657</td>\n",
              "      <td>5616.828220</td>\n",
              "      <td>8514.253100</td>\n",
              "      <td>17214.144021</td>\n",
              "      <td>1.135850</td>\n",
              "      <td>0.255415</td>\n",
              "    </tr>\n",
              "    <tr>\n",
              "      <th>std</th>\n",
              "      <td>7973.706964</td>\n",
              "      <td>34170.141305</td>\n",
              "      <td>5.741623e+06</td>\n",
              "      <td>0.478715</td>\n",
              "      <td>1.105726</td>\n",
              "      <td>1.095783</td>\n",
              "      <td>31.156299</td>\n",
              "      <td>3403.066495</td>\n",
              "      <td>4998.459852</td>\n",
              "      <td>13403.117106</td>\n",
              "      <td>0.765533</td>\n",
              "      <td>0.436102</td>\n",
              "    </tr>\n",
              "    <tr>\n",
              "      <th>min</th>\n",
              "      <td>0.000000</td>\n",
              "      <td>0.000000</td>\n",
              "      <td>3.940000e+02</td>\n",
              "      <td>0.000000</td>\n",
              "      <td>1.000000</td>\n",
              "      <td>1.000000</td>\n",
              "      <td>0.000000</td>\n",
              "      <td>0.000000</td>\n",
              "      <td>0.000000</td>\n",
              "      <td>7.000000</td>\n",
              "      <td>0.000000</td>\n",
              "      <td>0.000000</td>\n",
              "    </tr>\n",
              "    <tr>\n",
              "      <th>25%</th>\n",
              "      <td>6876.000000</td>\n",
              "      <td>30018.000000</td>\n",
              "      <td>4.933170e+06</td>\n",
              "      <td>0.000000</td>\n",
              "      <td>2.000000</td>\n",
              "      <td>2.000000</td>\n",
              "      <td>50.000000</td>\n",
              "      <td>2580.000000</td>\n",
              "      <td>4083.000000</td>\n",
              "      <td>8386.000000</td>\n",
              "      <td>1.000000</td>\n",
              "      <td>0.000000</td>\n",
              "    </tr>\n",
              "    <tr>\n",
              "      <th>50%</th>\n",
              "      <td>13868.000000</td>\n",
              "      <td>59599.500000</td>\n",
              "      <td>9.922386e+06</td>\n",
              "      <td>1.000000</td>\n",
              "      <td>3.000000</td>\n",
              "      <td>3.000000</td>\n",
              "      <td>75.000000</td>\n",
              "      <td>5273.000000</td>\n",
              "      <td>8396.000000</td>\n",
              "      <td>8418.000000</td>\n",
              "      <td>1.000000</td>\n",
              "      <td>0.000000</td>\n",
              "    </tr>\n",
              "    <tr>\n",
              "      <th>75%</th>\n",
              "      <td>20736.250000</td>\n",
              "      <td>88991.000000</td>\n",
              "      <td>1.491413e+07</td>\n",
              "      <td>1.000000</td>\n",
              "      <td>3.000000</td>\n",
              "      <td>3.000000</td>\n",
              "      <td>100.000000</td>\n",
              "      <td>8623.000000</td>\n",
              "      <td>12849.000000</td>\n",
              "      <td>28228.000000</td>\n",
              "      <td>2.000000</td>\n",
              "      <td>1.000000</td>\n",
              "    </tr>\n",
              "    <tr>\n",
              "      <th>max</th>\n",
              "      <td>27612.000000</td>\n",
              "      <td>118970.000000</td>\n",
              "      <td>1.983471e+07</td>\n",
              "      <td>1.000000</td>\n",
              "      <td>4.000000</td>\n",
              "      <td>4.000000</td>\n",
              "      <td>100.000000</td>\n",
              "      <td>11842.000000</td>\n",
              "      <td>17302.000000</td>\n",
              "      <td>66488.000000</td>\n",
              "      <td>3.000000</td>\n",
              "      <td>1.000000</td>\n",
              "    </tr>\n",
              "  </tbody>\n",
              "</table>\n",
              "</div>\n",
              "      <button class=\"colab-df-convert\" onclick=\"convertToInteractive('df-5e9c8ca2-86dc-4452-8ec2-ce14856c8d3a')\"\n",
              "              title=\"Convert this dataframe to an interactive table.\"\n",
              "              style=\"display:none;\">\n",
              "        \n",
              "  <svg xmlns=\"http://www.w3.org/2000/svg\" height=\"24px\"viewBox=\"0 0 24 24\"\n",
              "       width=\"24px\">\n",
              "    <path d=\"M0 0h24v24H0V0z\" fill=\"none\"/>\n",
              "    <path d=\"M18.56 5.44l.94 2.06.94-2.06 2.06-.94-2.06-.94-.94-2.06-.94 2.06-2.06.94zm-11 1L8.5 8.5l.94-2.06 2.06-.94-2.06-.94L8.5 2.5l-.94 2.06-2.06.94zm10 10l.94 2.06.94-2.06 2.06-.94-2.06-.94-.94-2.06-.94 2.06-2.06.94z\"/><path d=\"M17.41 7.96l-1.37-1.37c-.4-.4-.92-.59-1.43-.59-.52 0-1.04.2-1.43.59L10.3 9.45l-7.72 7.72c-.78.78-.78 2.05 0 2.83L4 21.41c.39.39.9.59 1.41.59.51 0 1.02-.2 1.41-.59l7.78-7.78 2.81-2.81c.8-.78.8-2.07 0-2.86zM5.41 20L4 18.59l7.72-7.72 1.47 1.35L5.41 20z\"/>\n",
              "  </svg>\n",
              "      </button>\n",
              "      \n",
              "  <style>\n",
              "    .colab-df-container {\n",
              "      display:flex;\n",
              "      flex-wrap:wrap;\n",
              "      gap: 12px;\n",
              "    }\n",
              "\n",
              "    .colab-df-convert {\n",
              "      background-color: #E8F0FE;\n",
              "      border: none;\n",
              "      border-radius: 50%;\n",
              "      cursor: pointer;\n",
              "      display: none;\n",
              "      fill: #1967D2;\n",
              "      height: 32px;\n",
              "      padding: 0 0 0 0;\n",
              "      width: 32px;\n",
              "    }\n",
              "\n",
              "    .colab-df-convert:hover {\n",
              "      background-color: #E2EBFA;\n",
              "      box-shadow: 0px 1px 2px rgba(60, 64, 67, 0.3), 0px 1px 3px 1px rgba(60, 64, 67, 0.15);\n",
              "      fill: #174EA6;\n",
              "    }\n",
              "\n",
              "    [theme=dark] .colab-df-convert {\n",
              "      background-color: #3B4455;\n",
              "      fill: #D2E3FC;\n",
              "    }\n",
              "\n",
              "    [theme=dark] .colab-df-convert:hover {\n",
              "      background-color: #434B5C;\n",
              "      box-shadow: 0px 1px 3px 1px rgba(0, 0, 0, 0.15);\n",
              "      filter: drop-shadow(0px 1px 2px rgba(0, 0, 0, 0.3));\n",
              "      fill: #FFFFFF;\n",
              "    }\n",
              "  </style>\n",
              "\n",
              "      <script>\n",
              "        const buttonEl =\n",
              "          document.querySelector('#df-5e9c8ca2-86dc-4452-8ec2-ce14856c8d3a button.colab-df-convert');\n",
              "        buttonEl.style.display =\n",
              "          google.colab.kernel.accessAllowed ? 'block' : 'none';\n",
              "\n",
              "        async function convertToInteractive(key) {\n",
              "          const element = document.querySelector('#df-5e9c8ca2-86dc-4452-8ec2-ce14856c8d3a');\n",
              "          const dataTable =\n",
              "            await google.colab.kernel.invokeFunction('convertToInteractive',\n",
              "                                                     [key], {});\n",
              "          if (!dataTable) return;\n",
              "\n",
              "          const docLinkHtml = 'Like what you see? Visit the ' +\n",
              "            '<a target=\"_blank\" href=https://colab.research.google.com/notebooks/data_table.ipynb>data table notebook</a>'\n",
              "            + ' to learn more about interactive tables.';\n",
              "          element.innerHTML = '';\n",
              "          dataTable['output_type'] = 'display_data';\n",
              "          await google.colab.output.renderOutput(dataTable, element);\n",
              "          const docLink = document.createElement('div');\n",
              "          docLink.innerHTML = docLinkHtml;\n",
              "          element.appendChild(docLink);\n",
              "        }\n",
              "      </script>\n",
              "    </div>\n",
              "  </div>\n",
              "  "
            ],
            "text/plain": [
              "          QuestionId         UserId      AnswerId      IsCorrect  \\\n",
              "count  100000.000000  100000.000000  1.000000e+05  100000.000000   \n",
              "mean    13827.971960   59495.325310  9.921037e+06       0.644340   \n",
              "std      7973.706964   34170.141305  5.741623e+06       0.478715   \n",
              "min         0.000000       0.000000  3.940000e+02       0.000000   \n",
              "25%      6876.000000   30018.000000  4.933170e+06       0.000000   \n",
              "50%     13868.000000   59599.500000  9.922386e+06       1.000000   \n",
              "75%     20736.250000   88991.000000  1.491413e+07       1.000000   \n",
              "max     27612.000000  118970.000000  1.983471e+07       1.000000   \n",
              "\n",
              "       CorrectAnswer    AnswerValue   Confidence        GroupId  \\\n",
              "count  100000.000000  100000.000000  9456.000000  100000.000000   \n",
              "mean        2.506510       2.496510    75.039657    5616.828220   \n",
              "std         1.105726       1.095783    31.156299    3403.066495   \n",
              "min         1.000000       1.000000     0.000000       0.000000   \n",
              "25%         2.000000       2.000000    50.000000    2580.000000   \n",
              "50%         3.000000       3.000000    75.000000    5273.000000   \n",
              "75%         3.000000       3.000000   100.000000    8623.000000   \n",
              "max         4.000000       4.000000   100.000000   11842.000000   \n",
              "\n",
              "              QuizId  SchemeOfWorkId         Gender  PremiumPupil  \n",
              "count  100000.000000    49090.000000  100000.000000  28949.000000  \n",
              "mean     8514.253100    17214.144021       1.135850      0.255415  \n",
              "std      4998.459852    13403.117106       0.765533      0.436102  \n",
              "min         0.000000        7.000000       0.000000      0.000000  \n",
              "25%      4083.000000     8386.000000       1.000000      0.000000  \n",
              "50%      8396.000000     8418.000000       1.000000      0.000000  \n",
              "75%     12849.000000    28228.000000       2.000000      1.000000  \n",
              "max     17302.000000    66488.000000       3.000000      1.000000  "
            ]
          },
          "execution_count": 18,
          "metadata": {},
          "output_type": "execute_result"
        }
      ],
      "source": [
        "df.describe()"
      ]
    },
    {
      "cell_type": "code",
      "execution_count": null,
      "metadata": {
        "colab": {
          "base_uri": "https://localhost:8080/"
        },
        "id": "FMrOKtgUZh5s",
        "outputId": "29d1536a-9429-45cc-9071-cb2c41f01faa"
      },
      "outputs": [
        {
          "data": {
            "text/plain": [
              "(100000, 15)"
            ]
          },
          "execution_count": 19,
          "metadata": {},
          "output_type": "execute_result"
        }
      ],
      "source": [
        "df.shape"
      ]
    },
    {
      "cell_type": "code",
      "execution_count": null,
      "metadata": {
        "colab": {
          "base_uri": "https://localhost:8080/"
        },
        "id": "VSXF2DapZdFu",
        "outputId": "044d7132-48fb-4137-f354-bef2176b862e"
      },
      "outputs": [
        {
          "data": {
            "text/plain": [
              "QuestionId            0\n",
              "UserId                0\n",
              "AnswerId              0\n",
              "IsCorrect             0\n",
              "CorrectAnswer         0\n",
              "AnswerValue           0\n",
              "DateAnswered          0\n",
              "Confidence        90544\n",
              "GroupId               0\n",
              "QuizId                0\n",
              "SchemeOfWorkId    50910\n",
              "Gender                0\n",
              "DateOfBirth       32051\n",
              "PremiumPupil      71051\n",
              "SubjectId             0\n",
              "dtype: int64"
            ]
          },
          "execution_count": 20,
          "metadata": {},
          "output_type": "execute_result"
        }
      ],
      "source": [
        "df.isnull().sum()"
      ]
    },
    {
      "cell_type": "code",
      "execution_count": null,
      "metadata": {
        "colab": {
          "base_uri": "https://localhost:8080/",
          "height": 520
        },
        "id": "GAOPK3ihZbdp",
        "outputId": "7b77463d-de74-4931-966d-a904446241dd"
      },
      "outputs": [
        {
          "data": {
            "text/html": [
              "\n",
              "  <div id=\"df-8f07d4c8-ebf5-43b0-a445-4a9e133a587a\">\n",
              "    <div class=\"colab-df-container\">\n",
              "      <div>\n",
              "<style scoped>\n",
              "    .dataframe tbody tr th:only-of-type {\n",
              "        vertical-align: middle;\n",
              "    }\n",
              "\n",
              "    .dataframe tbody tr th {\n",
              "        vertical-align: top;\n",
              "    }\n",
              "\n",
              "    .dataframe thead th {\n",
              "        text-align: right;\n",
              "    }\n",
              "</style>\n",
              "<table border=\"1\" class=\"dataframe\">\n",
              "  <thead>\n",
              "    <tr style=\"text-align: right;\">\n",
              "      <th></th>\n",
              "      <th>column_name</th>\n",
              "      <th>percent_missing</th>\n",
              "    </tr>\n",
              "  </thead>\n",
              "  <tbody>\n",
              "    <tr>\n",
              "      <th>QuestionId</th>\n",
              "      <td>QuestionId</td>\n",
              "      <td>0.0</td>\n",
              "    </tr>\n",
              "    <tr>\n",
              "      <th>UserId</th>\n",
              "      <td>UserId</td>\n",
              "      <td>0.0</td>\n",
              "    </tr>\n",
              "    <tr>\n",
              "      <th>AnswerId</th>\n",
              "      <td>AnswerId</td>\n",
              "      <td>0.0</td>\n",
              "    </tr>\n",
              "    <tr>\n",
              "      <th>IsCorrect</th>\n",
              "      <td>IsCorrect</td>\n",
              "      <td>0.0</td>\n",
              "    </tr>\n",
              "    <tr>\n",
              "      <th>CorrectAnswer</th>\n",
              "      <td>CorrectAnswer</td>\n",
              "      <td>0.0</td>\n",
              "    </tr>\n",
              "    <tr>\n",
              "      <th>AnswerValue</th>\n",
              "      <td>AnswerValue</td>\n",
              "      <td>0.0</td>\n",
              "    </tr>\n",
              "    <tr>\n",
              "      <th>DateAnswered</th>\n",
              "      <td>DateAnswered</td>\n",
              "      <td>0.0</td>\n",
              "    </tr>\n",
              "    <tr>\n",
              "      <th>Confidence</th>\n",
              "      <td>Confidence</td>\n",
              "      <td>91.0</td>\n",
              "    </tr>\n",
              "    <tr>\n",
              "      <th>GroupId</th>\n",
              "      <td>GroupId</td>\n",
              "      <td>0.0</td>\n",
              "    </tr>\n",
              "    <tr>\n",
              "      <th>QuizId</th>\n",
              "      <td>QuizId</td>\n",
              "      <td>0.0</td>\n",
              "    </tr>\n",
              "    <tr>\n",
              "      <th>SchemeOfWorkId</th>\n",
              "      <td>SchemeOfWorkId</td>\n",
              "      <td>51.0</td>\n",
              "    </tr>\n",
              "    <tr>\n",
              "      <th>Gender</th>\n",
              "      <td>Gender</td>\n",
              "      <td>0.0</td>\n",
              "    </tr>\n",
              "    <tr>\n",
              "      <th>DateOfBirth</th>\n",
              "      <td>DateOfBirth</td>\n",
              "      <td>32.0</td>\n",
              "    </tr>\n",
              "    <tr>\n",
              "      <th>PremiumPupil</th>\n",
              "      <td>PremiumPupil</td>\n",
              "      <td>71.0</td>\n",
              "    </tr>\n",
              "    <tr>\n",
              "      <th>SubjectId</th>\n",
              "      <td>SubjectId</td>\n",
              "      <td>0.0</td>\n",
              "    </tr>\n",
              "  </tbody>\n",
              "</table>\n",
              "</div>\n",
              "      <button class=\"colab-df-convert\" onclick=\"convertToInteractive('df-8f07d4c8-ebf5-43b0-a445-4a9e133a587a')\"\n",
              "              title=\"Convert this dataframe to an interactive table.\"\n",
              "              style=\"display:none;\">\n",
              "        \n",
              "  <svg xmlns=\"http://www.w3.org/2000/svg\" height=\"24px\"viewBox=\"0 0 24 24\"\n",
              "       width=\"24px\">\n",
              "    <path d=\"M0 0h24v24H0V0z\" fill=\"none\"/>\n",
              "    <path d=\"M18.56 5.44l.94 2.06.94-2.06 2.06-.94-2.06-.94-.94-2.06-.94 2.06-2.06.94zm-11 1L8.5 8.5l.94-2.06 2.06-.94-2.06-.94L8.5 2.5l-.94 2.06-2.06.94zm10 10l.94 2.06.94-2.06 2.06-.94-2.06-.94-.94-2.06-.94 2.06-2.06.94z\"/><path d=\"M17.41 7.96l-1.37-1.37c-.4-.4-.92-.59-1.43-.59-.52 0-1.04.2-1.43.59L10.3 9.45l-7.72 7.72c-.78.78-.78 2.05 0 2.83L4 21.41c.39.39.9.59 1.41.59.51 0 1.02-.2 1.41-.59l7.78-7.78 2.81-2.81c.8-.78.8-2.07 0-2.86zM5.41 20L4 18.59l7.72-7.72 1.47 1.35L5.41 20z\"/>\n",
              "  </svg>\n",
              "      </button>\n",
              "      \n",
              "  <style>\n",
              "    .colab-df-container {\n",
              "      display:flex;\n",
              "      flex-wrap:wrap;\n",
              "      gap: 12px;\n",
              "    }\n",
              "\n",
              "    .colab-df-convert {\n",
              "      background-color: #E8F0FE;\n",
              "      border: none;\n",
              "      border-radius: 50%;\n",
              "      cursor: pointer;\n",
              "      display: none;\n",
              "      fill: #1967D2;\n",
              "      height: 32px;\n",
              "      padding: 0 0 0 0;\n",
              "      width: 32px;\n",
              "    }\n",
              "\n",
              "    .colab-df-convert:hover {\n",
              "      background-color: #E2EBFA;\n",
              "      box-shadow: 0px 1px 2px rgba(60, 64, 67, 0.3), 0px 1px 3px 1px rgba(60, 64, 67, 0.15);\n",
              "      fill: #174EA6;\n",
              "    }\n",
              "\n",
              "    [theme=dark] .colab-df-convert {\n",
              "      background-color: #3B4455;\n",
              "      fill: #D2E3FC;\n",
              "    }\n",
              "\n",
              "    [theme=dark] .colab-df-convert:hover {\n",
              "      background-color: #434B5C;\n",
              "      box-shadow: 0px 1px 3px 1px rgba(0, 0, 0, 0.15);\n",
              "      filter: drop-shadow(0px 1px 2px rgba(0, 0, 0, 0.3));\n",
              "      fill: #FFFFFF;\n",
              "    }\n",
              "  </style>\n",
              "\n",
              "      <script>\n",
              "        const buttonEl =\n",
              "          document.querySelector('#df-8f07d4c8-ebf5-43b0-a445-4a9e133a587a button.colab-df-convert');\n",
              "        buttonEl.style.display =\n",
              "          google.colab.kernel.accessAllowed ? 'block' : 'none';\n",
              "\n",
              "        async function convertToInteractive(key) {\n",
              "          const element = document.querySelector('#df-8f07d4c8-ebf5-43b0-a445-4a9e133a587a');\n",
              "          const dataTable =\n",
              "            await google.colab.kernel.invokeFunction('convertToInteractive',\n",
              "                                                     [key], {});\n",
              "          if (!dataTable) return;\n",
              "\n",
              "          const docLinkHtml = 'Like what you see? Visit the ' +\n",
              "            '<a target=\"_blank\" href=https://colab.research.google.com/notebooks/data_table.ipynb>data table notebook</a>'\n",
              "            + ' to learn more about interactive tables.';\n",
              "          element.innerHTML = '';\n",
              "          dataTable['output_type'] = 'display_data';\n",
              "          await google.colab.output.renderOutput(dataTable, element);\n",
              "          const docLink = document.createElement('div');\n",
              "          docLink.innerHTML = docLinkHtml;\n",
              "          element.appendChild(docLink);\n",
              "        }\n",
              "      </script>\n",
              "    </div>\n",
              "  </div>\n",
              "  "
            ],
            "text/plain": [
              "                   column_name  percent_missing\n",
              "QuestionId          QuestionId              0.0\n",
              "UserId                  UserId              0.0\n",
              "AnswerId              AnswerId              0.0\n",
              "IsCorrect            IsCorrect              0.0\n",
              "CorrectAnswer    CorrectAnswer              0.0\n",
              "AnswerValue        AnswerValue              0.0\n",
              "DateAnswered      DateAnswered              0.0\n",
              "Confidence          Confidence             91.0\n",
              "GroupId                GroupId              0.0\n",
              "QuizId                  QuizId              0.0\n",
              "SchemeOfWorkId  SchemeOfWorkId             51.0\n",
              "Gender                  Gender              0.0\n",
              "DateOfBirth        DateOfBirth             32.0\n",
              "PremiumPupil      PremiumPupil             71.0\n",
              "SubjectId            SubjectId              0.0"
            ]
          },
          "execution_count": 21,
          "metadata": {},
          "output_type": "execute_result"
        }
      ],
      "source": [
        "# Get the percentage of null values in each column\n",
        "percent_missing = df.isnull().sum() * 100 / len(df)\n",
        "pd.DataFrame({'column_name': df.columns, 'percent_missing': percent_missing.round()})"
      ]
    },
    {
      "cell_type": "markdown",
      "metadata": {
        "id": "g3WavyaMZtjk"
      },
      "source": [
        "There are columns with more than 10% data missing. We will drop those columns."
      ]
    },
    {
      "cell_type": "code",
      "execution_count": null,
      "metadata": {
        "colab": {
          "base_uri": "https://localhost:8080/",
          "height": 363
        },
        "id": "c8_np7itZ127",
        "outputId": "1669d33e-723d-4c16-f41f-d7f40c3b1ca5"
      },
      "outputs": [
        {
          "data": {
            "text/html": [
              "\n",
              "  <div id=\"df-a4e5962e-9c63-4d67-a5db-8f6fe4376287\">\n",
              "    <div class=\"colab-df-container\">\n",
              "      <div>\n",
              "<style scoped>\n",
              "    .dataframe tbody tr th:only-of-type {\n",
              "        vertical-align: middle;\n",
              "    }\n",
              "\n",
              "    .dataframe tbody tr th {\n",
              "        vertical-align: top;\n",
              "    }\n",
              "\n",
              "    .dataframe thead th {\n",
              "        text-align: right;\n",
              "    }\n",
              "</style>\n",
              "<table border=\"1\" class=\"dataframe\">\n",
              "  <thead>\n",
              "    <tr style=\"text-align: right;\">\n",
              "      <th></th>\n",
              "      <th>QuestionId</th>\n",
              "      <th>UserId</th>\n",
              "      <th>AnswerId</th>\n",
              "      <th>IsCorrect</th>\n",
              "      <th>CorrectAnswer</th>\n",
              "      <th>AnswerValue</th>\n",
              "      <th>GroupId</th>\n",
              "      <th>QuizId</th>\n",
              "      <th>Gender</th>\n",
              "      <th>DateOfBirth</th>\n",
              "      <th>SubjectId</th>\n",
              "    </tr>\n",
              "  </thead>\n",
              "  <tbody>\n",
              "    <tr>\n",
              "      <th>11142821</th>\n",
              "      <td>8026</td>\n",
              "      <td>95738</td>\n",
              "      <td>14921119</td>\n",
              "      <td>1</td>\n",
              "      <td>3</td>\n",
              "      <td>3</td>\n",
              "      <td>4698</td>\n",
              "      <td>5203</td>\n",
              "      <td>0</td>\n",
              "      <td>NaN</td>\n",
              "      <td>[3, 49, 59, 168]</td>\n",
              "    </tr>\n",
              "    <tr>\n",
              "      <th>5938454</th>\n",
              "      <td>19269</td>\n",
              "      <td>96922</td>\n",
              "      <td>11471165</td>\n",
              "      <td>1</td>\n",
              "      <td>4</td>\n",
              "      <td>4</td>\n",
              "      <td>9473</td>\n",
              "      <td>14751</td>\n",
              "      <td>0</td>\n",
              "      <td>NaN</td>\n",
              "      <td>[3, 32, 46, 334]</td>\n",
              "    </tr>\n",
              "    <tr>\n",
              "      <th>14992662</th>\n",
              "      <td>13759</td>\n",
              "      <td>76059</td>\n",
              "      <td>6638933</td>\n",
              "      <td>1</td>\n",
              "      <td>4</td>\n",
              "      <td>4</td>\n",
              "      <td>2111</td>\n",
              "      <td>7605</td>\n",
              "      <td>1</td>\n",
              "      <td>2003-10-01 00:00:00.000</td>\n",
              "      <td>[3, 32, 144, 204]</td>\n",
              "    </tr>\n",
              "    <tr>\n",
              "      <th>9434683</th>\n",
              "      <td>6081</td>\n",
              "      <td>81285</td>\n",
              "      <td>18661085</td>\n",
              "      <td>1</td>\n",
              "      <td>3</td>\n",
              "      <td>3</td>\n",
              "      <td>11782</td>\n",
              "      <td>12467</td>\n",
              "      <td>2</td>\n",
              "      <td>2004-04-01 00:00:00.000</td>\n",
              "      <td>[3, 49, 69, 154]</td>\n",
              "    </tr>\n",
              "    <tr>\n",
              "      <th>11034072</th>\n",
              "      <td>26893</td>\n",
              "      <td>68491</td>\n",
              "      <td>2538751</td>\n",
              "      <td>0</td>\n",
              "      <td>4</td>\n",
              "      <td>3</td>\n",
              "      <td>10690</td>\n",
              "      <td>15533</td>\n",
              "      <td>2</td>\n",
              "      <td>2009-12-01 00:00:00.000</td>\n",
              "      <td>[3, 49, 65, 154]</td>\n",
              "    </tr>\n",
              "    <tr>\n",
              "      <th>14902608</th>\n",
              "      <td>24479</td>\n",
              "      <td>34261</td>\n",
              "      <td>6990825</td>\n",
              "      <td>1</td>\n",
              "      <td>3</td>\n",
              "      <td>3</td>\n",
              "      <td>3630</td>\n",
              "      <td>6066</td>\n",
              "      <td>0</td>\n",
              "      <td>NaN</td>\n",
              "      <td>[3, 49, 64, 154]</td>\n",
              "    </tr>\n",
              "    <tr>\n",
              "      <th>14641752</th>\n",
              "      <td>25889</td>\n",
              "      <td>98737</td>\n",
              "      <td>11589545</td>\n",
              "      <td>1</td>\n",
              "      <td>1</td>\n",
              "      <td>1</td>\n",
              "      <td>388</td>\n",
              "      <td>1919</td>\n",
              "      <td>2</td>\n",
              "      <td>NaN</td>\n",
              "      <td>[3, 32, 1980]</td>\n",
              "    </tr>\n",
              "    <tr>\n",
              "      <th>3316249</th>\n",
              "      <td>14613</td>\n",
              "      <td>21119</td>\n",
              "      <td>6110841</td>\n",
              "      <td>1</td>\n",
              "      <td>2</td>\n",
              "      <td>2</td>\n",
              "      <td>6861</td>\n",
              "      <td>12387</td>\n",
              "      <td>1</td>\n",
              "      <td>2004-02-01 00:00:00.000</td>\n",
              "      <td>[3, 32, 144, 203]</td>\n",
              "    </tr>\n",
              "    <tr>\n",
              "      <th>8891769</th>\n",
              "      <td>12276</td>\n",
              "      <td>9703</td>\n",
              "      <td>12940451</td>\n",
              "      <td>1</td>\n",
              "      <td>4</td>\n",
              "      <td>4</td>\n",
              "      <td>4882</td>\n",
              "      <td>16390</td>\n",
              "      <td>0</td>\n",
              "      <td>NaN</td>\n",
              "      <td>[3, 32, 42, 211]</td>\n",
              "    </tr>\n",
              "    <tr>\n",
              "      <th>5078871</th>\n",
              "      <td>14257</td>\n",
              "      <td>81849</td>\n",
              "      <td>12705910</td>\n",
              "      <td>1</td>\n",
              "      <td>3</td>\n",
              "      <td>3</td>\n",
              "      <td>11698</td>\n",
              "      <td>6688</td>\n",
              "      <td>2</td>\n",
              "      <td>2004-09-01 00:00:00.000</td>\n",
              "      <td>[3, 32, 141, 213]</td>\n",
              "    </tr>\n",
              "  </tbody>\n",
              "</table>\n",
              "</div>\n",
              "      <button class=\"colab-df-convert\" onclick=\"convertToInteractive('df-a4e5962e-9c63-4d67-a5db-8f6fe4376287')\"\n",
              "              title=\"Convert this dataframe to an interactive table.\"\n",
              "              style=\"display:none;\">\n",
              "        \n",
              "  <svg xmlns=\"http://www.w3.org/2000/svg\" height=\"24px\"viewBox=\"0 0 24 24\"\n",
              "       width=\"24px\">\n",
              "    <path d=\"M0 0h24v24H0V0z\" fill=\"none\"/>\n",
              "    <path d=\"M18.56 5.44l.94 2.06.94-2.06 2.06-.94-2.06-.94-.94-2.06-.94 2.06-2.06.94zm-11 1L8.5 8.5l.94-2.06 2.06-.94-2.06-.94L8.5 2.5l-.94 2.06-2.06.94zm10 10l.94 2.06.94-2.06 2.06-.94-2.06-.94-.94-2.06-.94 2.06-2.06.94z\"/><path d=\"M17.41 7.96l-1.37-1.37c-.4-.4-.92-.59-1.43-.59-.52 0-1.04.2-1.43.59L10.3 9.45l-7.72 7.72c-.78.78-.78 2.05 0 2.83L4 21.41c.39.39.9.59 1.41.59.51 0 1.02-.2 1.41-.59l7.78-7.78 2.81-2.81c.8-.78.8-2.07 0-2.86zM5.41 20L4 18.59l7.72-7.72 1.47 1.35L5.41 20z\"/>\n",
              "  </svg>\n",
              "      </button>\n",
              "      \n",
              "  <style>\n",
              "    .colab-df-container {\n",
              "      display:flex;\n",
              "      flex-wrap:wrap;\n",
              "      gap: 12px;\n",
              "    }\n",
              "\n",
              "    .colab-df-convert {\n",
              "      background-color: #E8F0FE;\n",
              "      border: none;\n",
              "      border-radius: 50%;\n",
              "      cursor: pointer;\n",
              "      display: none;\n",
              "      fill: #1967D2;\n",
              "      height: 32px;\n",
              "      padding: 0 0 0 0;\n",
              "      width: 32px;\n",
              "    }\n",
              "\n",
              "    .colab-df-convert:hover {\n",
              "      background-color: #E2EBFA;\n",
              "      box-shadow: 0px 1px 2px rgba(60, 64, 67, 0.3), 0px 1px 3px 1px rgba(60, 64, 67, 0.15);\n",
              "      fill: #174EA6;\n",
              "    }\n",
              "\n",
              "    [theme=dark] .colab-df-convert {\n",
              "      background-color: #3B4455;\n",
              "      fill: #D2E3FC;\n",
              "    }\n",
              "\n",
              "    [theme=dark] .colab-df-convert:hover {\n",
              "      background-color: #434B5C;\n",
              "      box-shadow: 0px 1px 3px 1px rgba(0, 0, 0, 0.15);\n",
              "      filter: drop-shadow(0px 1px 2px rgba(0, 0, 0, 0.3));\n",
              "      fill: #FFFFFF;\n",
              "    }\n",
              "  </style>\n",
              "\n",
              "      <script>\n",
              "        const buttonEl =\n",
              "          document.querySelector('#df-a4e5962e-9c63-4d67-a5db-8f6fe4376287 button.colab-df-convert');\n",
              "        buttonEl.style.display =\n",
              "          google.colab.kernel.accessAllowed ? 'block' : 'none';\n",
              "\n",
              "        async function convertToInteractive(key) {\n",
              "          const element = document.querySelector('#df-a4e5962e-9c63-4d67-a5db-8f6fe4376287');\n",
              "          const dataTable =\n",
              "            await google.colab.kernel.invokeFunction('convertToInteractive',\n",
              "                                                     [key], {});\n",
              "          if (!dataTable) return;\n",
              "\n",
              "          const docLinkHtml = 'Like what you see? Visit the ' +\n",
              "            '<a target=\"_blank\" href=https://colab.research.google.com/notebooks/data_table.ipynb>data table notebook</a>'\n",
              "            + ' to learn more about interactive tables.';\n",
              "          element.innerHTML = '';\n",
              "          dataTable['output_type'] = 'display_data';\n",
              "          await google.colab.output.renderOutput(dataTable, element);\n",
              "          const docLink = document.createElement('div');\n",
              "          docLink.innerHTML = docLinkHtml;\n",
              "          element.appendChild(docLink);\n",
              "        }\n",
              "      </script>\n",
              "    </div>\n",
              "  </div>\n",
              "  "
            ],
            "text/plain": [
              "          QuestionId  UserId  AnswerId  IsCorrect  CorrectAnswer  AnswerValue  \\\n",
              "11142821        8026   95738  14921119          1              3            3   \n",
              "5938454        19269   96922  11471165          1              4            4   \n",
              "14992662       13759   76059   6638933          1              4            4   \n",
              "9434683         6081   81285  18661085          1              3            3   \n",
              "11034072       26893   68491   2538751          0              4            3   \n",
              "14902608       24479   34261   6990825          1              3            3   \n",
              "14641752       25889   98737  11589545          1              1            1   \n",
              "3316249        14613   21119   6110841          1              2            2   \n",
              "8891769        12276    9703  12940451          1              4            4   \n",
              "5078871        14257   81849  12705910          1              3            3   \n",
              "\n",
              "          GroupId  QuizId  Gender              DateOfBirth          SubjectId  \n",
              "11142821     4698    5203       0                      NaN   [3, 49, 59, 168]  \n",
              "5938454      9473   14751       0                      NaN   [3, 32, 46, 334]  \n",
              "14992662     2111    7605       1  2003-10-01 00:00:00.000  [3, 32, 144, 204]  \n",
              "9434683     11782   12467       2  2004-04-01 00:00:00.000   [3, 49, 69, 154]  \n",
              "11034072    10690   15533       2  2009-12-01 00:00:00.000   [3, 49, 65, 154]  \n",
              "14902608     3630    6066       0                      NaN   [3, 49, 64, 154]  \n",
              "14641752      388    1919       2                      NaN      [3, 32, 1980]  \n",
              "3316249      6861   12387       1  2004-02-01 00:00:00.000  [3, 32, 144, 203]  \n",
              "8891769      4882   16390       0                      NaN   [3, 32, 42, 211]  \n",
              "5078871     11698    6688       2  2004-09-01 00:00:00.000  [3, 32, 141, 213]  "
            ]
          },
          "execution_count": 22,
          "metadata": {},
          "output_type": "execute_result"
        }
      ],
      "source": [
        "dfclean = df.copy()\n",
        "dfclean.drop(columns=['Confidence','SchemeOfWorkId','PremiumPupil','DateAnswered'], inplace=True)\n",
        "dfclean.head(10)"
      ]
    },
    {
      "cell_type": "code",
      "execution_count": null,
      "metadata": {
        "id": "ltHRUOy3aWqu"
      },
      "outputs": [],
      "source": [
        "dfclean=dfclean.dropna(subset=['DateOfBirth'])\n"
      ]
    },
    {
      "cell_type": "code",
      "execution_count": null,
      "metadata": {
        "colab": {
          "base_uri": "https://localhost:8080/"
        },
        "id": "3JwewruwZ5e3",
        "outputId": "5c8e8308-f343-4008-a66e-ac9cc018c5d1"
      },
      "outputs": [
        {
          "data": {
            "text/plain": [
              "QuestionId       0\n",
              "UserId           0\n",
              "AnswerId         0\n",
              "IsCorrect        0\n",
              "CorrectAnswer    0\n",
              "AnswerValue      0\n",
              "GroupId          0\n",
              "QuizId           0\n",
              "Gender           0\n",
              "DateOfBirth      0\n",
              "SubjectId        0\n",
              "dtype: int64"
            ]
          },
          "execution_count": 24,
          "metadata": {},
          "output_type": "execute_result"
        }
      ],
      "source": [
        "dfclean.isnull().sum()"
      ]
    },
    {
      "cell_type": "code",
      "execution_count": null,
      "metadata": {
        "colab": {
          "base_uri": "https://localhost:8080/"
        },
        "id": "0iGLN1M9avey",
        "outputId": "925feba2-5cb1-4412-f255-573534095927"
      },
      "outputs": [
        {
          "data": {
            "text/plain": [
              "(67949, 11)"
            ]
          },
          "execution_count": 25,
          "metadata": {},
          "output_type": "execute_result"
        }
      ],
      "source": [
        "dfclean.shape"
      ]
    },
    {
      "cell_type": "code",
      "execution_count": null,
      "metadata": {
        "colab": {
          "base_uri": "https://localhost:8080/"
        },
        "id": "c8QJ6UxfaK8K",
        "outputId": "5a6687a5-2878-48d6-e4f3-c5e9d41602c8"
      },
      "outputs": [
        {
          "data": {
            "text/plain": [
              "QuestionId        int64\n",
              "UserId            int64\n",
              "AnswerId          int64\n",
              "IsCorrect         int64\n",
              "CorrectAnswer     int64\n",
              "AnswerValue       int64\n",
              "GroupId           int64\n",
              "QuizId            int64\n",
              "Gender            int64\n",
              "DateOfBirth      object\n",
              "SubjectId        object\n",
              "dtype: object"
            ]
          },
          "execution_count": 26,
          "metadata": {},
          "output_type": "execute_result"
        }
      ],
      "source": [
        "dfclean.dtypes"
      ]
    },
    {
      "cell_type": "code",
      "execution_count": null,
      "metadata": {
        "id": "vSMUFLq9bJht"
      },
      "outputs": [],
      "source": [
        "from datetime import date\n",
        "def calculate_age(born):\n",
        "    today = date.today()\n",
        "    dob = born.split('-')\n",
        "    return today.year - int(dob[0]) - ((int(dob[1])) < (int(dob[1])))"
      ]
    },
    {
      "cell_type": "code",
      "execution_count": null,
      "metadata": {
        "id": "NLaZDBSrby4s"
      },
      "outputs": [],
      "source": [
        "dfclean['age'] = dfclean['DateOfBirth'].apply(calculate_age)\n",
        "dfclean = dfclean.drop(['DateOfBirth'],axis=1)\n"
      ]
    },
    {
      "cell_type": "code",
      "execution_count": null,
      "metadata": {
        "colab": {
          "base_uri": "https://localhost:8080/",
          "height": 206
        },
        "id": "-SjgxMg5d6xg",
        "outputId": "0a01931d-e0ba-4f04-d0c8-2792cd81bbc7"
      },
      "outputs": [
        {
          "data": {
            "text/html": [
              "\n",
              "  <div id=\"df-d4bb7d2b-b9dc-4e13-b6a6-3e4d451f233c\">\n",
              "    <div class=\"colab-df-container\">\n",
              "      <div>\n",
              "<style scoped>\n",
              "    .dataframe tbody tr th:only-of-type {\n",
              "        vertical-align: middle;\n",
              "    }\n",
              "\n",
              "    .dataframe tbody tr th {\n",
              "        vertical-align: top;\n",
              "    }\n",
              "\n",
              "    .dataframe thead th {\n",
              "        text-align: right;\n",
              "    }\n",
              "</style>\n",
              "<table border=\"1\" class=\"dataframe\">\n",
              "  <thead>\n",
              "    <tr style=\"text-align: right;\">\n",
              "      <th></th>\n",
              "      <th>QuestionId</th>\n",
              "      <th>UserId</th>\n",
              "      <th>AnswerId</th>\n",
              "      <th>IsCorrect</th>\n",
              "      <th>CorrectAnswer</th>\n",
              "      <th>AnswerValue</th>\n",
              "      <th>GroupId</th>\n",
              "      <th>QuizId</th>\n",
              "      <th>Gender</th>\n",
              "      <th>SubjectId</th>\n",
              "      <th>age</th>\n",
              "    </tr>\n",
              "  </thead>\n",
              "  <tbody>\n",
              "    <tr>\n",
              "      <th>14992662</th>\n",
              "      <td>13759</td>\n",
              "      <td>76059</td>\n",
              "      <td>6638933</td>\n",
              "      <td>1</td>\n",
              "      <td>4</td>\n",
              "      <td>4</td>\n",
              "      <td>2111</td>\n",
              "      <td>7605</td>\n",
              "      <td>1</td>\n",
              "      <td>[3, 32, 144, 204]</td>\n",
              "      <td>19</td>\n",
              "    </tr>\n",
              "    <tr>\n",
              "      <th>9434683</th>\n",
              "      <td>6081</td>\n",
              "      <td>81285</td>\n",
              "      <td>18661085</td>\n",
              "      <td>1</td>\n",
              "      <td>3</td>\n",
              "      <td>3</td>\n",
              "      <td>11782</td>\n",
              "      <td>12467</td>\n",
              "      <td>2</td>\n",
              "      <td>[3, 49, 69, 154]</td>\n",
              "      <td>18</td>\n",
              "    </tr>\n",
              "    <tr>\n",
              "      <th>11034072</th>\n",
              "      <td>26893</td>\n",
              "      <td>68491</td>\n",
              "      <td>2538751</td>\n",
              "      <td>0</td>\n",
              "      <td>4</td>\n",
              "      <td>3</td>\n",
              "      <td>10690</td>\n",
              "      <td>15533</td>\n",
              "      <td>2</td>\n",
              "      <td>[3, 49, 65, 154]</td>\n",
              "      <td>13</td>\n",
              "    </tr>\n",
              "    <tr>\n",
              "      <th>3316249</th>\n",
              "      <td>14613</td>\n",
              "      <td>21119</td>\n",
              "      <td>6110841</td>\n",
              "      <td>1</td>\n",
              "      <td>2</td>\n",
              "      <td>2</td>\n",
              "      <td>6861</td>\n",
              "      <td>12387</td>\n",
              "      <td>1</td>\n",
              "      <td>[3, 32, 144, 203]</td>\n",
              "      <td>18</td>\n",
              "    </tr>\n",
              "    <tr>\n",
              "      <th>5078871</th>\n",
              "      <td>14257</td>\n",
              "      <td>81849</td>\n",
              "      <td>12705910</td>\n",
              "      <td>1</td>\n",
              "      <td>3</td>\n",
              "      <td>3</td>\n",
              "      <td>11698</td>\n",
              "      <td>6688</td>\n",
              "      <td>2</td>\n",
              "      <td>[3, 32, 141, 213]</td>\n",
              "      <td>18</td>\n",
              "    </tr>\n",
              "  </tbody>\n",
              "</table>\n",
              "</div>\n",
              "      <button class=\"colab-df-convert\" onclick=\"convertToInteractive('df-d4bb7d2b-b9dc-4e13-b6a6-3e4d451f233c')\"\n",
              "              title=\"Convert this dataframe to an interactive table.\"\n",
              "              style=\"display:none;\">\n",
              "        \n",
              "  <svg xmlns=\"http://www.w3.org/2000/svg\" height=\"24px\"viewBox=\"0 0 24 24\"\n",
              "       width=\"24px\">\n",
              "    <path d=\"M0 0h24v24H0V0z\" fill=\"none\"/>\n",
              "    <path d=\"M18.56 5.44l.94 2.06.94-2.06 2.06-.94-2.06-.94-.94-2.06-.94 2.06-2.06.94zm-11 1L8.5 8.5l.94-2.06 2.06-.94-2.06-.94L8.5 2.5l-.94 2.06-2.06.94zm10 10l.94 2.06.94-2.06 2.06-.94-2.06-.94-.94-2.06-.94 2.06-2.06.94z\"/><path d=\"M17.41 7.96l-1.37-1.37c-.4-.4-.92-.59-1.43-.59-.52 0-1.04.2-1.43.59L10.3 9.45l-7.72 7.72c-.78.78-.78 2.05 0 2.83L4 21.41c.39.39.9.59 1.41.59.51 0 1.02-.2 1.41-.59l7.78-7.78 2.81-2.81c.8-.78.8-2.07 0-2.86zM5.41 20L4 18.59l7.72-7.72 1.47 1.35L5.41 20z\"/>\n",
              "  </svg>\n",
              "      </button>\n",
              "      \n",
              "  <style>\n",
              "    .colab-df-container {\n",
              "      display:flex;\n",
              "      flex-wrap:wrap;\n",
              "      gap: 12px;\n",
              "    }\n",
              "\n",
              "    .colab-df-convert {\n",
              "      background-color: #E8F0FE;\n",
              "      border: none;\n",
              "      border-radius: 50%;\n",
              "      cursor: pointer;\n",
              "      display: none;\n",
              "      fill: #1967D2;\n",
              "      height: 32px;\n",
              "      padding: 0 0 0 0;\n",
              "      width: 32px;\n",
              "    }\n",
              "\n",
              "    .colab-df-convert:hover {\n",
              "      background-color: #E2EBFA;\n",
              "      box-shadow: 0px 1px 2px rgba(60, 64, 67, 0.3), 0px 1px 3px 1px rgba(60, 64, 67, 0.15);\n",
              "      fill: #174EA6;\n",
              "    }\n",
              "\n",
              "    [theme=dark] .colab-df-convert {\n",
              "      background-color: #3B4455;\n",
              "      fill: #D2E3FC;\n",
              "    }\n",
              "\n",
              "    [theme=dark] .colab-df-convert:hover {\n",
              "      background-color: #434B5C;\n",
              "      box-shadow: 0px 1px 3px 1px rgba(0, 0, 0, 0.15);\n",
              "      filter: drop-shadow(0px 1px 2px rgba(0, 0, 0, 0.3));\n",
              "      fill: #FFFFFF;\n",
              "    }\n",
              "  </style>\n",
              "\n",
              "      <script>\n",
              "        const buttonEl =\n",
              "          document.querySelector('#df-d4bb7d2b-b9dc-4e13-b6a6-3e4d451f233c button.colab-df-convert');\n",
              "        buttonEl.style.display =\n",
              "          google.colab.kernel.accessAllowed ? 'block' : 'none';\n",
              "\n",
              "        async function convertToInteractive(key) {\n",
              "          const element = document.querySelector('#df-d4bb7d2b-b9dc-4e13-b6a6-3e4d451f233c');\n",
              "          const dataTable =\n",
              "            await google.colab.kernel.invokeFunction('convertToInteractive',\n",
              "                                                     [key], {});\n",
              "          if (!dataTable) return;\n",
              "\n",
              "          const docLinkHtml = 'Like what you see? Visit the ' +\n",
              "            '<a target=\"_blank\" href=https://colab.research.google.com/notebooks/data_table.ipynb>data table notebook</a>'\n",
              "            + ' to learn more about interactive tables.';\n",
              "          element.innerHTML = '';\n",
              "          dataTable['output_type'] = 'display_data';\n",
              "          await google.colab.output.renderOutput(dataTable, element);\n",
              "          const docLink = document.createElement('div');\n",
              "          docLink.innerHTML = docLinkHtml;\n",
              "          element.appendChild(docLink);\n",
              "        }\n",
              "      </script>\n",
              "    </div>\n",
              "  </div>\n",
              "  "
            ],
            "text/plain": [
              "          QuestionId  UserId  AnswerId  IsCorrect  CorrectAnswer  AnswerValue  \\\n",
              "14992662       13759   76059   6638933          1              4            4   \n",
              "9434683         6081   81285  18661085          1              3            3   \n",
              "11034072       26893   68491   2538751          0              4            3   \n",
              "3316249        14613   21119   6110841          1              2            2   \n",
              "5078871        14257   81849  12705910          1              3            3   \n",
              "\n",
              "          GroupId  QuizId  Gender          SubjectId  age  \n",
              "14992662     2111    7605       1  [3, 32, 144, 204]   19  \n",
              "9434683     11782   12467       2   [3, 49, 69, 154]   18  \n",
              "11034072    10690   15533       2   [3, 49, 65, 154]   13  \n",
              "3316249      6861   12387       1  [3, 32, 144, 203]   18  \n",
              "5078871     11698    6688       2  [3, 32, 141, 213]   18  "
            ]
          },
          "execution_count": 29,
          "metadata": {},
          "output_type": "execute_result"
        }
      ],
      "source": [
        "dfclean.head()"
      ]
    },
    {
      "cell_type": "code",
      "execution_count": null,
      "metadata": {
        "colab": {
          "base_uri": "https://localhost:8080/"
        },
        "id": "yAU4hPrJONkP",
        "outputId": "740d53fd-760f-44e4-fb68-86bd49d3b829"
      },
      "outputs": [
        {
          "data": {
            "text/plain": [
              "array([13759,  6081, 26893, ..., 22043,  2591, 25246])"
            ]
          },
          "execution_count": 30,
          "metadata": {},
          "output_type": "execute_result"
        }
      ],
      "source": [
        "dfclean['QuestionId'].unique()"
      ]
    },
    {
      "cell_type": "code",
      "execution_count": null,
      "metadata": {
        "colab": {
          "base_uri": "https://localhost:8080/"
        },
        "id": "vkrQ-datO3cB",
        "outputId": "73d05a65-34a5-4072-d3de-13b02abb7360"
      },
      "outputs": [
        {
          "data": {
            "text/plain": [
              "array([ 76059,  81285,  68491, ...,  15562,  72955, 112130])"
            ]
          },
          "execution_count": 31,
          "metadata": {},
          "output_type": "execute_result"
        }
      ],
      "source": [
        "dfclean['UserId'].unique()"
      ]
    },
    {
      "cell_type": "code",
      "execution_count": null,
      "metadata": {
        "colab": {
          "base_uri": "https://localhost:8080/"
        },
        "id": "hwN9umL1O4a7",
        "outputId": "b7ca5afa-b7f7-4b06-b33d-7623672a0a79"
      },
      "outputs": [
        {
          "data": {
            "text/plain": [
              "array([ 6638933, 18661085,  2538751, ..., 12362834, 11585202, 12482492])"
            ]
          },
          "execution_count": 32,
          "metadata": {},
          "output_type": "execute_result"
        }
      ],
      "source": [
        "dfclean['AnswerId'].unique()"
      ]
    },
    {
      "cell_type": "code",
      "execution_count": null,
      "metadata": {
        "colab": {
          "base_uri": "https://localhost:8080/"
        },
        "id": "kNdDXoMSOfZz",
        "outputId": "7d867ad2-cab8-45fd-816c-c47ad8b32f1f"
      },
      "outputs": [
        {
          "data": {
            "text/plain": [
              "array([1, 0])"
            ]
          },
          "execution_count": 33,
          "metadata": {},
          "output_type": "execute_result"
        }
      ],
      "source": [
        "dfclean['IsCorrect'].unique()"
      ]
    },
    {
      "cell_type": "code",
      "execution_count": null,
      "metadata": {
        "colab": {
          "base_uri": "https://localhost:8080/"
        },
        "id": "vqoAK-5wchTL",
        "outputId": "82dfa5fa-9373-4823-e5f1-27a238b8e2d5"
      },
      "outputs": [
        {
          "data": {
            "text/plain": [
              "array([4, 3, 2, 1])"
            ]
          },
          "execution_count": 34,
          "metadata": {},
          "output_type": "execute_result"
        }
      ],
      "source": [
        "dfclean['CorrectAnswer'].unique()"
      ]
    },
    {
      "cell_type": "code",
      "execution_count": null,
      "metadata": {
        "colab": {
          "base_uri": "https://localhost:8080/"
        },
        "id": "yyFCVr1ictDp",
        "outputId": "94dbb64b-8730-4746-a32b-9061fc9608d9"
      },
      "outputs": [
        {
          "data": {
            "text/plain": [
              "array([4, 3, 2, 1])"
            ]
          },
          "execution_count": 35,
          "metadata": {},
          "output_type": "execute_result"
        }
      ],
      "source": [
        "dfclean['AnswerValue'].unique()"
      ]
    },
    {
      "cell_type": "code",
      "execution_count": null,
      "metadata": {
        "colab": {
          "base_uri": "https://localhost:8080/"
        },
        "id": "iQlmfCwJcwvG",
        "outputId": "22afb879-5a30-42f3-fd7f-34aa391e446c"
      },
      "outputs": [
        {
          "data": {
            "text/plain": [
              "array([ 2111, 11782, 10690, ...,  2228,  9839,  4209])"
            ]
          },
          "execution_count": 36,
          "metadata": {},
          "output_type": "execute_result"
        }
      ],
      "source": [
        "dfclean['GroupId'].unique()"
      ]
    },
    {
      "cell_type": "code",
      "execution_count": null,
      "metadata": {
        "colab": {
          "base_uri": "https://localhost:8080/"
        },
        "id": "NRXEF1F_c2pJ",
        "outputId": "519181f2-bb13-4884-ef23-5f898a112056"
      },
      "outputs": [
        {
          "data": {
            "text/plain": [
              "array([ 7605, 12467, 15533, ...,  5280,  3782, 17272])"
            ]
          },
          "execution_count": 37,
          "metadata": {},
          "output_type": "execute_result"
        }
      ],
      "source": [
        "dfclean['QuizId'].unique()"
      ]
    },
    {
      "cell_type": "code",
      "execution_count": null,
      "metadata": {
        "colab": {
          "base_uri": "https://localhost:8080/"
        },
        "id": "j8tUo17tc7n9",
        "outputId": "80b0e54e-09d9-4644-bf8a-9937d78b907e"
      },
      "outputs": [
        {
          "data": {
            "text/plain": [
              "array([1, 2, 0, 3])"
            ]
          },
          "execution_count": 38,
          "metadata": {},
          "output_type": "execute_result"
        }
      ],
      "source": [
        "dfclean['Gender'].unique()"
      ]
    },
    {
      "cell_type": "code",
      "execution_count": null,
      "metadata": {
        "colab": {
          "base_uri": "https://localhost:8080/"
        },
        "id": "p2bUuXMTmphH",
        "outputId": "d947dfae-09e5-461f-90fc-304e804138b9"
      },
      "outputs": [
        {
          "name": "stdout",
          "output_type": "stream",
          "text": [
            "<class 'pandas.core.frame.DataFrame'>\n",
            "Int64Index: 67949 entries, 14992662 to 767294\n",
            "Data columns (total 11 columns):\n",
            " #   Column         Non-Null Count  Dtype   \n",
            "---  ------         --------------  -----   \n",
            " 0   QuestionId     67949 non-null  int64   \n",
            " 1   UserId         67949 non-null  int64   \n",
            " 2   AnswerId       67949 non-null  int64   \n",
            " 3   IsCorrect      67949 non-null  int64   \n",
            " 4   CorrectAnswer  67949 non-null  category\n",
            " 5   AnswerValue    67949 non-null  category\n",
            " 6   GroupId        67949 non-null  int64   \n",
            " 7   QuizId         67949 non-null  int64   \n",
            " 8   Gender         67949 non-null  category\n",
            " 9   SubjectId      67949 non-null  category\n",
            " 10  age            67949 non-null  int64   \n",
            "dtypes: category(4), int64(7)\n",
            "memory usage: 4.5 MB\n"
          ]
        }
      ],
      "source": [
        "# categorical columns\n",
        "dfclean['CorrectAnswer'] = dfclean['CorrectAnswer'].astype('category')\n",
        "dfclean['AnswerValue'] = dfclean['AnswerValue'].astype('category')\n",
        "dfclean['Gender'] = dfclean['Gender'].astype('category')\n",
        "dfclean['SubjectId'] = dfclean['SubjectId'].astype('category')\n",
        "\n",
        "dfclean.info()"
      ]
    },
    {
      "cell_type": "markdown",
      "metadata": {
        "id": "55u4VnXE5J5x"
      },
      "source": [
        "**Data Visualization**"
      ]
    },
    {
      "cell_type": "code",
      "execution_count": null,
      "metadata": {
        "colab": {
          "base_uri": "https://localhost:8080/",
          "height": 279
        },
        "id": "AOv62tnH7nge",
        "outputId": "7de1f632-2e81-47f2-f30b-c598e648bbfd"
      },
      "outputs": [
        {
          "data": {
            "text/plain": [
              "<matplotlib.axes._subplots.AxesSubplot at 0x7f6d79e98c10>"
            ]
          },
          "execution_count": 40,
          "metadata": {},
          "output_type": "execute_result"
        },
        {
          "data": {
            "image/png": "[encoded data removed]",
            "text/plain": [
              "<Figure size 432x288 with 1 Axes>"
            ]
          },
          "metadata": {},
          "output_type": "display_data"
        }
      ],
      "source": [
        "dfclean['IsCorrect'].value_counts().plot(kind='bar')"
      ]
    },
    {
      "cell_type": "code",
      "execution_count": null,
      "metadata": {
        "colab": {
          "base_uri": "https://localhost:8080/",
          "height": 265
        },
        "id": "o4gWA8UTo636",
        "outputId": "d6e4c3a5-6d44-4604-de15-cf867e877b51"
      },
      "outputs": [
        {
          "data": {
            "text/plain": [
              "<matplotlib.axes._subplots.AxesSubplot at 0x7f6d79dd29d0>"
            ]
          },
          "execution_count": 41,
          "metadata": {},
          "output_type": "execute_result"
        },
        {
          "data": {
            "image/png": "[encoded data removed]",
            "text/plain": [
              "<Figure size 432x288 with 1 Axes>"
            ]
          },
          "metadata": {},
          "output_type": "display_data"
        }
      ],
      "source": [
        "dfclean.groupby('Gender').size().plot(kind='pie',ylabel='Gender', autopct='%.2f%%')"
      ]
    },
    {
      "cell_type": "markdown",
      "metadata": {
        "id": "dPSOAIT9pjow"
      },
      "source": [
        "There are 49.75% students with Gender type 1 followed by type 2."
      ]
    },
    {
      "cell_type": "code",
      "execution_count": null,
      "metadata": {
        "colab": {
          "base_uri": "https://localhost:8080/",
          "height": 297
        },
        "id": "OQrmVL2xqwt5",
        "outputId": "329fe50c-bce4-4fda-bc0f-9e867afd329f"
      },
      "outputs": [
        {
          "data": {
            "image/png": "[encoded data removed]",
            "text/plain": [
              "<Figure size 432x288 with 9 Axes>"
            ]
          },
          "metadata": {},
          "output_type": "display_data"
        }
      ],
      "source": [
        "dfclean.hist(rwidth = 0.9)\n",
        "plt.tight_layout()"
      ]
    },
    {
      "cell_type": "code",
      "execution_count": null,
      "metadata": {
        "colab": {
          "base_uri": "https://localhost:8080/",
          "height": 363
        },
        "id": "0Lh5lS_x-btx",
        "outputId": "e2e5787d-69ff-4787-cf90-8fa7bf9d5081"
      },
      "outputs": [
        {
          "data": {
            "text/html": [
              "\n",
              "  <div id=\"df-8851ca90-5e77-487b-9fe2-ad5eb7908a6e\">\n",
              "    <div class=\"colab-df-container\">\n",
              "      <div>\n",
              "<style scoped>\n",
              "    .dataframe tbody tr th:only-of-type {\n",
              "        vertical-align: middle;\n",
              "    }\n",
              "\n",
              "    .dataframe tbody tr th {\n",
              "        vertical-align: top;\n",
              "    }\n",
              "\n",
              "    .dataframe thead th {\n",
              "        text-align: right;\n",
              "    }\n",
              "</style>\n",
              "<table border=\"1\" class=\"dataframe\">\n",
              "  <thead>\n",
              "    <tr style=\"text-align: right;\">\n",
              "      <th></th>\n",
              "      <th>feature</th>\n",
              "      <th>zero_values</th>\n",
              "    </tr>\n",
              "  </thead>\n",
              "  <tbody>\n",
              "    <tr>\n",
              "      <th>0</th>\n",
              "      <td>QuestionId</td>\n",
              "      <td>3</td>\n",
              "    </tr>\n",
              "    <tr>\n",
              "      <th>1</th>\n",
              "      <td>UserId</td>\n",
              "      <td>1</td>\n",
              "    </tr>\n",
              "    <tr>\n",
              "      <th>2</th>\n",
              "      <td>AnswerId</td>\n",
              "      <td>0</td>\n",
              "    </tr>\n",
              "    <tr>\n",
              "      <th>3</th>\n",
              "      <td>IsCorrect</td>\n",
              "      <td>35566</td>\n",
              "    </tr>\n",
              "    <tr>\n",
              "      <th>4</th>\n",
              "      <td>CorrectAnswer</td>\n",
              "      <td>0</td>\n",
              "    </tr>\n",
              "    <tr>\n",
              "      <th>5</th>\n",
              "      <td>AnswerValue</td>\n",
              "      <td>0</td>\n",
              "    </tr>\n",
              "    <tr>\n",
              "      <th>6</th>\n",
              "      <td>DateAnswered</td>\n",
              "      <td>0</td>\n",
              "    </tr>\n",
              "    <tr>\n",
              "      <th>7</th>\n",
              "      <td>Confidence</td>\n",
              "      <td>730</td>\n",
              "    </tr>\n",
              "    <tr>\n",
              "      <th>8</th>\n",
              "      <td>GroupId</td>\n",
              "      <td>4</td>\n",
              "    </tr>\n",
              "    <tr>\n",
              "      <th>9</th>\n",
              "      <td>QuizId</td>\n",
              "      <td>3</td>\n",
              "    </tr>\n",
              "  </tbody>\n",
              "</table>\n",
              "</div>\n",
              "      <button class=\"colab-df-convert\" onclick=\"convertToInteractive('df-8851ca90-5e77-487b-9fe2-ad5eb7908a6e')\"\n",
              "              title=\"Convert this dataframe to an interactive table.\"\n",
              "              style=\"display:none;\">\n",
              "        \n",
              "  <svg xmlns=\"http://www.w3.org/2000/svg\" height=\"24px\"viewBox=\"0 0 24 24\"\n",
              "       width=\"24px\">\n",
              "    <path d=\"M0 0h24v24H0V0z\" fill=\"none\"/>\n",
              "    <path d=\"M18.56 5.44l.94 2.06.94-2.06 2.06-.94-2.06-.94-.94-2.06-.94 2.06-2.06.94zm-11 1L8.5 8.5l.94-2.06 2.06-.94-2.06-.94L8.5 2.5l-.94 2.06-2.06.94zm10 10l.94 2.06.94-2.06 2.06-.94-2.06-.94-.94-2.06-.94 2.06-2.06.94z\"/><path d=\"M17.41 7.96l-1.37-1.37c-.4-.4-.92-.59-1.43-.59-.52 0-1.04.2-1.43.59L10.3 9.45l-7.72 7.72c-.78.78-.78 2.05 0 2.83L4 21.41c.39.39.9.59 1.41.59.51 0 1.02-.2 1.41-.59l7.78-7.78 2.81-2.81c.8-.78.8-2.07 0-2.86zM5.41 20L4 18.59l7.72-7.72 1.47 1.35L5.41 20z\"/>\n",
              "  </svg>\n",
              "      </button>\n",
              "      \n",
              "  <style>\n",
              "    .colab-df-container {\n",
              "      display:flex;\n",
              "      flex-wrap:wrap;\n",
              "      gap: 12px;\n",
              "    }\n",
              "\n",
              "    .colab-df-convert {\n",
              "      background-color: #E8F0FE;\n",
              "      border: none;\n",
              "      border-radius: 50%;\n",
              "      cursor: pointer;\n",
              "      display: none;\n",
              "      fill: #1967D2;\n",
              "      height: 32px;\n",
              "      padding: 0 0 0 0;\n",
              "      width: 32px;\n",
              "    }\n",
              "\n",
              "    .colab-df-convert:hover {\n",
              "      background-color: #E2EBFA;\n",
              "      box-shadow: 0px 1px 2px rgba(60, 64, 67, 0.3), 0px 1px 3px 1px rgba(60, 64, 67, 0.15);\n",
              "      fill: #174EA6;\n",
              "    }\n",
              "\n",
              "    [theme=dark] .colab-df-convert {\n",
              "      background-color: #3B4455;\n",
              "      fill: #D2E3FC;\n",
              "    }\n",
              "\n",
              "    [theme=dark] .colab-df-convert:hover {\n",
              "      background-color: #434B5C;\n",
              "      box-shadow: 0px 1px 3px 1px rgba(0, 0, 0, 0.15);\n",
              "      filter: drop-shadow(0px 1px 2px rgba(0, 0, 0, 0.3));\n",
              "      fill: #FFFFFF;\n",
              "    }\n",
              "  </style>\n",
              "\n",
              "      <script>\n",
              "        const buttonEl =\n",
              "          document.querySelector('#df-8851ca90-5e77-487b-9fe2-ad5eb7908a6e button.colab-df-convert');\n",
              "        buttonEl.style.display =\n",
              "          google.colab.kernel.accessAllowed ? 'block' : 'none';\n",
              "\n",
              "        async function convertToInteractive(key) {\n",
              "          const element = document.querySelector('#df-8851ca90-5e77-487b-9fe2-ad5eb7908a6e');\n",
              "          const dataTable =\n",
              "            await google.colab.kernel.invokeFunction('convertToInteractive',\n",
              "                                                     [key], {});\n",
              "          if (!dataTable) return;\n",
              "\n",
              "          const docLinkHtml = 'Like what you see? Visit the ' +\n",
              "            '<a target=\"_blank\" href=https://colab.research.google.com/notebooks/data_table.ipynb>data table notebook</a>'\n",
              "            + ' to learn more about interactive tables.';\n",
              "          element.innerHTML = '';\n",
              "          dataTable['output_type'] = 'display_data';\n",
              "          await google.colab.output.renderOutput(dataTable, element);\n",
              "          const docLink = document.createElement('div');\n",
              "          docLink.innerHTML = docLinkHtml;\n",
              "          element.appendChild(docLink);\n",
              "        }\n",
              "      </script>\n",
              "    </div>\n",
              "  </div>\n",
              "  "
            ],
            "text/plain": [
              "         feature  zero_values\n",
              "0     QuestionId            3\n",
              "1         UserId            1\n",
              "2       AnswerId            0\n",
              "3      IsCorrect        35566\n",
              "4  CorrectAnswer            0\n",
              "5    AnswerValue            0\n",
              "6   DateAnswered            0\n",
              "7     Confidence          730\n",
              "8        GroupId            4\n",
              "9         QuizId            3"
            ]
          },
          "execution_count": 43,
          "metadata": {},
          "output_type": "execute_result"
        }
      ],
      "source": [
        "zero_values = (df==0).sum()\n",
        "zero_values_df = pd.DataFrame(zero_values).reset_index()\n",
        "zero_values_df.columns=['feature', 'zero_values']\n",
        "zero_values_df.head(10)"
      ]
    },
    {
      "cell_type": "markdown",
      "metadata": {
        "id": "rlH14tQ4_BlZ"
      },
      "source": [
        "There are some Zeros in columns. We cab check the percentage of zeros in these columns."
      ]
    },
    {
      "cell_type": "code",
      "execution_count": null,
      "metadata": {
        "colab": {
          "base_uri": "https://localhost:8080/",
          "height": 404
        },
        "id": "8h4_nlwP-kQE",
        "outputId": "cc58dbf1-89f2-41ef-b665-dc52110b2517"
      },
      "outputs": [
        {
          "name": "stderr",
          "output_type": "stream",
          "text": [
            "/usr/local/lib/python3.7/dist-packages/ipykernel_launcher.py:3: SettingWithCopyWarning: \n",
            "A value is trying to be set on a copy of a slice from a DataFrame.\n",
            "Try using .loc[row_indexer,col_indexer] = value instead\n",
            "\n",
            "See the caveats in the documentation: https://pandas.pydata.org/pandas-docs/stable/user_guide/indexing.html#returning-a-view-versus-a-copy\n",
            "  This is separate from the ipykernel package so we can avoid doing imports until\n"
          ]
        },
        {
          "data": {
            "text/html": [
              "\n",
              "  <div id=\"df-6eb6dd8f-2d24-4d5c-a7d0-71db2f2d94ef\">\n",
              "    <div class=\"colab-df-container\">\n",
              "      <div>\n",
              "<style scoped>\n",
              "    .dataframe tbody tr th:only-of-type {\n",
              "        vertical-align: middle;\n",
              "    }\n",
              "\n",
              "    .dataframe tbody tr th {\n",
              "        vertical-align: top;\n",
              "    }\n",
              "\n",
              "    .dataframe thead th {\n",
              "        text-align: right;\n",
              "    }\n",
              "</style>\n",
              "<table border=\"1\" class=\"dataframe\">\n",
              "  <thead>\n",
              "    <tr style=\"text-align: right;\">\n",
              "      <th></th>\n",
              "      <th>feature</th>\n",
              "      <th>zero_values</th>\n",
              "      <th>percentage</th>\n",
              "    </tr>\n",
              "  </thead>\n",
              "  <tbody>\n",
              "    <tr>\n",
              "      <th>0</th>\n",
              "      <td>QuestionId</td>\n",
              "      <td>3</td>\n",
              "      <td>0.00</td>\n",
              "    </tr>\n",
              "    <tr>\n",
              "      <th>1</th>\n",
              "      <td>UserId</td>\n",
              "      <td>1</td>\n",
              "      <td>0.00</td>\n",
              "    </tr>\n",
              "    <tr>\n",
              "      <th>8</th>\n",
              "      <td>GroupId</td>\n",
              "      <td>4</td>\n",
              "      <td>0.00</td>\n",
              "    </tr>\n",
              "    <tr>\n",
              "      <th>9</th>\n",
              "      <td>QuizId</td>\n",
              "      <td>3</td>\n",
              "      <td>0.00</td>\n",
              "    </tr>\n",
              "    <tr>\n",
              "      <th>7</th>\n",
              "      <td>Confidence</td>\n",
              "      <td>730</td>\n",
              "      <td>0.73</td>\n",
              "    </tr>\n",
              "    <tr>\n",
              "      <th>13</th>\n",
              "      <td>PremiumPupil</td>\n",
              "      <td>21555</td>\n",
              "      <td>21.56</td>\n",
              "    </tr>\n",
              "    <tr>\n",
              "      <th>11</th>\n",
              "      <td>Gender</td>\n",
              "      <td>23414</td>\n",
              "      <td>23.41</td>\n",
              "    </tr>\n",
              "    <tr>\n",
              "      <th>3</th>\n",
              "      <td>IsCorrect</td>\n",
              "      <td>35566</td>\n",
              "      <td>35.57</td>\n",
              "    </tr>\n",
              "  </tbody>\n",
              "</table>\n",
              "</div>\n",
              "      <button class=\"colab-df-convert\" onclick=\"convertToInteractive('df-6eb6dd8f-2d24-4d5c-a7d0-71db2f2d94ef')\"\n",
              "              title=\"Convert this dataframe to an interactive table.\"\n",
              "              style=\"display:none;\">\n",
              "        \n",
              "  <svg xmlns=\"http://www.w3.org/2000/svg\" height=\"24px\"viewBox=\"0 0 24 24\"\n",
              "       width=\"24px\">\n",
              "    <path d=\"M0 0h24v24H0V0z\" fill=\"none\"/>\n",
              "    <path d=\"M18.56 5.44l.94 2.06.94-2.06 2.06-.94-2.06-.94-.94-2.06-.94 2.06-2.06.94zm-11 1L8.5 8.5l.94-2.06 2.06-.94-2.06-.94L8.5 2.5l-.94 2.06-2.06.94zm10 10l.94 2.06.94-2.06 2.06-.94-2.06-.94-.94-2.06-.94 2.06-2.06.94z\"/><path d=\"M17.41 7.96l-1.37-1.37c-.4-.4-.92-.59-1.43-.59-.52 0-1.04.2-1.43.59L10.3 9.45l-7.72 7.72c-.78.78-.78 2.05 0 2.83L4 21.41c.39.39.9.59 1.41.59.51 0 1.02-.2 1.41-.59l7.78-7.78 2.81-2.81c.8-.78.8-2.07 0-2.86zM5.41 20L4 18.59l7.72-7.72 1.47 1.35L5.41 20z\"/>\n",
              "  </svg>\n",
              "      </button>\n",
              "      \n",
              "  <style>\n",
              "    .colab-df-container {\n",
              "      display:flex;\n",
              "      flex-wrap:wrap;\n",
              "      gap: 12px;\n",
              "    }\n",
              "\n",
              "    .colab-df-convert {\n",
              "      background-color: #E8F0FE;\n",
              "      border: none;\n",
              "      border-radius: 50%;\n",
              "      cursor: pointer;\n",
              "      display: none;\n",
              "      fill: #1967D2;\n",
              "      height: 32px;\n",
              "      padding: 0 0 0 0;\n",
              "      width: 32px;\n",
              "    }\n",
              "\n",
              "    .colab-df-convert:hover {\n",
              "      background-color: #E2EBFA;\n",
              "      box-shadow: 0px 1px 2px rgba(60, 64, 67, 0.3), 0px 1px 3px 1px rgba(60, 64, 67, 0.15);\n",
              "      fill: #174EA6;\n",
              "    }\n",
              "\n",
              "    [theme=dark] .colab-df-convert {\n",
              "      background-color: #3B4455;\n",
              "      fill: #D2E3FC;\n",
              "    }\n",
              "\n",
              "    [theme=dark] .colab-df-convert:hover {\n",
              "      background-color: #434B5C;\n",
              "      box-shadow: 0px 1px 3px 1px rgba(0, 0, 0, 0.15);\n",
              "      filter: drop-shadow(0px 1px 2px rgba(0, 0, 0, 0.3));\n",
              "      fill: #FFFFFF;\n",
              "    }\n",
              "  </style>\n",
              "\n",
              "      <script>\n",
              "        const buttonEl =\n",
              "          document.querySelector('#df-6eb6dd8f-2d24-4d5c-a7d0-71db2f2d94ef button.colab-df-convert');\n",
              "        buttonEl.style.display =\n",
              "          google.colab.kernel.accessAllowed ? 'block' : 'none';\n",
              "\n",
              "        async function convertToInteractive(key) {\n",
              "          const element = document.querySelector('#df-6eb6dd8f-2d24-4d5c-a7d0-71db2f2d94ef');\n",
              "          const dataTable =\n",
              "            await google.colab.kernel.invokeFunction('convertToInteractive',\n",
              "                                                     [key], {});\n",
              "          if (!dataTable) return;\n",
              "\n",
              "          const docLinkHtml = 'Like what you see? Visit the ' +\n",
              "            '<a target=\"_blank\" href=https://colab.research.google.com/notebooks/data_table.ipynb>data table notebook</a>'\n",
              "            + ' to learn more about interactive tables.';\n",
              "          element.innerHTML = '';\n",
              "          dataTable['output_type'] = 'display_data';\n",
              "          await google.colab.output.renderOutput(dataTable, element);\n",
              "          const docLink = document.createElement('div');\n",
              "          docLink.innerHTML = docLinkHtml;\n",
              "          element.appendChild(docLink);\n",
              "        }\n",
              "      </script>\n",
              "    </div>\n",
              "  </div>\n",
              "  "
            ],
            "text/plain": [
              "         feature  zero_values  percentage\n",
              "0     QuestionId            3        0.00\n",
              "1         UserId            1        0.00\n",
              "8        GroupId            4        0.00\n",
              "9         QuizId            3        0.00\n",
              "7     Confidence          730        0.73\n",
              "13  PremiumPupil        21555       21.56\n",
              "11        Gender        23414       23.41\n",
              "3      IsCorrect        35566       35.57"
            ]
          },
          "execution_count": 44,
          "metadata": {},
          "output_type": "execute_result"
        }
      ],
      "source": [
        "zero_values2_df = zero_values_df[zero_values_df.zero_values>0]\n",
        "zero_values2_df['percentage'] = (zero_values2_df['zero_values']/\n",
        "                                 df.shape[0]*100).round(2)\n",
        "zero_values2_df.sort_values('percentage')"
      ]
    },
    {
      "cell_type": "markdown",
      "metadata": {
        "id": "Nx5ZWRBJAHZ1"
      },
      "source": [
        "So as per results there are zero percent zeros in all the columns except IsCorrect and gender column. The zeros in IsCorrect and gender column are the genuin categorical value. So there is no need to handle zeros."
      ]
    },
    {
      "cell_type": "code",
      "execution_count": null,
      "metadata": {
        "colab": {
          "base_uri": "https://localhost:8080/",
          "height": 206
        },
        "id": "-8Mkq4g2P9v5",
        "outputId": "95f5caf3-2b64-4e8a-8332-e30b5523582f"
      },
      "outputs": [
        {
          "data": {
            "text/html": [
              "\n",
              "  <div id=\"df-0b2b0a9b-cecd-44db-aaf7-0d1fea86fcbe\">\n",
              "    <div class=\"colab-df-container\">\n",
              "      <div>\n",
              "<style scoped>\n",
              "    .dataframe tbody tr th:only-of-type {\n",
              "        vertical-align: middle;\n",
              "    }\n",
              "\n",
              "    .dataframe tbody tr th {\n",
              "        vertical-align: top;\n",
              "    }\n",
              "\n",
              "    .dataframe thead th {\n",
              "        text-align: right;\n",
              "    }\n",
              "</style>\n",
              "<table border=\"1\" class=\"dataframe\">\n",
              "  <thead>\n",
              "    <tr style=\"text-align: right;\">\n",
              "      <th></th>\n",
              "      <th>QuestionId</th>\n",
              "      <th>UserId</th>\n",
              "      <th>AnswerId</th>\n",
              "      <th>IsCorrect</th>\n",
              "      <th>CorrectAnswer</th>\n",
              "      <th>AnswerValue</th>\n",
              "      <th>GroupId</th>\n",
              "      <th>QuizId</th>\n",
              "      <th>Gender</th>\n",
              "      <th>SubjectId</th>\n",
              "      <th>age</th>\n",
              "    </tr>\n",
              "  </thead>\n",
              "  <tbody>\n",
              "    <tr>\n",
              "      <th>14992662</th>\n",
              "      <td>13759</td>\n",
              "      <td>76059</td>\n",
              "      <td>6638933</td>\n",
              "      <td>1</td>\n",
              "      <td>3</td>\n",
              "      <td>3</td>\n",
              "      <td>2111</td>\n",
              "      <td>7605</td>\n",
              "      <td>1</td>\n",
              "      <td>159</td>\n",
              "      <td>19</td>\n",
              "    </tr>\n",
              "    <tr>\n",
              "      <th>9434683</th>\n",
              "      <td>6081</td>\n",
              "      <td>81285</td>\n",
              "      <td>18661085</td>\n",
              "      <td>1</td>\n",
              "      <td>2</td>\n",
              "      <td>2</td>\n",
              "      <td>11782</td>\n",
              "      <td>12467</td>\n",
              "      <td>2</td>\n",
              "      <td>752</td>\n",
              "      <td>18</td>\n",
              "    </tr>\n",
              "    <tr>\n",
              "      <th>11034072</th>\n",
              "      <td>26893</td>\n",
              "      <td>68491</td>\n",
              "      <td>2538751</td>\n",
              "      <td>0</td>\n",
              "      <td>3</td>\n",
              "      <td>2</td>\n",
              "      <td>10690</td>\n",
              "      <td>15533</td>\n",
              "      <td>2</td>\n",
              "      <td>742</td>\n",
              "      <td>13</td>\n",
              "    </tr>\n",
              "    <tr>\n",
              "      <th>3316249</th>\n",
              "      <td>14613</td>\n",
              "      <td>21119</td>\n",
              "      <td>6110841</td>\n",
              "      <td>1</td>\n",
              "      <td>1</td>\n",
              "      <td>1</td>\n",
              "      <td>6861</td>\n",
              "      <td>12387</td>\n",
              "      <td>1</td>\n",
              "      <td>156</td>\n",
              "      <td>18</td>\n",
              "    </tr>\n",
              "    <tr>\n",
              "      <th>5078871</th>\n",
              "      <td>14257</td>\n",
              "      <td>81849</td>\n",
              "      <td>12705910</td>\n",
              "      <td>1</td>\n",
              "      <td>2</td>\n",
              "      <td>2</td>\n",
              "      <td>11698</td>\n",
              "      <td>6688</td>\n",
              "      <td>2</td>\n",
              "      <td>126</td>\n",
              "      <td>18</td>\n",
              "    </tr>\n",
              "  </tbody>\n",
              "</table>\n",
              "</div>\n",
              "      <button class=\"colab-df-convert\" onclick=\"convertToInteractive('df-0b2b0a9b-cecd-44db-aaf7-0d1fea86fcbe')\"\n",
              "              title=\"Convert this dataframe to an interactive table.\"\n",
              "              style=\"display:none;\">\n",
              "        \n",
              "  <svg xmlns=\"http://www.w3.org/2000/svg\" height=\"24px\"viewBox=\"0 0 24 24\"\n",
              "       width=\"24px\">\n",
              "    <path d=\"M0 0h24v24H0V0z\" fill=\"none\"/>\n",
              "    <path d=\"M18.56 5.44l.94 2.06.94-2.06 2.06-.94-2.06-.94-.94-2.06-.94 2.06-2.06.94zm-11 1L8.5 8.5l.94-2.06 2.06-.94-2.06-.94L8.5 2.5l-.94 2.06-2.06.94zm10 10l.94 2.06.94-2.06 2.06-.94-2.06-.94-.94-2.06-.94 2.06-2.06.94z\"/><path d=\"M17.41 7.96l-1.37-1.37c-.4-.4-.92-.59-1.43-.59-.52 0-1.04.2-1.43.59L10.3 9.45l-7.72 7.72c-.78.78-.78 2.05 0 2.83L4 21.41c.39.39.9.59 1.41.59.51 0 1.02-.2 1.41-.59l7.78-7.78 2.81-2.81c.8-.78.8-2.07 0-2.86zM5.41 20L4 18.59l7.72-7.72 1.47 1.35L5.41 20z\"/>\n",
              "  </svg>\n",
              "      </button>\n",
              "      \n",
              "  <style>\n",
              "    .colab-df-container {\n",
              "      display:flex;\n",
              "      flex-wrap:wrap;\n",
              "      gap: 12px;\n",
              "    }\n",
              "\n",
              "    .colab-df-convert {\n",
              "      background-color: #E8F0FE;\n",
              "      border: none;\n",
              "      border-radius: 50%;\n",
              "      cursor: pointer;\n",
              "      display: none;\n",
              "      fill: #1967D2;\n",
              "      height: 32px;\n",
              "      padding: 0 0 0 0;\n",
              "      width: 32px;\n",
              "    }\n",
              "\n",
              "    .colab-df-convert:hover {\n",
              "      background-color: #E2EBFA;\n",
              "      box-shadow: 0px 1px 2px rgba(60, 64, 67, 0.3), 0px 1px 3px 1px rgba(60, 64, 67, 0.15);\n",
              "      fill: #174EA6;\n",
              "    }\n",
              "\n",
              "    [theme=dark] .colab-df-convert {\n",
              "      background-color: #3B4455;\n",
              "      fill: #D2E3FC;\n",
              "    }\n",
              "\n",
              "    [theme=dark] .colab-df-convert:hover {\n",
              "      background-color: #434B5C;\n",
              "      box-shadow: 0px 1px 3px 1px rgba(0, 0, 0, 0.15);\n",
              "      filter: drop-shadow(0px 1px 2px rgba(0, 0, 0, 0.3));\n",
              "      fill: #FFFFFF;\n",
              "    }\n",
              "  </style>\n",
              "\n",
              "      <script>\n",
              "        const buttonEl =\n",
              "          document.querySelector('#df-0b2b0a9b-cecd-44db-aaf7-0d1fea86fcbe button.colab-df-convert');\n",
              "        buttonEl.style.display =\n",
              "          google.colab.kernel.accessAllowed ? 'block' : 'none';\n",
              "\n",
              "        async function convertToInteractive(key) {\n",
              "          const element = document.querySelector('#df-0b2b0a9b-cecd-44db-aaf7-0d1fea86fcbe');\n",
              "          const dataTable =\n",
              "            await google.colab.kernel.invokeFunction('convertToInteractive',\n",
              "                                                     [key], {});\n",
              "          if (!dataTable) return;\n",
              "\n",
              "          const docLinkHtml = 'Like what you see? Visit the ' +\n",
              "            '<a target=\"_blank\" href=https://colab.research.google.com/notebooks/data_table.ipynb>data table notebook</a>'\n",
              "            + ' to learn more about interactive tables.';\n",
              "          element.innerHTML = '';\n",
              "          dataTable['output_type'] = 'display_data';\n",
              "          await google.colab.output.renderOutput(dataTable, element);\n",
              "          const docLink = document.createElement('div');\n",
              "          docLink.innerHTML = docLinkHtml;\n",
              "          element.appendChild(docLink);\n",
              "        }\n",
              "      </script>\n",
              "    </div>\n",
              "  </div>\n",
              "  "
            ],
            "text/plain": [
              "          QuestionId  UserId  AnswerId  IsCorrect  CorrectAnswer  AnswerValue  \\\n",
              "14992662       13759   76059   6638933          1              3            3   \n",
              "9434683         6081   81285  18661085          1              2            2   \n",
              "11034072       26893   68491   2538751          0              3            2   \n",
              "3316249        14613   21119   6110841          1              1            1   \n",
              "5078871        14257   81849  12705910          1              2            2   \n",
              "\n",
              "          GroupId  QuizId  Gender  SubjectId  age  \n",
              "14992662     2111    7605       1        159   19  \n",
              "9434683     11782   12467       2        752   18  \n",
              "11034072    10690   15533       2        742   13  \n",
              "3316249      6861   12387       1        156   18  \n",
              "5078871     11698    6688       2        126   18  "
            ]
          },
          "execution_count": 45,
          "metadata": {},
          "output_type": "execute_result"
        }
      ],
      "source": [
        "# Label encoding\n",
        "\n",
        "from sklearn import preprocessing\n",
        "le = preprocessing.LabelEncoder()\n",
        "dfclean['Gender']=le.fit_transform(dfclean['Gender'])\n",
        "dfclean['CorrectAnswer']=le.fit_transform(dfclean['CorrectAnswer'])\n",
        "dfclean['AnswerValue']=le.fit_transform(dfclean['AnswerValue'])\n",
        "dfclean['SubjectId']=le.fit_transform(dfclean['SubjectId'])\n",
        "\n",
        "dfclean.head()"
      ]
    },
    {
      "cell_type": "code",
      "execution_count": null,
      "metadata": {
        "colab": {
          "base_uri": "https://localhost:8080/"
        },
        "id": "Y0Tf3hWQQD6c",
        "outputId": "99f598ad-386f-4d15-806c-c58d798d97cd"
      },
      "outputs": [
        {
          "data": {
            "text/plain": [
              "Index(['QuestionId', 'UserId', 'AnswerId', 'IsCorrect', 'CorrectAnswer',\n",
              "       'AnswerValue', 'GroupId', 'QuizId', 'Gender', 'SubjectId', 'age'],\n",
              "      dtype='object')"
            ]
          },
          "execution_count": 46,
          "metadata": {},
          "output_type": "execute_result"
        }
      ],
      "source": [
        "dfclean.columns"
      ]
    },
    {
      "cell_type": "code",
      "execution_count": null,
      "metadata": {
        "colab": {
          "base_uri": "https://localhost:8080/",
          "height": 613
        },
        "id": "XvX2ST-nb8gX",
        "outputId": "5de8b55f-a99f-49d4-fdd7-77913dcf872a"
      },
      "outputs": [
        {
          "data": {
            "text/plain": [
              "<matplotlib.axes._subplots.AxesSubplot at 0x7f6d798edc50>"
            ]
          },
          "execution_count": 47,
          "metadata": {},
          "output_type": "execute_result"
        },
        {
          "data": {
            "image/png": "[encoded data removed]",
            "text/plain": [
              "<Figure size 1800x720 with 2 Axes>"
            ]
          },
          "metadata": {},
          "output_type": "display_data"
        }
      ],
      "source": [
        "plt.figure(figsize=(25,10))\n",
        "sns.heatmap(dfclean.corr(),annot=True,cmap='rainbow')"
      ]
    },
    {
      "cell_type": "code",
      "execution_count": null,
      "metadata": {
        "id": "JB6Ec2qtQFSD"
      },
      "outputs": [],
      "source": [
        "# Normalize the data \n",
        "from sklearn.preprocessing import StandardScaler\n",
        "scalar_ = StandardScaler()\n",
        "\n",
        "dfclean['QuestionId'] = scalar_.fit_transform(dfclean[['QuestionId']])\n",
        "dfclean['AnswerId'] = scalar_.fit_transform(dfclean[['AnswerId']])\n",
        "dfclean['UserId'] = scalar_.fit_transform(dfclean[['UserId']])"
      ]
    },
    {
      "cell_type": "code",
      "execution_count": null,
      "metadata": {
        "id": "LxaUR8Vxj96B"
      },
      "outputs": [],
      "source": [
        "def SaveResults(modelname, accuracy, precision, recall, F1_score, confusion_matrix, roc, perfcounter ):\n",
        "  global dfResults\n",
        "  dfResults.style.hide_index()\n",
        "  if(dfResults[dfResults['Model']==modelname] is not np.empty):\n",
        "    dfResults.drop(dfResults.loc[dfResults['Model']==modelname].index, inplace=True)\n",
        "  new_results = {'Model': modelname, \n",
        "             'Accuracy': accuracy, \n",
        "             'Precision':precision, \n",
        "             'Recall':recall, \n",
        "             'F1 score':F1_score, \n",
        "             'Confusion matrix':confusion_matrix, \n",
        "             'ROC':roc,\n",
        "             'Perf counter': perfcounter }\n",
        "  #append row to the dataframe\n",
        "  dfResults= dfResults.append(new_results, ignore_index=True)\n",
        "\n",
        "def PrintResults(modelname):\n",
        "  index = dfResults[dfResults['Model']== modelname].index\n",
        "  print(\"Accuracy : \", dfResults.iloc[index,1].to_string(index=False))\n",
        "  print(\"Precision: \", dfResults.iloc[index,2].to_string(index=False))\n",
        "  print(\"Recall: \", dfResults.iloc[index,3].to_string(index=False))\n",
        "  print(\"F1 score: \", dfResults.iloc[index,4].to_string(index=False))\n",
        "  print(\"Confusion matrix:\", dfResults.iloc[index,5].to_string(index=False))\n",
        "  print(\"ROC AUC Score: \", dfResults.iloc[index,6].to_string(index=False))\n",
        "  print(\"Perf counter: \", dfResults.iloc[index,7].to_string(index=False))\n",
        "\n",
        "def model(classifier, modelname):\n",
        "  start = time.perf_counter()\n",
        "  classifier.fit(x_train,y_train)\n",
        "  y_predict = classifier.predict(x_test)\n",
        "  end = time.perf_counter()\n",
        "  cm = confusion_matrix(y_test, y_predict)\n",
        "  precision = precision_score(y_test, y_predict)\n",
        "  recall = recall_score(y_test, y_predict)\n",
        "  accuracy= accuracy_score(y_test, y_predict)\n",
        "  f1Score = f1_score(y_test, y_predict)\n",
        "  RocAucScore = roc_auc_score(y_test, classifier.predict_proba(x_test)[:, 1])\n",
        "  perfcounter = end - start\n",
        "  SaveResults(modelname, accuracy, precision, recall, f1Score, cm, RocAucScore, perfcounter )\n",
        "  PrintResults(modelname)\n",
        "\n",
        "  RocCurveDisplay.from_estimator(classifier, x_test,y_test)\n",
        "  plt.title('ROC_AUC_PLOT')\n",
        "  plt.show()"
      ]
    },
    {
      "cell_type": "markdown",
      "metadata": {
        "id": "8PCx6ZkQtG86"
      },
      "source": [
        "**Task 1: predict the correctness of answer chosen by a student**"
      ]
    },
    {
      "cell_type": "code",
      "execution_count": null,
      "metadata": {
        "id": "tSgQLjpfQcqC"
      },
      "outputs": [],
      "source": [
        "#features and target \n",
        "x= dfclean.drop(['IsCorrect'], axis=1)\n",
        "y= dfclean['IsCorrect']"
      ]
    },
    {
      "cell_type": "code",
      "execution_count": null,
      "metadata": {
        "colab": {
          "base_uri": "https://localhost:8080/",
          "height": 49
        },
        "id": "Ow5iX_aWnPgE",
        "outputId": "38b41ddf-9c32-47cb-be74-520ad37c452c"
      },
      "outputs": [
        {
          "data": {
            "text/html": [
              "\n",
              "  <div id=\"df-fd327e84-4e28-463f-80c5-f7aee84a6a06\">\n",
              "    <div class=\"colab-df-container\">\n",
              "      <div>\n",
              "<style scoped>\n",
              "    .dataframe tbody tr th:only-of-type {\n",
              "        vertical-align: middle;\n",
              "    }\n",
              "\n",
              "    .dataframe tbody tr th {\n",
              "        vertical-align: top;\n",
              "    }\n",
              "\n",
              "    .dataframe thead th {\n",
              "        text-align: right;\n",
              "    }\n",
              "</style>\n",
              "<table border=\"1\" class=\"dataframe\">\n",
              "  <thead>\n",
              "    <tr style=\"text-align: right;\">\n",
              "      <th></th>\n",
              "      <th>Model</th>\n",
              "      <th>Accuracy</th>\n",
              "      <th>Precision</th>\n",
              "      <th>Recall</th>\n",
              "      <th>F1 score</th>\n",
              "      <th>Confusion matrix</th>\n",
              "      <th>ROC</th>\n",
              "      <th>Perf counter</th>\n",
              "    </tr>\n",
              "  </thead>\n",
              "  <tbody>\n",
              "  </tbody>\n",
              "</table>\n",
              "</div>\n",
              "      <button class=\"colab-df-convert\" onclick=\"convertToInteractive('df-fd327e84-4e28-463f-80c5-f7aee84a6a06')\"\n",
              "              title=\"Convert this dataframe to an interactive table.\"\n",
              "              style=\"display:none;\">\n",
              "        \n",
              "  <svg xmlns=\"http://www.w3.org/2000/svg\" height=\"24px\"viewBox=\"0 0 24 24\"\n",
              "       width=\"24px\">\n",
              "    <path d=\"M0 0h24v24H0V0z\" fill=\"none\"/>\n",
              "    <path d=\"M18.56 5.44l.94 2.06.94-2.06 2.06-.94-2.06-.94-.94-2.06-.94 2.06-2.06.94zm-11 1L8.5 8.5l.94-2.06 2.06-.94-2.06-.94L8.5 2.5l-.94 2.06-2.06.94zm10 10l.94 2.06.94-2.06 2.06-.94-2.06-.94-.94-2.06-.94 2.06-2.06.94z\"/><path d=\"M17.41 7.96l-1.37-1.37c-.4-.4-.92-.59-1.43-.59-.52 0-1.04.2-1.43.59L10.3 9.45l-7.72 7.72c-.78.78-.78 2.05 0 2.83L4 21.41c.39.39.9.59 1.41.59.51 0 1.02-.2 1.41-.59l7.78-7.78 2.81-2.81c.8-.78.8-2.07 0-2.86zM5.41 20L4 18.59l7.72-7.72 1.47 1.35L5.41 20z\"/>\n",
              "  </svg>\n",
              "      </button>\n",
              "      \n",
              "  <style>\n",
              "    .colab-df-container {\n",
              "      display:flex;\n",
              "      flex-wrap:wrap;\n",
              "      gap: 12px;\n",
              "    }\n",
              "\n",
              "    .colab-df-convert {\n",
              "      background-color: #E8F0FE;\n",
              "      border: none;\n",
              "      border-radius: 50%;\n",
              "      cursor: pointer;\n",
              "      display: none;\n",
              "      fill: #1967D2;\n",
              "      height: 32px;\n",
              "      padding: 0 0 0 0;\n",
              "      width: 32px;\n",
              "    }\n",
              "\n",
              "    .colab-df-convert:hover {\n",
              "      background-color: #E2EBFA;\n",
              "      box-shadow: 0px 1px 2px rgba(60, 64, 67, 0.3), 0px 1px 3px 1px rgba(60, 64, 67, 0.15);\n",
              "      fill: #174EA6;\n",
              "    }\n",
              "\n",
              "    [theme=dark] .colab-df-convert {\n",
              "      background-color: #3B4455;\n",
              "      fill: #D2E3FC;\n",
              "    }\n",
              "\n",
              "    [theme=dark] .colab-df-convert:hover {\n",
              "      background-color: #434B5C;\n",
              "      box-shadow: 0px 1px 3px 1px rgba(0, 0, 0, 0.15);\n",
              "      filter: drop-shadow(0px 1px 2px rgba(0, 0, 0, 0.3));\n",
              "      fill: #FFFFFF;\n",
              "    }\n",
              "  </style>\n",
              "\n",
              "      <script>\n",
              "        const buttonEl =\n",
              "          document.querySelector('#df-fd327e84-4e28-463f-80c5-f7aee84a6a06 button.colab-df-convert');\n",
              "        buttonEl.style.display =\n",
              "          google.colab.kernel.accessAllowed ? 'block' : 'none';\n",
              "\n",
              "        async function convertToInteractive(key) {\n",
              "          const element = document.querySelector('#df-fd327e84-4e28-463f-80c5-f7aee84a6a06');\n",
              "          const dataTable =\n",
              "            await google.colab.kernel.invokeFunction('convertToInteractive',\n",
              "                                                     [key], {});\n",
              "          if (!dataTable) return;\n",
              "\n",
              "          const docLinkHtml = 'Like what you see? Visit the ' +\n",
              "            '<a target=\"_blank\" href=https://colab.research.google.com/notebooks/data_table.ipynb>data table notebook</a>'\n",
              "            + ' to learn more about interactive tables.';\n",
              "          element.innerHTML = '';\n",
              "          dataTable['output_type'] = 'display_data';\n",
              "          await google.colab.output.renderOutput(dataTable, element);\n",
              "          const docLink = document.createElement('div');\n",
              "          docLink.innerHTML = docLinkHtml;\n",
              "          element.appendChild(docLink);\n",
              "        }\n",
              "      </script>\n",
              "    </div>\n",
              "  </div>\n",
              "  "
            ],
            "text/plain": [
              "Empty DataFrame\n",
              "Columns: [Model, Accuracy, Precision, Recall, F1 score, Confusion matrix, ROC, Perf counter]\n",
              "Index: []"
            ]
          },
          "execution_count": 49,
          "metadata": {},
          "output_type": "execute_result"
        }
      ],
      "source": [
        "dfResults = pd.DataFrame(columns=['Model','Accuracy', 'Precision','Recall','F1 score','Confusion matrix','ROC', 'Perf counter'])\n",
        "dfResults"
      ]
    },
    {
      "cell_type": "markdown",
      "metadata": {
        "id": "ftZfzMfKRIBn"
      },
      "source": [
        "**Implement SelectPercentile**"
      ]
    },
    {
      "cell_type": "code",
      "execution_count": null,
      "metadata": {
        "id": "syU6c1AlZfGd"
      },
      "outputs": [],
      "source": [
        "selectorP = SelectPercentile(score_func=f_classif, percentile=30)\n",
        "x_p = selectorP.fit_transform(x, y)"
      ]
    },
    {
      "cell_type": "code",
      "execution_count": null,
      "metadata": {
        "colab": {
          "base_uri": "https://localhost:8080/"
        },
        "id": "UuoIrEzNZodF",
        "outputId": "772e2eaa-f9e5-4083-b3de-f7d7c87044d4"
      },
      "outputs": [
        {
          "name": "stdout",
          "output_type": "stream",
          "text": [
            "['QuestionId', 'UserId', 'CorrectAnswer']\n"
          ]
        }
      ],
      "source": [
        "# display the selected columns of percentile=20\n",
        "cols = selectorP.get_support(indices=True)\n",
        "selectedPCols = x.columns[cols].to_list()\n",
        "print(selectedPCols)"
      ]
    },
    {
      "cell_type": "markdown",
      "metadata": {
        "id": "WOH0NqMwbSj2"
      },
      "source": [
        "**Splitting the data**"
      ]
    },
    {
      "cell_type": "code",
      "execution_count": null,
      "metadata": {
        "id": "jk1HS4Q-bSj3"
      },
      "outputs": [],
      "source": [
        "x_train,x_test,y_train,y_test=train_test_split(x_p,y,test_size=0.2,random_state=41, \n",
        "                                              stratify=y)"
      ]
    },
    {
      "cell_type": "markdown",
      "metadata": {
        "id": "dGX78eC72hgE"
      },
      "source": [
        "**Build SVM with kernel= 'rbf', gamma= 1.0**"
      ]
    },
    {
      "cell_type": "code",
      "execution_count": null,
      "metadata": {
        "colab": {
          "base_uri": "https://localhost:8080/",
          "height": 416
        },
        "id": "650_4Ey1xrde",
        "outputId": "c30663e0-9470-41f2-88b7-bdb64891c52f"
      },
      "outputs": [
        {
          "name": "stdout",
          "output_type": "stream",
          "text": [
            "Accuracy :  0.642653\n",
            "Precision:  0.642653\n",
            "Recall:  1.0\n",
            "F1 score:  0.782457\n",
            "Confusion matrix: [[0, 4871], [0, 8760]]\n",
            "ROC AUC Score:  0.496782\n",
            "Perf counter:  953.916\n"
          ]
        },
        {
          "data": {
            "image/png": "[encoded data removed]",
            "text/plain": [
              "<Figure size 432x288 with 1 Axes>"
            ]
          },
          "metadata": {},
          "output_type": "display_data"
        }
      ],
      "source": [
        "# Build and evaluate the model\n",
        "SVC_with_rbf = SVC(kernel= 'rbf', gamma= 1.0, probability=True)\n",
        "model(SVC_with_rbf,'SVC_with_rbf')"
      ]
    },
    {
      "cell_type": "markdown",
      "metadata": {
        "id": "y7V56v8S3OrL"
      },
      "source": [
        "**Build SVM with kernel= 'poly'**"
      ]
    },
    {
      "cell_type": "code",
      "execution_count": null,
      "metadata": {
        "colab": {
          "base_uri": "https://localhost:8080/",
          "height": 416
        },
        "id": "-KarUmQi3OrM",
        "outputId": "9bd43100-18ea-407e-ddcc-0f9fa564e938"
      },
      "outputs": [
        {
          "name": "stdout",
          "output_type": "stream",
          "text": [
            "Accuracy :  0.642653\n",
            "Precision:  0.642653\n",
            "Recall:  1.0\n",
            "F1 score:  0.782457\n",
            "Confusion matrix: [[0, 4871], [0, 8760]]\n",
            "ROC AUC Score:  0.498175\n",
            "Perf counter:  450.671853\n"
          ]
        },
        {
          "data": {
            "image/png": "[encoded data removed]",
            "text/plain": [
              "<Figure size 432x288 with 1 Axes>"
            ]
          },
          "metadata": {},
          "output_type": "display_data"
        }
      ],
      "source": [
        "# Build and evaluate the model\n",
        "SVC_with_poly = SVC(kernel= 'poly', probability=True)\n",
        "model(SVC_with_poly,'SVC_with_poly')"
      ]
    },
    {
      "cell_type": "markdown",
      "metadata": {
        "id": "KEgngwFd3XF6"
      },
      "source": [
        "**Build and evaluate SVM with kernel= 'linear'**"
      ]
    },
    {
      "cell_type": "code",
      "execution_count": null,
      "metadata": {
        "colab": {
          "base_uri": "https://localhost:8080/",
          "height": 416
        },
        "id": "aBnVl-ty3XF8",
        "outputId": "e7d70b64-924a-4171-85f4-0f1242331a61"
      },
      "outputs": [
        {
          "name": "stdout",
          "output_type": "stream",
          "text": [
            "Accuracy :  0.642653\n",
            "Precision:  0.642653\n",
            "Recall:  1.0\n",
            "F1 score:  0.782457\n",
            "Confusion matrix: [[0, 4871], [0, 8760]]\n",
            "ROC AUC Score:  0.505876\n",
            "Perf counter:  350.336138\n"
          ]
        },
        {
          "data": {
            "image/png": "[encoded data removed]",
            "text/plain": [
              "<Figure size 432x288 with 1 Axes>"
            ]
          },
          "metadata": {},
          "output_type": "display_data"
        }
      ],
      "source": [
        "# Build and evaluate the model\n",
        "from sklearn.svm import SVC\n",
        "SVC_with_linear_kernel = SVC(kernel= 'linear', probability=True)\n",
        "model(SVC_with_linear_kernel,'SVC_with_linear_kernel')"
      ]
    },
    {
      "cell_type": "markdown",
      "metadata": {
        "id": "4wA3VG1o7Q_r"
      },
      "source": [
        "**Build and evaluate Naive Bayes classifier**"
      ]
    },
    {
      "cell_type": "code",
      "execution_count": null,
      "metadata": {
        "colab": {
          "base_uri": "https://localhost:8080/",
          "height": 416
        },
        "id": "jWXBe4B77Iyb",
        "outputId": "4c7a1c8c-6500-4791-8893-e39d8b787312"
      },
      "outputs": [
        {
          "name": "stdout",
          "output_type": "stream",
          "text": [
            "Accuracy :  0.642653\n",
            "Precision:  0.642653\n",
            "Recall:  1.0\n",
            "F1 score:  0.782457\n",
            "Confusion matrix: [[0, 4871], [0, 8760]]\n",
            "ROC AUC Score:  0.512481\n",
            "Perf counter:  0.016979\n"
          ]
        },
        {
          "data": {
            "image/png": "[encoded data removed]",
            "text/plain": [
              "<Figure size 432x288 with 1 Axes>"
            ]
          },
          "metadata": {},
          "output_type": "display_data"
        }
      ],
      "source": [
        "# Build and evaluate the model\n",
        "from sklearn.naive_bayes import GaussianNB\n",
        "clf = GaussianNB()\n",
        "model(clf,'GaussianNaiveBayes')"
      ]
    },
    {
      "cell_type": "markdown",
      "metadata": {
        "id": "Mv2p7Pj0RktL"
      },
      "source": [
        "**Implement SelectKBest**"
      ]
    },
    {
      "cell_type": "code",
      "execution_count": null,
      "metadata": {
        "id": "uA3X_kXlgjMu"
      },
      "outputs": [],
      "source": [
        "selectorK = SelectKBest(score_func=f_classif, k=5)\n",
        "x_k = selectorK.fit_transform(x,y)"
      ]
    },
    {
      "cell_type": "code",
      "execution_count": null,
      "metadata": {
        "colab": {
          "base_uri": "https://localhost:8080/"
        },
        "id": "fUuad1a6gqaa",
        "outputId": "f107f4ad-d0c1-4fe6-99d0-3dea5a96184f"
      },
      "outputs": [
        {
          "name": "stdout",
          "output_type": "stream",
          "text": [
            "['QuestionId', 'UserId', 'CorrectAnswer', 'SubjectId', 'age']\n"
          ]
        }
      ],
      "source": [
        "# display the selected columns\n",
        "cols = selectorK.get_support(indices=True)\n",
        "selectedKCols = x.columns[cols].to_list()\n",
        "print(selectedKCols)"
      ]
    },
    {
      "cell_type": "markdown",
      "metadata": {
        "id": "KaF_C5KyRqWw"
      },
      "source": [
        "**Splitting the data**"
      ]
    },
    {
      "cell_type": "code",
      "execution_count": null,
      "metadata": {
        "id": "n2ec7NB9g88S"
      },
      "outputs": [],
      "source": [
        "x_train,x_test,y_train,y_test=train_test_split(x_k,y,test_size=0.2,random_state=41, \n",
        "                                              stratify=y)"
      ]
    },
    {
      "cell_type": "markdown",
      "metadata": {
        "id": "8NLVuUYk_g-a"
      },
      "source": [
        "**Build and evaluate Logistic Regression**"
      ]
    },
    {
      "cell_type": "code",
      "execution_count": null,
      "metadata": {
        "colab": {
          "base_uri": "https://localhost:8080/",
          "height": 416
        },
        "id": "ssFJM91a8VJU",
        "outputId": "93fb15f8-3d2b-4125-9d83-1b39694fcc84"
      },
      "outputs": [
        {
          "name": "stdout",
          "output_type": "stream",
          "text": [
            "Accuracy :  0.642726\n",
            "Precision:  0.6427\n",
            "Recall:  1.0\n",
            "F1 score:  0.782492\n",
            "Confusion matrix: [[1, 4870], [0, 8760]]\n",
            "ROC AUC Score:  0.510815\n",
            "Perf counter:  0.667368\n"
          ]
        },
        {
          "data": {
            "image/png": "[encoded data removed]",
            "text/plain": [
              "<Figure size 432x288 with 1 Axes>"
            ]
          },
          "metadata": {},
          "output_type": "display_data"
        }
      ],
      "source": [
        "# Build and evaluate the model\n",
        "LogisticRegression = LogisticRegression()\n",
        "model(LogisticRegression,'LogisticRegression')"
      ]
    },
    {
      "cell_type": "markdown",
      "metadata": {
        "id": "H0fZb7CG_nis"
      },
      "source": [
        "**Decision tree (3 different trees with different hyperparameters)**"
      ]
    },
    {
      "cell_type": "markdown",
      "metadata": {
        "id": "HGLe3ZL2cjQd"
      },
      "source": [
        "**Splitting the data**"
      ]
    },
    {
      "cell_type": "code",
      "execution_count": null,
      "metadata": {
        "id": "59tdSM3JcjQf"
      },
      "outputs": [],
      "source": [
        "x_train,x_test,y_train,y_test=train_test_split(x,y,test_size=0.2,random_state=41, \n",
        "                                              stratify=y)"
      ]
    },
    {
      "cell_type": "markdown",
      "metadata": {
        "id": "EnKd8-nHhVJe"
      },
      "source": [
        "**1 Decision tree with criterion=\"entropy\"**"
      ]
    },
    {
      "cell_type": "code",
      "execution_count": null,
      "metadata": {
        "colab": {
          "base_uri": "https://localhost:8080/",
          "height": 416
        },
        "id": "sax9bOrhdY5H",
        "outputId": "b536be49-f3ca-428a-d506-0cb45dc72e12"
      },
      "outputs": [
        {
          "name": "stdout",
          "output_type": "stream",
          "text": [
            "Accuracy :  0.920842\n",
            "Precision:  0.938363\n",
            "Recall:  0.93847\n",
            "F1 score:  0.938417\n",
            "Confusion matrix: [[4331, 540], [539, 8221]]\n",
            "ROC AUC Score:  0.913805\n",
            "Perf counter:  0.864787\n"
          ]
        },
        {
          "data": {
            "image/png": "[encoded data removed]",
            "text/plain": [
              "<Figure size 432x288 with 1 Axes>"
            ]
          },
          "metadata": {},
          "output_type": "display_data"
        }
      ],
      "source": [
        "# Build and evaluate the model\n",
        "DecisionTreeClassifier_with_entropy = DecisionTreeClassifier(criterion=\"entropy\")\n",
        "model(DecisionTreeClassifier_with_entropy,'DecisionTreeClassifier_with_entropy')"
      ]
    },
    {
      "cell_type": "markdown",
      "metadata": {
        "id": "eJU2C0d2hfS6"
      },
      "source": [
        "**2 Decision tree with criterion=\"gini\" and splitter = \"random\"**"
      ]
    },
    {
      "cell_type": "code",
      "execution_count": null,
      "metadata": {
        "colab": {
          "base_uri": "https://localhost:8080/",
          "height": 416
        },
        "id": "0qF5C8CahTWZ",
        "outputId": "1a14a5c2-599b-4af2-8fce-f2d92cc9d150"
      },
      "outputs": [
        {
          "name": "stdout",
          "output_type": "stream",
          "text": [
            "Accuracy :  1.0\n",
            "Precision:  1.0\n",
            "Recall:  1.0\n",
            "F1 score:  1.0\n",
            "Confusion matrix: [[4871, 0], [0, 8760]]\n",
            "ROC AUC Score:  1.0\n",
            "Perf counter:  0.047348\n"
          ]
        },
        {
          "data": {
            "image/png": "[encoded data removed]",
            "text/plain": [
              "<Figure size 432x288 with 1 Axes>"
            ]
          },
          "metadata": {},
          "output_type": "display_data"
        }
      ],
      "source": [
        "# Build and evaluate the model\n",
        "DecisionTreeClassifier_with_gini_randomsplitter = DecisionTreeClassifier(criterion=\"gini\", splitter=\"random\")\n",
        "model(DecisionTreeClassifier_with_gini_randomsplitter,'DecisionTreeClassifier_with_gini_randomsplitter')"
      ]
    },
    {
      "cell_type": "markdown",
      "metadata": {
        "id": "N2UeYN0Ykp7E"
      },
      "source": [
        "**3 Decision tree with criterion=\"gini\" and splitter = \"best\"**"
      ]
    },
    {
      "cell_type": "code",
      "execution_count": null,
      "metadata": {
        "colab": {
          "base_uri": "https://localhost:8080/",
          "height": 416
        },
        "id": "n7D1OmCzh7y6",
        "outputId": "0e1856ac-a676-43e4-89cf-0be8e95a415f"
      },
      "outputs": [
        {
          "name": "stdout",
          "output_type": "stream",
          "text": [
            "Accuracy :  0.835302\n",
            "Precision:  0.876111\n",
            "Recall:  0.86621\n",
            "F1 score:  0.871133\n",
            "Confusion matrix: [[3798, 1073], [1172, 7588]]\n",
            "ROC AUC Score:  0.822963\n",
            "Perf counter:  0.901704\n"
          ]
        },
        {
          "data": {
            "image/png": "[encoded data removed]",
            "text/plain": [
              "<Figure size 432x288 with 1 Axes>"
            ]
          },
          "metadata": {},
          "output_type": "display_data"
        }
      ],
      "source": [
        "# Build and evaluate the model\n",
        "DecisionTreeClassifier_with_gini_bestsplitter = DecisionTreeClassifier(criterion=\"gini\", splitter=\"best\")\n",
        "model(DecisionTreeClassifier_with_gini_bestsplitter,'DecisionTreeClassifier_with_gini_bestsplitter')"
      ]
    },
    {
      "cell_type": "markdown",
      "metadata": {
        "id": "p06R5cValh06"
      },
      "source": [
        "**Random Forest (use Grid search to find best parameters:)**\n",
        "1. For the criterion (Gini or entropy)\n",
        "2. Max feature\n",
        "3. Max depth\n",
        "4. Number of trees"
      ]
    },
    {
      "cell_type": "code",
      "execution_count": null,
      "metadata": {
        "id": "olZo37LcJsme"
      },
      "outputs": [],
      "source": [
        "x_train,x_test,y_train,y_test=train_test_split(x,y,test_size=0.2,random_state=41, \n",
        "                                              stratify=y)"
      ]
    },
    {
      "cell_type": "code",
      "execution_count": null,
      "metadata": {
        "id": "1r4vCxbWm4LA"
      },
      "outputs": [],
      "source": [
        "parameters ={'max_depth': [10, 20, 30, 40, 50],\n",
        "     'criterion' : ['gini'],\n",
        "     'max_features': [0.5,0.7],\n",
        "     'n_estimators': [50,100]}\n",
        "\n",
        "\n",
        "# Create a based model\n",
        "RandomForestClassifierWithParams = RandomForestClassifier()\n",
        "# Instantiate the grid search model\n",
        "grid_search = GridSearchCV(estimator = RandomForestClassifierWithParams, param_grid = parameters, \n",
        "                          cv = 5, n_jobs = -1, scoring='accuracy')\n"
      ]
    },
    {
      "cell_type": "code",
      "execution_count": null,
      "metadata": {
        "colab": {
          "base_uri": "https://localhost:8080/"
        },
        "id": "l2Gp70GPsT4C",
        "outputId": "bd9f64ac-22e4-48a4-a9bc-2add2b6ec45e"
      },
      "outputs": [
        {
          "data": {
            "text/plain": [
              "20"
            ]
          },
          "execution_count": 68,
          "metadata": {},
          "output_type": "execute_result"
        }
      ],
      "source": [
        "#  Get param size\n",
        "from sklearn.model_selection import ParameterGrid\n",
        "param_size = ParameterGrid(parameters)\n",
        "len(param_size)"
      ]
    },
    {
      "cell_type": "code",
      "execution_count": null,
      "metadata": {
        "colab": {
          "base_uri": "https://localhost:8080/",
          "height": 451
        },
        "id": "nxMI8NPOpeGQ",
        "outputId": "c26fe58c-cd93-48b0-9c98-8eb0b703e205"
      },
      "outputs": [
        {
          "name": "stdout",
          "output_type": "stream",
          "text": [
            "Best Params:  {'criterion': 'gini', 'max_depth': 50, 'max_features': 0.5, 'n_estimators': 50}\n",
            "Best Score:  0.9340267897600265\n",
            "Accuracy :  0.968308\n",
            "Precision:  0.953003\n",
            "Recall:  1.0\n",
            "F1 score:  0.975936\n",
            "Confusion matrix: [[4439, 432], [0, 8760]]\n",
            "ROC AUC Score:  0.999906\n",
            "Perf counter:  18.270244\n"
          ]
        },
        {
          "data": {
            "image/png": "[encoded data removed]",
            "text/plain": [
              "<Figure size 432x288 with 1 Axes>"
            ]
          },
          "metadata": {},
          "output_type": "display_data"
        }
      ],
      "source": [
        "# Fit the grid search to the data\n",
        "start = time.perf_counter()\n",
        "grid_result= grid_search.fit(x_train, y_train)\n",
        "print('Best Params: ', grid_result.best_params_)\n",
        "print('Best Score: ', grid_result.best_score_)\n",
        "\n",
        "y_predict = grid_search.predict(x_test)\n",
        "end = time.perf_counter()\n",
        "cm = confusion_matrix(y_test, y_predict)\n",
        "precision = precision_score(y_test, y_predict)\n",
        "recall = recall_score(y_test, y_predict)\n",
        "accuracy= accuracy_score(y_test, y_predict)\n",
        "f1Score = f1_score(y_test, y_predict)\n",
        "RocAucScore = roc_auc_score(y_test, grid_search.predict_proba(x_test)[:, 1])\n",
        "perfcounter = end - start\n",
        "SaveResults('RandomForestClassifierWithParams', accuracy, precision, recall, f1Score, cm, RocAucScore, perfcounter )\n",
        "PrintResults('RandomForestClassifierWithParams')\n",
        "\n",
        "RocCurveDisplay.from_estimator(grid_search, x_test,y_test)\n",
        "plt.title('ROC_AUC_PLOT')\n",
        "plt.show()\n"
      ]
    },
    {
      "cell_type": "markdown",
      "metadata": {
        "id": "0MchXs4hxCka"
      },
      "source": [
        "**Gradient Boosting Classifier (GridSearchCV for Hyperparameter Tuning)**"
      ]
    },
    {
      "cell_type": "code",
      "execution_count": null,
      "metadata": {
        "colab": {
          "base_uri": "https://localhost:8080/",
          "height": 434
        },
        "id": "0_UWI7o1WspU",
        "outputId": "cedd7683-f2da-44c7-98c8-8d56f2dc969f"
      },
      "outputs": [
        {
          "name": "stdout",
          "output_type": "stream",
          "text": [
            "Best Params:  {'max_depth': 9, 'min_samples_split': 200}\n",
            "Accuracy :  1.0\n",
            "Precision:  1.0\n",
            "Recall:  1.0\n",
            "F1 score:  1.0\n",
            "Confusion matrix: [[4871, 0], [0, 8760]]\n",
            "ROC AUC Score:  1.0\n",
            "Perf counter:  776.446885\n"
          ]
        },
        {
          "data": {
            "image/png": "[encoded data removed]",
            "text/plain": [
              "<Figure size 432x288 with 1 Axes>"
            ]
          },
          "metadata": {},
          "output_type": "display_data"
        }
      ],
      "source": [
        "from sklearn.ensemble import AdaBoostClassifier\n",
        "params = {'max_depth':range(5,16,2), \n",
        "          'min_samples_split':range(200,1001,200)}\n",
        "\n",
        "GradientBoostingClassifier_GridSearchCV = GridSearchCV(estimator = GradientBoostingClassifier(learning_rate=0.1, \n",
        "                                                                                              n_estimators=60, \n",
        "                                                                                              max_features='sqrt', \n",
        "                                                                                              subsample=0.8, \n",
        "                                                                                              random_state=10), \n",
        "param_grid = params, scoring='accuracy',n_jobs=4, cv=5)\n",
        "start = time.perf_counter()\n",
        "grid_result = GradientBoostingClassifier_GridSearchCV.fit(x_train, y_train)\n",
        "print('Best Params: ', grid_result.best_params_)\n",
        "print('Best Score: ', grid_result.best_score_)\n",
        "\n",
        "y_predict = grid_search.predict(x_test)\n",
        "end = time.perf_counter()\n",
        "cm = confusion_matrix(y_test, y_predict)\n",
        "precision = precision_score(y_test, y_predict)\n",
        "recall = recall_score(y_test, y_predict)\n",
        "accuracy= accuracy_score(y_test, y_predict)\n",
        "f1Score = f1_score(y_test, y_predict)\n",
        "RocAucScore = roc_auc_score(y_test, grid_search.predict_proba(x_test)[:, 1])\n",
        "perfcounter = end - start\n",
        "SaveResults('GradientBoostingClassifier_GridSearchCV', accuracy, precision, recall, f1Score, cm, RocAucScore, perfcounter )\n",
        "PrintResults('GradientBoostingClassifier_GridSearchCV')\n",
        "\n",
        "RocCurveDisplay.from_estimator(grid_search, x_test,y_test)\n",
        "plt.title('ROC_AUC_PLOT')\n",
        "plt.show()"
      ]
    },
    {
      "cell_type": "markdown",
      "metadata": {
        "id": "bgnLhMCbcyuP"
      },
      "source": [
        "**Bagging Classifier with decision trees**"
      ]
    },
    {
      "cell_type": "code",
      "execution_count": null,
      "metadata": {
        "colab": {
          "base_uri": "https://localhost:8080/",
          "height": 416
        },
        "id": "Qacvu8eoZL3G",
        "outputId": "e9fa0ba4-fc6a-424c-a598-cd2967401931"
      },
      "outputs": [
        {
          "name": "stdout",
          "output_type": "stream",
          "text": [
            "Accuracy :  0.942557\n",
            "Precision:  0.918038\n",
            "Recall:  0.999886\n",
            "F1 score:  0.957215\n",
            "Confusion matrix: [[4089, 782], [1, 8759]]\n",
            "ROC AUC Score:  0.999853\n",
            "Perf counter:  296.784772\n"
          ]
        },
        {
          "data": {
            "image/png": "[encoded data removed]",
            "text/plain": [
              "<Figure size 432x288 with 1 Axes>"
            ]
          },
          "metadata": {},
          "output_type": "display_data"
        }
      ],
      "source": [
        "# initialize the base classifier\n",
        "base_cls = DecisionTreeClassifier()\n",
        "num_trees = 500\n",
        "\n",
        "# bagging classifier\n",
        "Bagging_DecisionTreeClassifier = BaggingClassifier(base_estimator = base_cls,\n",
        "                          n_estimators = num_trees,\n",
        "                          random_state = 0)\n",
        "model(Bagging_DecisionTreeClassifier,'Bagging_DecisionTreeClassifier')"
      ]
    },
    {
      "cell_type": "markdown",
      "metadata": {
        "id": "ejDKTPrvc4XC"
      },
      "source": [
        "**Bagging Classifier with Naïve bayes**"
      ]
    },
    {
      "cell_type": "code",
      "execution_count": null,
      "metadata": {
        "colab": {
          "base_uri": "https://localhost:8080/",
          "height": 416
        },
        "id": "0itKFdSvKZ0M",
        "outputId": "981f2bd1-3d82-4e63-9b1c-38927107186c"
      },
      "outputs": [
        {
          "name": "stdout",
          "output_type": "stream",
          "text": [
            "Accuracy :  0.641479\n",
            "Precision:  0.642989\n",
            "Recall:  0.994064\n",
            "F1 score:  0.780881\n",
            "Confusion matrix: [[36, 4835], [52, 8708]]\n",
            "ROC AUC Score:  0.501475\n",
            "Perf counter:  15.529298\n"
          ]
        },
        {
          "data": {
            "image/png": "[encoded data removed]",
            "text/plain": [
              "<Figure size 432x288 with 1 Axes>"
            ]
          },
          "metadata": {},
          "output_type": "display_data"
        }
      ],
      "source": [
        "# initialize the base classifier\n",
        "base_cls = GaussianNB()\n",
        "num_trees = 500\n",
        "seed = 7\n",
        "  \n",
        "# bagging classifier\n",
        "Bagging_Naïve_bayes = BaggingClassifier(base_estimator = base_cls,\n",
        "                          n_estimators = num_trees,\n",
        "                          random_state = 7)\n",
        "model(Bagging_Naïve_bayes,'Bagging_Naïve_bayes')"
      ]
    },
    {
      "cell_type": "markdown",
      "metadata": {
        "id": "rziPqzQoON2y"
      },
      "source": [
        "**AdaBoost Classifier**"
      ]
    },
    {
      "cell_type": "code",
      "execution_count": null,
      "metadata": {
        "colab": {
          "base_uri": "https://localhost:8080/",
          "height": 451
        },
        "id": "tK2mf8ruN19G",
        "outputId": "97603aae-5b31-4c54-ae25-d82cbc9f22e7"
      },
      "outputs": [
        {
          "name": "stdout",
          "output_type": "stream",
          "text": [
            "results:  [0.64250605 0.64265278 0.64265278 0.64255319 0.64247982]\n",
            "Mean:  0.642568924261102\n",
            "Accuracy :  0.642579\n",
            "Precision:  0.642627\n",
            "Recall:  0.999886\n",
            "F1 score:  0.782403\n",
            "Confusion matrix: [[0, 4871], [1, 8759]]\n",
            "ROC AUC Score:  0.507751\n",
            "Perf counter:  2.146856\n"
          ]
        },
        {
          "data": {
            "image/png": "[encoded data removed]",
            "text/plain": [
              "<Figure size 432x288 with 1 Axes>"
            ]
          },
          "metadata": {},
          "output_type": "display_data"
        }
      ],
      "source": [
        "from sklearn.ensemble import AdaBoostClassifier\n",
        "\n",
        "seed = 7\n",
        "\n",
        "num_trees = 30\n",
        "\n",
        "AdaBoostClassifier = AdaBoostClassifier(n_estimators=num_trees, random_state=seed)\n",
        "result = model_selection.cross_val_score(AdaBoostClassifier, x, y)\n",
        "print(\"results: \",result)\n",
        "print(\"Mean: \",result.mean())\n",
        "\n",
        "model(AdaBoostClassifier,'AdaBoostClassifier')\n"
      ]
    },
    {
      "cell_type": "markdown",
      "metadata": {
        "id": "BdTvbqLr3xYW"
      },
      "source": [
        "**Use Ensembling method to improve the results**"
      ]
    },
    {
      "cell_type": "code",
      "execution_count": null,
      "metadata": {
        "colab": {
          "base_uri": "https://localhost:8080/",
          "height": 434
        },
        "id": "7tCJlIsZWbXY",
        "outputId": "738e81fb-02b4-43df-afa1-3fb6522930a2"
      },
      "outputs": [
        {
          "name": "stdout",
          "output_type": "stream",
          "text": [
            "Best Params:  {'lr__C': 1.0, 'rf__n_estimators': 200}\n",
            "Accuracy :  0.810579\n",
            "Precision:  0.772591\n",
            "Recall:  0.999429\n",
            "F1 score:  0.871491\n",
            "Confusion matrix: [[2294, 2577], [5, 8755]]\n",
            "ROC AUC Score:  0.998046\n",
            "Perf counter:  361.723549\n"
          ]
        },
        {
          "data": {
            "image/png": "[encoded data removed]",
            "text/plain": [
              "<Figure size 432x288 with 1 Axes>"
            ]
          },
          "metadata": {},
          "output_type": "display_data"
        }
      ],
      "source": [
        "from sklearn.model_selection import GridSearchCV\n",
        "from sklearn.ensemble import VotingClassifier\n",
        "from sklearn.linear_model import LogisticRegression\n",
        "from sklearn.naive_bayes import GaussianNB\n",
        "\n",
        "clf1 = LogisticRegression(random_state=1)\n",
        "clf2 = RandomForestClassifier(n_estimators=50, random_state=1)\n",
        "clf3 = GaussianNB()\n",
        "eclf = VotingClassifier(estimators=[('lr', clf1), ('rf', clf2), ('gnb', clf3)], voting='soft')\n",
        "\n",
        "params = {'lr__C': [1.0, 100.0], 'rf__n_estimators': [20, 200]}\n",
        "grid = GridSearchCV(estimator=eclf, param_grid=params, cv=5)\n",
        "start = time.perf_counter()\n",
        "grid = grid.fit(x_train, y_train)\n",
        "print('Best Params: ', grid.best_params_)\n",
        "print('Best Score: ', grid.best_score_)\n",
        "\n",
        "y_predict = grid.predict(x_test)\n",
        "end = time.perf_counter()\n",
        "cm = confusion_matrix(y_test, y_predict)\n",
        "precision = precision_score(y_test, y_predict)\n",
        "recall = recall_score(y_test, y_predict)\n",
        "accuracy= accuracy_score(y_test, y_predict)\n",
        "f1Score = f1_score(y_test, y_predict)\n",
        "RocAucScore = roc_auc_score(y_test, grid.predict_proba(x_test)[:, 1])\n",
        "perfcounter = end - start\n",
        "SaveResults('Ensembling_VotingClassifier_GridSearchCV', accuracy, precision, recall, f1Score, cm, RocAucScore, perfcounter )\n",
        "PrintResults('Ensembling_VotingClassifier_GridSearchCV')\n",
        "\n",
        "RocCurveDisplay.from_estimator(grid, x_test,y_test)\n",
        "plt.title('ROC_AUC_PLOT')\n",
        "plt.show()"
      ]
    },
    {
      "cell_type": "markdown",
      "metadata": {
        "id": "deCyztVFYson"
      },
      "source": [
        "**Compare the classifiers**"
      ]
    },
    {
      "cell_type": "code",
      "execution_count": null,
      "metadata": {
        "colab": {
          "base_uri": "https://localhost:8080/",
          "height": 488
        },
        "id": "cEIxsyrx3yaG",
        "outputId": "88df288d-3f50-4ac2-9a60-c76439e47ce7"
      },
      "outputs": [
        {
          "data": {
            "text/html": [
              "\n",
              "  <div id=\"df-a9f3aa24-5857-4d7d-b544-634ac973b66f\">\n",
              "    <div class=\"colab-df-container\">\n",
              "      <div>\n",
              "<style scoped>\n",
              "    .dataframe tbody tr th:only-of-type {\n",
              "        vertical-align: middle;\n",
              "    }\n",
              "\n",
              "    .dataframe tbody tr th {\n",
              "        vertical-align: top;\n",
              "    }\n",
              "\n",
              "    .dataframe thead th {\n",
              "        text-align: right;\n",
              "    }\n",
              "</style>\n",
              "<table border=\"1\" class=\"dataframe\">\n",
              "  <thead>\n",
              "    <tr style=\"text-align: right;\">\n",
              "      <th></th>\n",
              "      <th>Model</th>\n",
              "      <th>Accuracy</th>\n",
              "      <th>Precision</th>\n",
              "      <th>Recall</th>\n",
              "      <th>F1 score</th>\n",
              "      <th>Confusion matrix</th>\n",
              "      <th>ROC</th>\n",
              "      <th>Perf counter</th>\n",
              "    </tr>\n",
              "  </thead>\n",
              "  <tbody>\n",
              "    <tr>\n",
              "      <th>0</th>\n",
              "      <td>SVC_with_rbf</td>\n",
              "      <td>0.642653</td>\n",
              "      <td>0.642653</td>\n",
              "      <td>1.000000</td>\n",
              "      <td>0.782457</td>\n",
              "      <td>[[0, 4871], [0, 8760]]</td>\n",
              "      <td>0.496782</td>\n",
              "      <td>953.916000</td>\n",
              "    </tr>\n",
              "    <tr>\n",
              "      <th>1</th>\n",
              "      <td>SVC_with_poly</td>\n",
              "      <td>0.642653</td>\n",
              "      <td>0.642653</td>\n",
              "      <td>1.000000</td>\n",
              "      <td>0.782457</td>\n",
              "      <td>[[0, 4871], [0, 8760]]</td>\n",
              "      <td>0.498175</td>\n",
              "      <td>450.671853</td>\n",
              "    </tr>\n",
              "    <tr>\n",
              "      <th>2</th>\n",
              "      <td>SVC_with_linear_kernel</td>\n",
              "      <td>0.642653</td>\n",
              "      <td>0.642653</td>\n",
              "      <td>1.000000</td>\n",
              "      <td>0.782457</td>\n",
              "      <td>[[0, 4871], [0, 8760]]</td>\n",
              "      <td>0.505876</td>\n",
              "      <td>350.336138</td>\n",
              "    </tr>\n",
              "    <tr>\n",
              "      <th>3</th>\n",
              "      <td>GaussianNaiveBayes</td>\n",
              "      <td>0.642653</td>\n",
              "      <td>0.642653</td>\n",
              "      <td>1.000000</td>\n",
              "      <td>0.782457</td>\n",
              "      <td>[[0, 4871], [0, 8760]]</td>\n",
              "      <td>0.512481</td>\n",
              "      <td>0.016979</td>\n",
              "    </tr>\n",
              "    <tr>\n",
              "      <th>4</th>\n",
              "      <td>LogisticRegression</td>\n",
              "      <td>0.642726</td>\n",
              "      <td>0.642700</td>\n",
              "      <td>1.000000</td>\n",
              "      <td>0.782492</td>\n",
              "      <td>[[1, 4870], [0, 8760]]</td>\n",
              "      <td>0.510815</td>\n",
              "      <td>0.667368</td>\n",
              "    </tr>\n",
              "    <tr>\n",
              "      <th>5</th>\n",
              "      <td>DecisionTreeClassifier_with_entropy</td>\n",
              "      <td>0.920842</td>\n",
              "      <td>0.938363</td>\n",
              "      <td>0.938470</td>\n",
              "      <td>0.938417</td>\n",
              "      <td>[[4331, 540], [539, 8221]]</td>\n",
              "      <td>0.913805</td>\n",
              "      <td>0.864787</td>\n",
              "    </tr>\n",
              "    <tr>\n",
              "      <th>6</th>\n",
              "      <td>DecisionTreeClassifier_with_gini_randomsplitter</td>\n",
              "      <td>1.000000</td>\n",
              "      <td>1.000000</td>\n",
              "      <td>1.000000</td>\n",
              "      <td>1.000000</td>\n",
              "      <td>[[4871, 0], [0, 8760]]</td>\n",
              "      <td>1.000000</td>\n",
              "      <td>0.047348</td>\n",
              "    </tr>\n",
              "    <tr>\n",
              "      <th>7</th>\n",
              "      <td>DecisionTreeClassifier_with_gini_bestsplitter</td>\n",
              "      <td>0.835302</td>\n",
              "      <td>0.876111</td>\n",
              "      <td>0.866210</td>\n",
              "      <td>0.871133</td>\n",
              "      <td>[[3798, 1073], [1172, 7588]]</td>\n",
              "      <td>0.822963</td>\n",
              "      <td>0.901704</td>\n",
              "    </tr>\n",
              "    <tr>\n",
              "      <th>8</th>\n",
              "      <td>RandomForestClassifierWithParams</td>\n",
              "      <td>0.968308</td>\n",
              "      <td>0.953003</td>\n",
              "      <td>1.000000</td>\n",
              "      <td>0.975936</td>\n",
              "      <td>[[4439, 432], [0, 8760]]</td>\n",
              "      <td>0.999906</td>\n",
              "      <td>18.270244</td>\n",
              "    </tr>\n",
              "    <tr>\n",
              "      <th>9</th>\n",
              "      <td>GradientBoostingClassifier_GridSearchCV</td>\n",
              "      <td>1.000000</td>\n",
              "      <td>1.000000</td>\n",
              "      <td>1.000000</td>\n",
              "      <td>1.000000</td>\n",
              "      <td>[[4871, 0], [0, 8760]]</td>\n",
              "      <td>1.000000</td>\n",
              "      <td>776.446885</td>\n",
              "    </tr>\n",
              "    <tr>\n",
              "      <th>10</th>\n",
              "      <td>Bagging_DecisionTreeClassifier</td>\n",
              "      <td>0.942557</td>\n",
              "      <td>0.918038</td>\n",
              "      <td>0.999886</td>\n",
              "      <td>0.957215</td>\n",
              "      <td>[[4089, 782], [1, 8759]]</td>\n",
              "      <td>0.999853</td>\n",
              "      <td>296.784772</td>\n",
              "    </tr>\n",
              "    <tr>\n",
              "      <th>11</th>\n",
              "      <td>Bagging_Naïve_bayes</td>\n",
              "      <td>0.641479</td>\n",
              "      <td>0.642989</td>\n",
              "      <td>0.994064</td>\n",
              "      <td>0.780881</td>\n",
              "      <td>[[36, 4835], [52, 8708]]</td>\n",
              "      <td>0.501475</td>\n",
              "      <td>15.529298</td>\n",
              "    </tr>\n",
              "    <tr>\n",
              "      <th>12</th>\n",
              "      <td>AdaBoostClassifier</td>\n",
              "      <td>0.642579</td>\n",
              "      <td>0.642627</td>\n",
              "      <td>0.999886</td>\n",
              "      <td>0.782403</td>\n",
              "      <td>[[0, 4871], [1, 8759]]</td>\n",
              "      <td>0.507751</td>\n",
              "      <td>2.146856</td>\n",
              "    </tr>\n",
              "    <tr>\n",
              "      <th>13</th>\n",
              "      <td>Ensembling VotingClassifier with GridSearchCV</td>\n",
              "      <td>0.810579</td>\n",
              "      <td>0.772591</td>\n",
              "      <td>0.999429</td>\n",
              "      <td>0.871491</td>\n",
              "      <td>[[2294, 2577], [5, 8755]]</td>\n",
              "      <td>0.998046</td>\n",
              "      <td>361.723549</td>\n",
              "    </tr>\n",
              "  </tbody>\n",
              "</table>\n",
              "</div>\n",
              "      <button class=\"colab-df-convert\" onclick=\"convertToInteractive('df-a9f3aa24-5857-4d7d-b544-634ac973b66f')\"\n",
              "              title=\"Convert this dataframe to an interactive table.\"\n",
              "              style=\"display:none;\">\n",
              "        \n",
              "  <svg xmlns=\"http://www.w3.org/2000/svg\" height=\"24px\"viewBox=\"0 0 24 24\"\n",
              "       width=\"24px\">\n",
              "    <path d=\"M0 0h24v24H0V0z\" fill=\"none\"/>\n",
              "    <path d=\"M18.56 5.44l.94 2.06.94-2.06 2.06-.94-2.06-.94-.94-2.06-.94 2.06-2.06.94zm-11 1L8.5 8.5l.94-2.06 2.06-.94-2.06-.94L8.5 2.5l-.94 2.06-2.06.94zm10 10l.94 2.06.94-2.06 2.06-.94-2.06-.94-.94-2.06-.94 2.06-2.06.94z\"/><path d=\"M17.41 7.96l-1.37-1.37c-.4-.4-.92-.59-1.43-.59-.52 0-1.04.2-1.43.59L10.3 9.45l-7.72 7.72c-.78.78-.78 2.05 0 2.83L4 21.41c.39.39.9.59 1.41.59.51 0 1.02-.2 1.41-.59l7.78-7.78 2.81-2.81c.8-.78.8-2.07 0-2.86zM5.41 20L4 18.59l7.72-7.72 1.47 1.35L5.41 20z\"/>\n",
              "  </svg>\n",
              "      </button>\n",
              "      \n",
              "  <style>\n",
              "    .colab-df-container {\n",
              "      display:flex;\n",
              "      flex-wrap:wrap;\n",
              "      gap: 12px;\n",
              "    }\n",
              "\n",
              "    .colab-df-convert {\n",
              "      background-color: #E8F0FE;\n",
              "      border: none;\n",
              "      border-radius: 50%;\n",
              "      cursor: pointer;\n",
              "      display: none;\n",
              "      fill: #1967D2;\n",
              "      height: 32px;\n",
              "      padding: 0 0 0 0;\n",
              "      width: 32px;\n",
              "    }\n",
              "\n",
              "    .colab-df-convert:hover {\n",
              "      background-color: #E2EBFA;\n",
              "      box-shadow: 0px 1px 2px rgba(60, 64, 67, 0.3), 0px 1px 3px 1px rgba(60, 64, 67, 0.15);\n",
              "      fill: #174EA6;\n",
              "    }\n",
              "\n",
              "    [theme=dark] .colab-df-convert {\n",
              "      background-color: #3B4455;\n",
              "      fill: #D2E3FC;\n",
              "    }\n",
              "\n",
              "    [theme=dark] .colab-df-convert:hover {\n",
              "      background-color: #434B5C;\n",
              "      box-shadow: 0px 1px 3px 1px rgba(0, 0, 0, 0.15);\n",
              "      filter: drop-shadow(0px 1px 2px rgba(0, 0, 0, 0.3));\n",
              "      fill: #FFFFFF;\n",
              "    }\n",
              "  </style>\n",
              "\n",
              "      <script>\n",
              "        const buttonEl =\n",
              "          document.querySelector('#df-a9f3aa24-5857-4d7d-b544-634ac973b66f button.colab-df-convert');\n",
              "        buttonEl.style.display =\n",
              "          google.colab.kernel.accessAllowed ? 'block' : 'none';\n",
              "\n",
              "        async function convertToInteractive(key) {\n",
              "          const element = document.querySelector('#df-a9f3aa24-5857-4d7d-b544-634ac973b66f');\n",
              "          const dataTable =\n",
              "            await google.colab.kernel.invokeFunction('convertToInteractive',\n",
              "                                                     [key], {});\n",
              "          if (!dataTable) return;\n",
              "\n",
              "          const docLinkHtml = 'Like what you see? Visit the ' +\n",
              "            '<a target=\"_blank\" href=https://colab.research.google.com/notebooks/data_table.ipynb>data table notebook</a>'\n",
              "            + ' to learn more about interactive tables.';\n",
              "          element.innerHTML = '';\n",
              "          dataTable['output_type'] = 'display_data';\n",
              "          await google.colab.output.renderOutput(dataTable, element);\n",
              "          const docLink = document.createElement('div');\n",
              "          docLink.innerHTML = docLinkHtml;\n",
              "          element.appendChild(docLink);\n",
              "        }\n",
              "      </script>\n",
              "    </div>\n",
              "  </div>\n",
              "  "
            ],
            "text/plain": [
              "                                              Model  Accuracy  Precision  \\\n",
              "0                                      SVC_with_rbf  0.642653   0.642653   \n",
              "1                                     SVC_with_poly  0.642653   0.642653   \n",
              "2                            SVC_with_linear_kernel  0.642653   0.642653   \n",
              "3                                GaussianNaiveBayes  0.642653   0.642653   \n",
              "4                                LogisticRegression  0.642726   0.642700   \n",
              "5               DecisionTreeClassifier_with_entropy  0.920842   0.938363   \n",
              "6   DecisionTreeClassifier_with_gini_randomsplitter  1.000000   1.000000   \n",
              "7     DecisionTreeClassifier_with_gini_bestsplitter  0.835302   0.876111   \n",
              "8                  RandomForestClassifierWithParams  0.968308   0.953003   \n",
              "9           GradientBoostingClassifier_GridSearchCV  1.000000   1.000000   \n",
              "10                   Bagging_DecisionTreeClassifier  0.942557   0.918038   \n",
              "11                              Bagging_Naïve_bayes  0.641479   0.642989   \n",
              "12                               AdaBoostClassifier  0.642579   0.642627   \n",
              "13   Ensembling VotingClassifier with GridSearchCV   0.810579   0.772591   \n",
              "\n",
              "      Recall  F1 score              Confusion matrix       ROC  Perf counter  \n",
              "0   1.000000  0.782457        [[0, 4871], [0, 8760]]  0.496782    953.916000  \n",
              "1   1.000000  0.782457        [[0, 4871], [0, 8760]]  0.498175    450.671853  \n",
              "2   1.000000  0.782457        [[0, 4871], [0, 8760]]  0.505876    350.336138  \n",
              "3   1.000000  0.782457        [[0, 4871], [0, 8760]]  0.512481      0.016979  \n",
              "4   1.000000  0.782492        [[1, 4870], [0, 8760]]  0.510815      0.667368  \n",
              "5   0.938470  0.938417    [[4331, 540], [539, 8221]]  0.913805      0.864787  \n",
              "6   1.000000  1.000000        [[4871, 0], [0, 8760]]  1.000000      0.047348  \n",
              "7   0.866210  0.871133  [[3798, 1073], [1172, 7588]]  0.822963      0.901704  \n",
              "8   1.000000  0.975936      [[4439, 432], [0, 8760]]  0.999906     18.270244  \n",
              "9   1.000000  1.000000        [[4871, 0], [0, 8760]]  1.000000    776.446885  \n",
              "10  0.999886  0.957215      [[4089, 782], [1, 8759]]  0.999853    296.784772  \n",
              "11  0.994064  0.780881      [[36, 4835], [52, 8708]]  0.501475     15.529298  \n",
              "12  0.999886  0.782403        [[0, 4871], [1, 8759]]  0.507751      2.146856  \n",
              "13  0.999429  0.871491     [[2294, 2577], [5, 8755]]  0.998046    361.723549  "
            ]
          },
          "execution_count": 75,
          "metadata": {},
          "output_type": "execute_result"
        }
      ],
      "source": [
        "# Display the model execution results\n",
        "dfResults"
      ]
    },
    {
      "cell_type": "code",
      "execution_count": null,
      "metadata": {
        "colab": {
          "base_uri": "https://localhost:8080/",
          "height": 845
        },
        "id": "sAEHpu4mY2pi",
        "outputId": "b959baec-3ce4-44a2-f0ce-6fbc123dc37f"
      },
      "outputs": [
        {
          "data": {
            "image/png": "[encoded data removed]",
            "text/plain": [
              "<Figure size 1440x720 with 1 Axes>"
            ]
          },
          "metadata": {},
          "output_type": "display_data"
        }
      ],
      "source": [
        "plt.figure(figsize=(20,10))\n",
        "ax= sns.barplot(x = dfResults.Model,y = dfResults.Accuracy)\n",
        "\n",
        "ax.set_xticklabels(dfResults.Model,rotation = 75)\n",
        "ax.set_title('Comparison plot for all the models and their accuracy')\n",
        "plt.show()"
      ]
    },
    {
      "cell_type": "markdown",
      "metadata": {
        "id": "-N6kNHPLn-7s"
      },
      "source": [
        "From the above results we can see that DecisionTreeClassifier_with_gini_randomsplitter performed the best with accuracy 1 and execution time 0.047 seconds. We can use this model to predict the correctness of the answer selected by a student."
      ]
    },
    {
      "cell_type": "markdown",
      "metadata": {
        "id": "6eKhIr9go91Z"
      },
      "source": [
        "**Save the best Model with pickle**"
      ]
    },
    {
      "cell_type": "code",
      "execution_count": null,
      "metadata": {
        "id": "2Za6RVinouaU"
      },
      "outputs": [],
      "source": [
        "import pickle\n",
        "filename='IsCorrect.sav'\n",
        "pickle.dump(DecisionTreeClassifier_with_gini_randomsplitter, open(filename, 'wb'))"
      ]
    },
    {
      "cell_type": "markdown",
      "metadata": {
        "id": "3cUGu97spCt8"
      },
      "source": [
        "**Load the saved mode to predict the sales price.**"
      ]
    },
    {
      "cell_type": "code",
      "execution_count": null,
      "metadata": {
        "colab": {
          "base_uri": "https://localhost:8080/"
        },
        "id": "MeEB7RFjn9_g",
        "outputId": "46defc2d-c6cf-47bf-83d3-93fd5439da04"
      },
      "outputs": [
        {
          "data": {
            "text/plain": [
              "array([[   11278,    60776, 19520086,        1,        1,     4528,\n",
              "           13483,        1,      395,       18]])"
            ]
          },
          "execution_count": 90,
          "metadata": {},
          "output_type": "execute_result"
        }
      ],
      "source": [
        "TestData =  np.array([[11278,60776,19520086,1,1,\t4528,\t13483,\t1,\t395,\t18]])\n",
        "TestData.reshape(1, -1)"
      ]
    },
    {
      "cell_type": "code",
      "execution_count": null,
      "metadata": {
        "colab": {
          "base_uri": "https://localhost:8080/"
        },
        "id": "vl7SXC3GpHi6",
        "outputId": "8641b755-3cc5-4940-defa-7d4c5332ad94"
      },
      "outputs": [
        {
          "name": "stdout",
          "output_type": "stream",
          "text": [
            "[1]\n"
          ]
        },
        {
          "name": "stderr",
          "output_type": "stream",
          "text": [
            "/usr/local/lib/python3.7/dist-packages/sklearn/base.py:451: UserWarning: X does not have valid feature names, but DecisionTreeClassifier was fitted with feature names\n",
            "  \"X does not have valid feature names, but\"\n"
          ]
        }
      ],
      "source": [
        "loaded_model = pickle.load(open(\"/content/IsCorrect.sav\", 'rb'))\n",
        "\n",
        "y_predicted = loaded_model.predict(TestData)\n",
        "\n",
        "print(y_predicted)"
      ]
    },
    {
      "cell_type": "markdown",
      "metadata": {
        "id": "IL0aucJZqnZL"
      },
      "source": [
        "The predicted result is 1 which means that the answer given by student us correct."
      ]
    },
    {
      "cell_type": "markdown",
      "metadata": {
        "id": "J8zSQ3WastCB"
      },
      "source": [
        "**Task 2: Predict the answer chosen by a student**"
      ]
    },
    {
      "cell_type": "code",
      "execution_count": null,
      "metadata": {
        "id": "GNAPOJR3tUlQ"
      },
      "outputs": [],
      "source": [
        "#features and target\n",
        "dfcleanTask2 = dfclean.copy()\n",
        "x= dfcleanTask2.drop(['AnswerValue'], axis=1)\n",
        "y= dfcleanTask2['AnswerValue']"
      ]
    },
    {
      "cell_type": "code",
      "execution_count": null,
      "metadata": {
        "colab": {
          "base_uri": "https://localhost:8080/",
          "height": 49
        },
        "id": "RvEuvUJktUli",
        "outputId": "6b0aedf3-82d2-4a76-e2f0-6cfd41a0e068"
      },
      "outputs": [
        {
          "data": {
            "text/html": [
              "\n",
              "  <div id=\"df-5638a84a-6e48-4d37-b1ca-8217331ce2d3\">\n",
              "    <div class=\"colab-df-container\">\n",
              "      <div>\n",
              "<style scoped>\n",
              "    .dataframe tbody tr th:only-of-type {\n",
              "        vertical-align: middle;\n",
              "    }\n",
              "\n",
              "    .dataframe tbody tr th {\n",
              "        vertical-align: top;\n",
              "    }\n",
              "\n",
              "    .dataframe thead th {\n",
              "        text-align: right;\n",
              "    }\n",
              "</style>\n",
              "<table border=\"1\" class=\"dataframe\">\n",
              "  <thead>\n",
              "    <tr style=\"text-align: right;\">\n",
              "      <th></th>\n",
              "      <th>Model</th>\n",
              "      <th>Accuracy</th>\n",
              "      <th>Precision</th>\n",
              "      <th>Recall</th>\n",
              "      <th>F1 score</th>\n",
              "      <th>Confusion matrix</th>\n",
              "      <th>ROC</th>\n",
              "      <th>Perf counter</th>\n",
              "    </tr>\n",
              "  </thead>\n",
              "  <tbody>\n",
              "  </tbody>\n",
              "</table>\n",
              "</div>\n",
              "      <button class=\"colab-df-convert\" onclick=\"convertToInteractive('df-5638a84a-6e48-4d37-b1ca-8217331ce2d3')\"\n",
              "              title=\"Convert this dataframe to an interactive table.\"\n",
              "              style=\"display:none;\">\n",
              "        \n",
              "  <svg xmlns=\"http://www.w3.org/2000/svg\" height=\"24px\"viewBox=\"0 0 24 24\"\n",
              "       width=\"24px\">\n",
              "    <path d=\"M0 0h24v24H0V0z\" fill=\"none\"/>\n",
              "    <path d=\"M18.56 5.44l.94 2.06.94-2.06 2.06-.94-2.06-.94-.94-2.06-.94 2.06-2.06.94zm-11 1L8.5 8.5l.94-2.06 2.06-.94-2.06-.94L8.5 2.5l-.94 2.06-2.06.94zm10 10l.94 2.06.94-2.06 2.06-.94-2.06-.94-.94-2.06-.94 2.06-2.06.94z\"/><path d=\"M17.41 7.96l-1.37-1.37c-.4-.4-.92-.59-1.43-.59-.52 0-1.04.2-1.43.59L10.3 9.45l-7.72 7.72c-.78.78-.78 2.05 0 2.83L4 21.41c.39.39.9.59 1.41.59.51 0 1.02-.2 1.41-.59l7.78-7.78 2.81-2.81c.8-.78.8-2.07 0-2.86zM5.41 20L4 18.59l7.72-7.72 1.47 1.35L5.41 20z\"/>\n",
              "  </svg>\n",
              "      </button>\n",
              "      \n",
              "  <style>\n",
              "    .colab-df-container {\n",
              "      display:flex;\n",
              "      flex-wrap:wrap;\n",
              "      gap: 12px;\n",
              "    }\n",
              "\n",
              "    .colab-df-convert {\n",
              "      background-color: #E8F0FE;\n",
              "      border: none;\n",
              "      border-radius: 50%;\n",
              "      cursor: pointer;\n",
              "      display: none;\n",
              "      fill: #1967D2;\n",
              "      height: 32px;\n",
              "      padding: 0 0 0 0;\n",
              "      width: 32px;\n",
              "    }\n",
              "\n",
              "    .colab-df-convert:hover {\n",
              "      background-color: #E2EBFA;\n",
              "      box-shadow: 0px 1px 2px rgba(60, 64, 67, 0.3), 0px 1px 3px 1px rgba(60, 64, 67, 0.15);\n",
              "      fill: #174EA6;\n",
              "    }\n",
              "\n",
              "    [theme=dark] .colab-df-convert {\n",
              "      background-color: #3B4455;\n",
              "      fill: #D2E3FC;\n",
              "    }\n",
              "\n",
              "    [theme=dark] .colab-df-convert:hover {\n",
              "      background-color: #434B5C;\n",
              "      box-shadow: 0px 1px 3px 1px rgba(0, 0, 0, 0.15);\n",
              "      filter: drop-shadow(0px 1px 2px rgba(0, 0, 0, 0.3));\n",
              "      fill: #FFFFFF;\n",
              "    }\n",
              "  </style>\n",
              "\n",
              "      <script>\n",
              "        const buttonEl =\n",
              "          document.querySelector('#df-5638a84a-6e48-4d37-b1ca-8217331ce2d3 button.colab-df-convert');\n",
              "        buttonEl.style.display =\n",
              "          google.colab.kernel.accessAllowed ? 'block' : 'none';\n",
              "\n",
              "        async function convertToInteractive(key) {\n",
              "          const element = document.querySelector('#df-5638a84a-6e48-4d37-b1ca-8217331ce2d3');\n",
              "          const dataTable =\n",
              "            await google.colab.kernel.invokeFunction('convertToInteractive',\n",
              "                                                     [key], {});\n",
              "          if (!dataTable) return;\n",
              "\n",
              "          const docLinkHtml = 'Like what you see? Visit the ' +\n",
              "            '<a target=\"_blank\" href=https://colab.research.google.com/notebooks/data_table.ipynb>data table notebook</a>'\n",
              "            + ' to learn more about interactive tables.';\n",
              "          element.innerHTML = '';\n",
              "          dataTable['output_type'] = 'display_data';\n",
              "          await google.colab.output.renderOutput(dataTable, element);\n",
              "          const docLink = document.createElement('div');\n",
              "          docLink.innerHTML = docLinkHtml;\n",
              "          element.appendChild(docLink);\n",
              "        }\n",
              "      </script>\n",
              "    </div>\n",
              "  </div>\n",
              "  "
            ],
            "text/plain": [
              "Empty DataFrame\n",
              "Columns: [Model, Accuracy, Precision, Recall, F1 score, Confusion matrix, ROC, Perf counter]\n",
              "Index: []"
            ]
          },
          "execution_count": 51,
          "metadata": {},
          "output_type": "execute_result"
        }
      ],
      "source": [
        "dfResults = pd.DataFrame(columns=['Model','Accuracy', 'Precision','Recall','F1 score','Confusion matrix','ROC', 'Perf counter'])\n",
        "dfResults"
      ]
    },
    {
      "cell_type": "code",
      "execution_count": null,
      "metadata": {
        "id": "Hjh3rdD5tUlj"
      },
      "outputs": [],
      "source": [
        "def SaveResultsTask2(modelname, accuracy, precision, recall, F1_score, confusion_matrix, roc, perfcounter ):\n",
        "  global dfResults\n",
        "  dfResults.style.hide_index()\n",
        "  if(dfResults[dfResults['Model']==modelname] is not np.empty):\n",
        "    dfResults.drop(dfResults.loc[dfResults['Model']==modelname].index, inplace=True)\n",
        "  new_results = {'Model': modelname, \n",
        "             'Accuracy': accuracy, \n",
        "             'Precision':precision, \n",
        "             'Recall':recall, \n",
        "             'F1 score':F1_score, \n",
        "             'Confusion matrix':confusion_matrix, \n",
        "             'ROC':roc,\n",
        "             'Perf counter': perfcounter }\n",
        "  #append row to the dataframe\n",
        "  dfResults= dfResults.append(new_results, ignore_index=True)\n",
        "\n",
        "def PrintResultsTask2(modelname):\n",
        "  index = dfResults[dfResults['Model']== modelname].index\n",
        "  print(\"Accuracy : \", dfResults.iloc[index,1].to_string(index=False))\n",
        "  print(\"Precision: \", dfResults.iloc[index,2].to_string(index=False))\n",
        "  print(\"Recall: \", dfResults.iloc[index,3].to_string(index=False))\n",
        "  print(\"F1 score: \", dfResults.iloc[index,4].to_string(index=False))\n",
        "  print(\"Confusion matrix:\", dfResults.iloc[index,5].to_string(index=False))\n",
        "  print(\"ROC AUC Score: \", dfResults.iloc[index,6].to_string(index=False))\n",
        "  print(\"Perf counter: \", dfResults.iloc[index,7].to_string(index=False))\n",
        "\n",
        "def modelTask2(classifier, modelname):\n",
        "  start = time.perf_counter()\n",
        "  classifier.fit(x_train,y_train)\n",
        "  y_predict = classifier.predict(x_test)\n",
        "  end = time.perf_counter()\n",
        "  cm = confusion_matrix(y_test, y_predict)\n",
        "  precision = precision_score(y_test, y_predict, pos_label=2, average='micro')\n",
        "  recall = recall_score(y_test, y_predict, pos_label=2, average='micro')\n",
        "  accuracy= accuracy_score(y_test, y_predict,  normalize=True)\n",
        "  f1Score = f1_score(y_test, y_predict, zero_division=1, pos_label=2, average='micro')\n",
        "  RocAucScore = roc_auc_score(y_test, classifier.predict_proba(x_test), multi_class=\"ovr\")\n",
        "  perfcounter = end - start\n",
        "  SaveResults(modelname, accuracy, precision, recall, f1Score, cm, RocAucScore, perfcounter )\n",
        "  PrintResults(modelname)\n",
        "\n",
        "\n",
        "  # RocCurveDisplay.from_estimator(classifier, x_test,y_test)\n",
        "  # plt.title('ROC_AUC_PLOT')\n",
        "  # plt.show()"
      ]
    },
    {
      "cell_type": "markdown",
      "metadata": {
        "id": "2DT1t9M7tUlk"
      },
      "source": [
        "**Implement SelectPercentile**"
      ]
    },
    {
      "cell_type": "code",
      "execution_count": null,
      "metadata": {
        "id": "LBGZIW3OtUlk"
      },
      "outputs": [],
      "source": [
        "selectorP = SelectPercentile(score_func=f_classif, percentile=30)\n",
        "x_p = selectorP.fit_transform(x, y)"
      ]
    },
    {
      "cell_type": "code",
      "execution_count": null,
      "metadata": {
        "colab": {
          "base_uri": "https://localhost:8080/"
        },
        "id": "7uFd5yBKtUll",
        "outputId": "51586bf2-1663-421c-f91b-236e93ff6db5"
      },
      "outputs": [
        {
          "name": "stdout",
          "output_type": "stream",
          "text": [
            "['QuestionId', 'IsCorrect', 'CorrectAnswer']\n"
          ]
        }
      ],
      "source": [
        "# display the selected columns of percentile=20\n",
        "cols = selectorP.get_support(indices=True)\n",
        "selectedPCols = x.columns[cols].to_list()\n",
        "print(selectedPCols)"
      ]
    },
    {
      "cell_type": "markdown",
      "metadata": {
        "id": "1ZWGi06rtUll"
      },
      "source": [
        "**Splitting the data**"
      ]
    },
    {
      "cell_type": "code",
      "execution_count": null,
      "metadata": {
        "id": "Ac8kCG9VtUlm"
      },
      "outputs": [],
      "source": [
        "x_train,x_test,y_train,y_test=train_test_split(x_p,y,test_size=0.2,random_state=41, \n",
        "                                              stratify=y)"
      ]
    },
    {
      "cell_type": "markdown",
      "metadata": {
        "id": "BgcXOUTStUlm"
      },
      "source": [
        "**Build SVM with kernel= 'rbf', gamma= 1.0**"
      ]
    },
    {
      "cell_type": "code",
      "execution_count": null,
      "metadata": {
        "colab": {
          "base_uri": "https://localhost:8080/"
        },
        "id": "wGY7M9ZvtUln",
        "outputId": "7125e43f-5de0-4e4a-d54a-85a250515398"
      },
      "outputs": [
        {
          "name": "stderr",
          "output_type": "stream",
          "text": [
            "/usr/local/lib/python3.7/dist-packages/sklearn/metrics/_classification.py:1375: UserWarning: Note that pos_label (set to 2) is ignored when average != 'binary' (got 'micro'). You may use labels=[pos_label] to specify a single positive class.\n",
            "  UserWarning,\n",
            "/usr/local/lib/python3.7/dist-packages/sklearn/metrics/_classification.py:1375: UserWarning: Note that pos_label (set to 2) is ignored when average != 'binary' (got 'micro'). You may use labels=[pos_label] to specify a single positive class.\n",
            "  UserWarning,\n",
            "/usr/local/lib/python3.7/dist-packages/sklearn/metrics/_classification.py:1375: UserWarning: Note that pos_label (set to 2) is ignored when average != 'binary' (got 'micro'). You may use labels=[pos_label] to specify a single positive class.\n",
            "  UserWarning,\n"
          ]
        },
        {
          "name": "stdout",
          "output_type": "stream",
          "text": [
            "Accuracy :  0.76774\n",
            "Precision:  0.76774\n",
            "Recall:  0.76774\n",
            "F1 score:  0.76774\n",
            "Confusion matrix: [[2389, 411, 291, 199], [192, 2899, 288, 165], ...\n",
            "ROC AUC Score:  0.873501\n",
            "Perf counter:  491.583753\n"
          ]
        }
      ],
      "source": [
        "# Build and evaluate the model\n",
        "SVC_with_rbf = SVC(kernel= 'rbf', gamma= 1.0, probability=True)\n",
        "modelTask2(SVC_with_rbf,'SVC_with_rbf')"
      ]
    },
    {
      "cell_type": "markdown",
      "metadata": {
        "id": "Y6syjU1stUln"
      },
      "source": [
        "**Build SVM with kernel= 'poly'**"
      ]
    },
    {
      "cell_type": "code",
      "execution_count": null,
      "metadata": {
        "colab": {
          "base_uri": "https://localhost:8080/"
        },
        "id": "5_LF8kv0tUln",
        "outputId": "7b714dea-e60c-4274-d058-e5c42f211d0d"
      },
      "outputs": [
        {
          "name": "stderr",
          "output_type": "stream",
          "text": [
            "/usr/local/lib/python3.7/dist-packages/sklearn/metrics/_classification.py:1375: UserWarning: Note that pos_label (set to 2) is ignored when average != 'binary' (got 'micro'). You may use labels=[pos_label] to specify a single positive class.\n",
            "  UserWarning,\n",
            "/usr/local/lib/python3.7/dist-packages/sklearn/metrics/_classification.py:1375: UserWarning: Note that pos_label (set to 2) is ignored when average != 'binary' (got 'micro'). You may use labels=[pos_label] to specify a single positive class.\n",
            "  UserWarning,\n",
            "/usr/local/lib/python3.7/dist-packages/sklearn/metrics/_classification.py:1375: UserWarning: Note that pos_label (set to 2) is ignored when average != 'binary' (got 'micro'). You may use labels=[pos_label] to specify a single positive class.\n",
            "  UserWarning,\n"
          ]
        },
        {
          "name": "stdout",
          "output_type": "stream",
          "text": [
            "Accuracy :  0.279198\n",
            "Precision:  0.279198\n",
            "Recall:  0.279198\n",
            "F1 score:  0.279198\n",
            "Confusion matrix: [[0, 802, 2488, 0], [0, 749, 2795, 0], [0, 532,...\n",
            "ROC AUC Score:  0.612638\n",
            "Perf counter:  1028.481873\n"
          ]
        }
      ],
      "source": [
        "# Build and evaluate the model\n",
        "SVC_with_poly = SVC(kernel= 'poly', probability=True)\n",
        "modelTask2(SVC_with_poly,'SVC_with_poly')"
      ]
    },
    {
      "cell_type": "markdown",
      "metadata": {
        "id": "vNAc57a-tUlo"
      },
      "source": [
        "**Build and evaluate SVM with kernel= 'linear'**"
      ]
    },
    {
      "cell_type": "code",
      "execution_count": null,
      "metadata": {
        "colab": {
          "base_uri": "https://localhost:8080/"
        },
        "id": "rao-bOCftUlo",
        "outputId": "8eeaaa57-506c-47b2-93bb-88ab729fee0c"
      },
      "outputs": [
        {
          "name": "stderr",
          "output_type": "stream",
          "text": [
            "/usr/local/lib/python3.7/dist-packages/sklearn/metrics/_classification.py:1375: UserWarning: Note that pos_label (set to 2) is ignored when average != 'binary' (got 'micro'). You may use labels=[pos_label] to specify a single positive class.\n",
            "  UserWarning,\n",
            "/usr/local/lib/python3.7/dist-packages/sklearn/metrics/_classification.py:1375: UserWarning: Note that pos_label (set to 2) is ignored when average != 'binary' (got 'micro'). You may use labels=[pos_label] to specify a single positive class.\n",
            "  UserWarning,\n",
            "/usr/local/lib/python3.7/dist-packages/sklearn/metrics/_classification.py:1375: UserWarning: Note that pos_label (set to 2) is ignored when average != 'binary' (got 'micro'). You may use labels=[pos_label] to specify a single positive class.\n",
            "  UserWarning,\n"
          ]
        },
        {
          "name": "stdout",
          "output_type": "stream",
          "text": [
            "Accuracy :  0.708021\n",
            "Precision:  0.708021\n",
            "Recall:  0.708021\n",
            "F1 score:  0.708021\n",
            "Confusion matrix: [[2486, 394, 0, 365], [402, 2685, 0, 423], [849...\n",
            "ROC AUC Score:  0.744163\n",
            "Perf counter:  573.571993\n"
          ]
        }
      ],
      "source": [
        "# Build and evaluate the model\n",
        "from sklearn.svm import SVC\n",
        "SVC_with_linear_kernel = SVC(kernel= 'linear', probability=True)\n",
        "modelTask2(SVC_with_linear_kernel,'SVC_with_linear_kernel')"
      ]
    },
    {
      "cell_type": "markdown",
      "metadata": {
        "id": "-MeqauyrtUlo"
      },
      "source": [
        "**Build and evaluate Naive Bayes classifier**"
      ]
    },
    {
      "cell_type": "code",
      "execution_count": null,
      "metadata": {
        "colab": {
          "base_uri": "https://localhost:8080/"
        },
        "id": "uXYeIxX2tUlo",
        "outputId": "29480418-38fe-4d15-843e-f1cbf6141e71"
      },
      "outputs": [
        {
          "name": "stdout",
          "output_type": "stream",
          "text": [
            "Accuracy :  0.649375\n",
            "Precision:  0.649375\n",
            "Recall:  0.649375\n",
            "F1 score:  0.649375\n",
            "Confusion matrix: [[2141, 345, 394, 365], [402, 2233, 452, 423], ...\n",
            "ROC AUC Score:  0.767292\n",
            "Perf counter:  0.024081\n"
          ]
        },
        {
          "name": "stderr",
          "output_type": "stream",
          "text": [
            "/usr/local/lib/python3.7/dist-packages/sklearn/metrics/_classification.py:1375: UserWarning: Note that pos_label (set to 2) is ignored when average != 'binary' (got 'micro'). You may use labels=[pos_label] to specify a single positive class.\n",
            "  UserWarning,\n",
            "/usr/local/lib/python3.7/dist-packages/sklearn/metrics/_classification.py:1375: UserWarning: Note that pos_label (set to 2) is ignored when average != 'binary' (got 'micro'). You may use labels=[pos_label] to specify a single positive class.\n",
            "  UserWarning,\n",
            "/usr/local/lib/python3.7/dist-packages/sklearn/metrics/_classification.py:1375: UserWarning: Note that pos_label (set to 2) is ignored when average != 'binary' (got 'micro'). You may use labels=[pos_label] to specify a single positive class.\n",
            "  UserWarning,\n"
          ]
        }
      ],
      "source": [
        "# Build and evaluate the model\n",
        "from sklearn.naive_bayes import GaussianNB\n",
        "clf = GaussianNB()\n",
        "modelTask2(clf,'GaussianNaiveBayes')"
      ]
    },
    {
      "cell_type": "markdown",
      "metadata": {
        "id": "AEcxsZ4AtUlp"
      },
      "source": [
        "**Implement SelectKBest**"
      ]
    },
    {
      "cell_type": "code",
      "execution_count": null,
      "metadata": {
        "id": "htfOz04AtUlp"
      },
      "outputs": [],
      "source": [
        "selectorK = SelectKBest(score_func=f_classif, k=5)\n",
        "x_k = selectorK.fit_transform(x,y)"
      ]
    },
    {
      "cell_type": "code",
      "execution_count": null,
      "metadata": {
        "colab": {
          "base_uri": "https://localhost:8080/"
        },
        "id": "0icsZ_uStUlp",
        "outputId": "938d5357-d51b-477e-c0a1-a767c48a0672"
      },
      "outputs": [
        {
          "name": "stdout",
          "output_type": "stream",
          "text": [
            "['QuestionId', 'IsCorrect', 'CorrectAnswer', 'QuizId', 'SubjectId']\n"
          ]
        }
      ],
      "source": [
        "# display the selected columns\n",
        "cols = selectorK.get_support(indices=True)\n",
        "selectedKCols = x.columns[cols].to_list()\n",
        "print(selectedKCols)"
      ]
    },
    {
      "cell_type": "markdown",
      "metadata": {
        "id": "tlllMuSptUlq"
      },
      "source": [
        "**Splitting the data**"
      ]
    },
    {
      "cell_type": "code",
      "execution_count": null,
      "metadata": {
        "id": "mzw1KTtmtUlq"
      },
      "outputs": [],
      "source": [
        "x_train,x_test,y_train,y_test=train_test_split(x_k,y,test_size=0.2,random_state=41, \n",
        "                                              stratify=y)"
      ]
    },
    {
      "cell_type": "markdown",
      "metadata": {
        "id": "JY8V0wwFtUlq"
      },
      "source": [
        "**Build and evaluate Logistic Regression**"
      ]
    },
    {
      "cell_type": "code",
      "execution_count": null,
      "metadata": {
        "colab": {
          "base_uri": "https://localhost:8080/"
        },
        "id": "ocKGOy8-tUlq",
        "outputId": "8135d496-d29d-4b00-b91c-4c604d1cee46"
      },
      "outputs": [
        {
          "name": "stdout",
          "output_type": "stream",
          "text": [
            "Accuracy :  0.47454\n",
            "Precision:  0.47454\n",
            "Recall:  0.47454\n",
            "F1 score:  0.47454\n",
            "Confusion matrix: [[2193, 222, 250, 580], [830, 1050, 749, 881], ...\n",
            "ROC AUC Score:  0.68992\n",
            "Perf counter:  3.046419\n"
          ]
        },
        {
          "name": "stderr",
          "output_type": "stream",
          "text": [
            "/usr/local/lib/python3.7/dist-packages/sklearn/metrics/_classification.py:1375: UserWarning: Note that pos_label (set to 2) is ignored when average != 'binary' (got 'micro'). You may use labels=[pos_label] to specify a single positive class.\n",
            "  UserWarning,\n",
            "/usr/local/lib/python3.7/dist-packages/sklearn/metrics/_classification.py:1375: UserWarning: Note that pos_label (set to 2) is ignored when average != 'binary' (got 'micro'). You may use labels=[pos_label] to specify a single positive class.\n",
            "  UserWarning,\n",
            "/usr/local/lib/python3.7/dist-packages/sklearn/metrics/_classification.py:1375: UserWarning: Note that pos_label (set to 2) is ignored when average != 'binary' (got 'micro'). You may use labels=[pos_label] to specify a single positive class.\n",
            "  UserWarning,\n"
          ]
        }
      ],
      "source": [
        "# Build and evaluate the model\n",
        "LogisticRegression = LogisticRegression()\n",
        "modelTask2(LogisticRegression,'LogisticRegression')"
      ]
    },
    {
      "cell_type": "markdown",
      "metadata": {
        "id": "w5Cs_gLhtUlq"
      },
      "source": [
        "**Decision tree (3 different trees with different hyperparameters)**"
      ]
    },
    {
      "cell_type": "markdown",
      "metadata": {
        "id": "W65Lb_W3tUlr"
      },
      "source": [
        "**Splitting the data**"
      ]
    },
    {
      "cell_type": "code",
      "execution_count": null,
      "metadata": {
        "id": "Nozea62htUlr"
      },
      "outputs": [],
      "source": [
        "x_train,x_test,y_train,y_test=train_test_split(x,y,test_size=0.2,random_state=41, \n",
        "                                              stratify=y)"
      ]
    },
    {
      "cell_type": "markdown",
      "metadata": {
        "id": "hIy7XZTutUlr"
      },
      "source": [
        "**1 Decision tree with criterion=\"entropy\"**"
      ]
    },
    {
      "cell_type": "code",
      "execution_count": null,
      "metadata": {
        "colab": {
          "base_uri": "https://localhost:8080/"
        },
        "id": "W06negDItUlr",
        "outputId": "317d80f2-157d-41ec-a30e-72a2957ebdce"
      },
      "outputs": [
        {
          "name": "stdout",
          "output_type": "stream",
          "text": [
            "Accuracy :  0.772112\n",
            "Precision:  0.772112\n",
            "Recall:  0.772112\n",
            "F1 score:  0.772112\n",
            "Confusion matrix: [[2490, 289, 234, 232], [268, 2693, 278, 271], ...\n",
            "ROC AUC Score:  0.848001\n",
            "Perf counter:  0.903397\n"
          ]
        },
        {
          "name": "stderr",
          "output_type": "stream",
          "text": [
            "/usr/local/lib/python3.7/dist-packages/sklearn/metrics/_classification.py:1375: UserWarning: Note that pos_label (set to 2) is ignored when average != 'binary' (got 'micro'). You may use labels=[pos_label] to specify a single positive class.\n",
            "  UserWarning,\n",
            "/usr/local/lib/python3.7/dist-packages/sklearn/metrics/_classification.py:1375: UserWarning: Note that pos_label (set to 2) is ignored when average != 'binary' (got 'micro'). You may use labels=[pos_label] to specify a single positive class.\n",
            "  UserWarning,\n",
            "/usr/local/lib/python3.7/dist-packages/sklearn/metrics/_classification.py:1375: UserWarning: Note that pos_label (set to 2) is ignored when average != 'binary' (got 'micro'). You may use labels=[pos_label] to specify a single positive class.\n",
            "  UserWarning,\n"
          ]
        }
      ],
      "source": [
        "# Build and evaluate the model\n",
        "DecisionTreeClassifier_with_entropy = DecisionTreeClassifier(criterion=\"entropy\")\n",
        "modelTask2(DecisionTreeClassifier_with_entropy,'DecisionTreeClassifier_with_entropy')"
      ]
    },
    {
      "cell_type": "markdown",
      "metadata": {
        "id": "mKllDeqRtUls"
      },
      "source": [
        "**2 Decision tree with criterion=\"gini\" and splitter = \"random\"**"
      ]
    },
    {
      "cell_type": "code",
      "execution_count": null,
      "metadata": {
        "colab": {
          "base_uri": "https://localhost:8080/"
        },
        "id": "hAAvD_IUtUls",
        "outputId": "d124554e-a9bc-4bfd-89b7-f46811c98fbd"
      },
      "outputs": [
        {
          "name": "stdout",
          "output_type": "stream",
          "text": [
            "Accuracy :  0.770125\n",
            "Precision:  0.770125\n",
            "Recall:  0.770125\n",
            "F1 score:  0.770125\n",
            "Confusion matrix: [[2515, 263, 233, 234], [274, 2699, 274, 263], ...\n",
            "ROC AUC Score:  0.846752\n",
            "Perf counter:  0.0847\n"
          ]
        },
        {
          "name": "stderr",
          "output_type": "stream",
          "text": [
            "/usr/local/lib/python3.7/dist-packages/sklearn/metrics/_classification.py:1375: UserWarning: Note that pos_label (set to 2) is ignored when average != 'binary' (got 'micro'). You may use labels=[pos_label] to specify a single positive class.\n",
            "  UserWarning,\n",
            "/usr/local/lib/python3.7/dist-packages/sklearn/metrics/_classification.py:1375: UserWarning: Note that pos_label (set to 2) is ignored when average != 'binary' (got 'micro'). You may use labels=[pos_label] to specify a single positive class.\n",
            "  UserWarning,\n",
            "/usr/local/lib/python3.7/dist-packages/sklearn/metrics/_classification.py:1375: UserWarning: Note that pos_label (set to 2) is ignored when average != 'binary' (got 'micro'). You may use labels=[pos_label] to specify a single positive class.\n",
            "  UserWarning,\n"
          ]
        }
      ],
      "source": [
        "# Build and evaluate the model\n",
        "DecisionTreeClassifier_with_gini_randomsplitter = DecisionTreeClassifier(criterion=\"gini\", splitter=\"random\")\n",
        "modelTask2(DecisionTreeClassifier_with_gini_randomsplitter,'DecisionTreeClassifier_with_gini_randomsplitter')"
      ]
    },
    {
      "cell_type": "markdown",
      "metadata": {
        "id": "Br2A_UFstUls"
      },
      "source": [
        "**3 Decision tree with criterion=\"gini\" and splitter = \"best\"**"
      ]
    },
    {
      "cell_type": "code",
      "execution_count": null,
      "metadata": {
        "colab": {
          "base_uri": "https://localhost:8080/"
        },
        "id": "WWywIPQztUls",
        "outputId": "386d0daa-4b26-4f33-93ec-662a3aeb3b02"
      },
      "outputs": [
        {
          "name": "stdout",
          "output_type": "stream",
          "text": [
            "Accuracy :  0.770567\n",
            "Precision:  0.770567\n",
            "Recall:  0.770567\n",
            "F1 score:  0.770567\n",
            "Confusion matrix: [[2491, 274, 263, 217], [263, 2721, 255, 271], ...\n",
            "ROC AUC Score:  0.846996\n",
            "Perf counter:  0.51616\n"
          ]
        },
        {
          "name": "stderr",
          "output_type": "stream",
          "text": [
            "/usr/local/lib/python3.7/dist-packages/sklearn/metrics/_classification.py:1375: UserWarning: Note that pos_label (set to 2) is ignored when average != 'binary' (got 'micro'). You may use labels=[pos_label] to specify a single positive class.\n",
            "  UserWarning,\n",
            "/usr/local/lib/python3.7/dist-packages/sklearn/metrics/_classification.py:1375: UserWarning: Note that pos_label (set to 2) is ignored when average != 'binary' (got 'micro'). You may use labels=[pos_label] to specify a single positive class.\n",
            "  UserWarning,\n",
            "/usr/local/lib/python3.7/dist-packages/sklearn/metrics/_classification.py:1375: UserWarning: Note that pos_label (set to 2) is ignored when average != 'binary' (got 'micro'). You may use labels=[pos_label] to specify a single positive class.\n",
            "  UserWarning,\n"
          ]
        }
      ],
      "source": [
        "# Build and evaluate the model\n",
        "DecisionTreeClassifier_with_gini_bestsplitter = DecisionTreeClassifier(criterion=\"gini\", splitter=\"best\")\n",
        "modelTask2(DecisionTreeClassifier_with_gini_bestsplitter,'DecisionTreeClassifier_with_gini_bestsplitter')"
      ]
    },
    {
      "cell_type": "markdown",
      "metadata": {
        "id": "2p1S5E6gtUlt"
      },
      "source": [
        "**Random Forest (use Grid search to find best parameters:)**\n",
        "1. For the criterion (Gini or entropy)\n",
        "2. Max feature\n",
        "3. Max depth\n",
        "4. Number of trees"
      ]
    },
    {
      "cell_type": "code",
      "execution_count": 100,
      "metadata": {
        "id": "hy4Das8vtUlt"
      },
      "outputs": [],
      "source": [
        "x_train,x_test,y_train,y_test=train_test_split(x,y,test_size=0.2,random_state=41, \n",
        "                                              stratify=y)"
      ]
    },
    {
      "cell_type": "code",
      "execution_count": 101,
      "metadata": {
        "id": "HIumcQ-htUlt"
      },
      "outputs": [],
      "source": [
        "parameters ={'max_depth': [10, 20, 30, 40, 50],\n",
        "     'criterion' : ['gini'],\n",
        "     'max_features': [0.5,0.7],\n",
        "     'n_estimators': [50,100]}\n",
        "\n",
        "\n",
        "# Create a based model\n",
        "RandomForestClassifierWithParams = RandomForestClassifier()\n",
        "# Instantiate the grid search model\n",
        "RandomForestClassifier_grid_searchCV = GridSearchCV(estimator = RandomForestClassifierWithParams, param_grid = parameters, \n",
        "                          cv = 5, n_jobs = -1, scoring='accuracy')\n"
      ]
    },
    {
      "cell_type": "code",
      "execution_count": 102,
      "metadata": {
        "colab": {
          "base_uri": "https://localhost:8080/",
          "height": 0
        },
        "id": "rin7Gh0StUlt",
        "outputId": "19976f56-8b43-4a4c-b025-3e0c3ccb9e27"
      },
      "outputs": [
        {
          "data": {
            "text/plain": [
              "20"
            ]
          },
          "execution_count": 102,
          "metadata": {},
          "output_type": "execute_result"
        }
      ],
      "source": [
        "#  Get param size\n",
        "from sklearn.model_selection import ParameterGrid\n",
        "param_size = ParameterGrid(parameters)\n",
        "len(param_size)"
      ]
    },
    {
      "cell_type": "code",
      "execution_count": 103,
      "metadata": {
        "colab": {
          "base_uri": "https://localhost:8080/",
          "height": 0
        },
        "id": "Kqky3NwStUlt",
        "outputId": "1347c5f4-af7a-4c06-dfa8-664923a72585"
      },
      "outputs": [
        {
          "name": "stdout",
          "output_type": "stream",
          "text": [
            "Best Params:  {'criterion': 'gini', 'max_depth': 10, 'max_features': 0.5, 'n_estimators': 50}\n",
            "Best Score:  0.7680236652470483\n",
            "Accuracy :  0.77454\n",
            "Precision:  0.77454\n",
            "Recall:  0.77454\n",
            "F1 score:  0.77454\n",
            "Confusion matrix: [[2253, 554, 387, 51], [60, 3094, 308, 48], [86...\n",
            "ROC AUC Score:  0.959604\n",
            "Perf counter:  712.254344\n"
          ]
        },
        {
          "name": "stderr",
          "output_type": "stream",
          "text": [
            "/usr/local/lib/python3.7/dist-packages/sklearn/metrics/_classification.py:1375: UserWarning: Note that pos_label (set to 2) is ignored when average != 'binary' (got 'micro'). You may use labels=[pos_label] to specify a single positive class.\n",
            "  UserWarning,\n",
            "/usr/local/lib/python3.7/dist-packages/sklearn/metrics/_classification.py:1375: UserWarning: Note that pos_label (set to 2) is ignored when average != 'binary' (got 'micro'). You may use labels=[pos_label] to specify a single positive class.\n",
            "  UserWarning,\n",
            "/usr/local/lib/python3.7/dist-packages/sklearn/metrics/_classification.py:1375: UserWarning: Note that pos_label (set to 2) is ignored when average != 'binary' (got 'micro'). You may use labels=[pos_label] to specify a single positive class.\n",
            "  UserWarning,\n"
          ]
        }
      ],
      "source": [
        "# Fit the grid search to the data\n",
        "start = time.perf_counter()\n",
        "grid_result= RandomForestClassifier_grid_searchCV.fit(x_train, y_train)\n",
        "print('Best Params: ', grid_result.best_params_)\n",
        "print('Best Score: ', grid_result.best_score_)\n",
        "\n",
        "y_predict = RandomForestClassifier_grid_searchCV.predict(x_test)\n",
        "end = time.perf_counter()\n",
        "cm = confusion_matrix(y_test, y_predict)\n",
        "precision = precision_score(y_test, y_predict,pos_label=2, average='micro')\n",
        "recall = recall_score(y_test, y_predict,pos_label=2, average='micro')\n",
        "accuracy= accuracy_score(y_test, y_predict, normalize=True)\n",
        "f1Score = f1_score(y_test, y_predict,pos_label=2, average='micro')\n",
        "RocAucScore = roc_auc_score(y_test, RandomForestClassifier_grid_searchCV.predict_proba(x_test), multi_class=\"ovr\")\n",
        "perfcounter = end - start\n",
        "SaveResults('RandomForestClassifierWithParams', accuracy, precision, recall, f1Score, cm, RocAucScore, perfcounter )\n",
        "PrintResults('RandomForestClassifierWithParams')\n"
      ]
    },
    {
      "cell_type": "markdown",
      "metadata": {
        "id": "IhcVD47-tUlu"
      },
      "source": [
        "**Gradient Boosting Classifier (GridSearchCV for Hyperparameter Tuning)**"
      ]
    },
    {
      "cell_type": "code",
      "execution_count": null,
      "metadata": {
        "colab": {
          "background_save": true
        },
        "id": "6K_NaVYstUlu",
        "outputId": "37b21bc2-af40-4212-bf13-0cc01dba0cf6"
      },
      "outputs": [
        {
          "name": "stdout",
          "output_type": "stream",
          "text": [
            "Best Params:  {'max_depth': 5, 'min_samples_split': 800}\n",
            "Best Score:  0.7672694206572238\n"
          ]
        },
        {
          "name": "stderr",
          "output_type": "stream",
          "text": [
            "/usr/local/lib/python3.7/dist-packages/sklearn/metrics/_classification.py:1375: UserWarning: Note that pos_label (set to 2) is ignored when average != 'binary' (got 'micro'). You may use labels=[pos_label] to specify a single positive class.\n",
            "  UserWarning,\n",
            "/usr/local/lib/python3.7/dist-packages/sklearn/metrics/_classification.py:1375: UserWarning: Note that pos_label (set to 2) is ignored when average != 'binary' (got 'micro'). You may use labels=[pos_label] to specify a single positive class.\n",
            "  UserWarning,\n",
            "/usr/local/lib/python3.7/dist-packages/sklearn/metrics/_classification.py:1375: UserWarning: Note that pos_label (set to 2) is ignored when average != 'binary' (got 'micro'). You may use labels=[pos_label] to specify a single positive class.\n",
            "  UserWarning,\n"
          ]
        },
        {
          "name": "stdout",
          "output_type": "stream",
          "text": [
            "Accuracy :  0.776085\n",
            "Precision:  0.776085\n",
            "Recall:  0.776085\n",
            "F1 score:  0.776085\n",
            "Confusion matrix: [[2227, 581, 409, 28], [49, 3095, 326, 40], [77...\n",
            "ROC AUC Score:  0.959894\n",
            "Perf counter:  2908.598384\n"
          ]
        }
      ],
      "source": [
        "from sklearn.ensemble import AdaBoostClassifier\n",
        "params = {'max_depth':range(5,16,2), \n",
        "          'min_samples_split':range(200,1001,200)}\n",
        "\n",
        "GradientBoostingClassifier_GridSearchCV = GridSearchCV(estimator = GradientBoostingClassifier(learning_rate=0.1, \n",
        "                                                                                              n_estimators=60, \n",
        "                                                                                              max_features='sqrt', \n",
        "                                                                                              subsample=0.8, \n",
        "                                                                                              random_state=10), \n",
        "param_grid = params, scoring='accuracy',n_jobs=4, cv=5)\n",
        "start = time.perf_counter()\n",
        "grid_result = GradientBoostingClassifier_GridSearchCV.fit(x_train, y_train)\n",
        "print('Best Params: ', grid_result.best_params_)\n",
        "print('Best Score: ', grid_result.best_score_)\n",
        "\n",
        "y_predict = grid_search.predict(x_test)\n",
        "end = time.perf_counter()\n",
        "cm = confusion_matrix(y_test, y_predict)\n",
        "precision = precision_score(y_test, y_predict,pos_label=2, average='micro')\n",
        "recall = recall_score(y_test, y_predict,pos_label=2, average='micro')\n",
        "accuracy= accuracy_score(y_test, y_predict, normalize=True)\n",
        "f1Score = f1_score(y_test, y_predict,pos_label=2, average='micro')\n",
        "RocAucScore = roc_auc_score(y_test, grid_search.predict_proba(x_test), multi_class=\"ovr\")\n",
        "perfcounter = end - start\n",
        "SaveResults('GradientBoostingClassifier_GridSearchCV', accuracy, precision, recall, f1Score, cm, RocAucScore, perfcounter )\n",
        "PrintResults('GradientBoostingClassifier_GridSearchCV')"
      ]
    },
    {
      "cell_type": "markdown",
      "metadata": {
        "id": "1JaGlKhZtUlu"
      },
      "source": [
        "**Bagging Classifier with decision trees**"
      ]
    },
    {
      "cell_type": "code",
      "execution_count": 75,
      "metadata": {
        "colab": {
          "base_uri": "https://localhost:8080/",
          "height": 0
        },
        "id": "hCL7xqxWtUlu",
        "outputId": "fc39a942-dacd-477f-8160-b1d173129840"
      },
      "outputs": [
        {
          "name": "stderr",
          "output_type": "stream",
          "text": [
            "/usr/local/lib/python3.7/dist-packages/sklearn/metrics/_classification.py:1375: UserWarning: Note that pos_label (set to 2) is ignored when average != 'binary' (got 'micro'). You may use labels=[pos_label] to specify a single positive class.\n",
            "  UserWarning,\n",
            "/usr/local/lib/python3.7/dist-packages/sklearn/metrics/_classification.py:1375: UserWarning: Note that pos_label (set to 2) is ignored when average != 'binary' (got 'micro'). You may use labels=[pos_label] to specify a single positive class.\n",
            "  UserWarning,\n",
            "/usr/local/lib/python3.7/dist-packages/sklearn/metrics/_classification.py:1375: UserWarning: Note that pos_label (set to 2) is ignored when average != 'binary' (got 'micro'). You may use labels=[pos_label] to specify a single positive class.\n",
            "  UserWarning,\n"
          ]
        },
        {
          "name": "stdout",
          "output_type": "stream",
          "text": [
            "Accuracy :  0.774614\n",
            "Precision:  0.774614\n",
            "Recall:  0.774614\n",
            "F1 score:  0.774614\n",
            "Confusion matrix: [[2417, 351, 302, 175], [190, 2822, 301, 197], ...\n",
            "ROC AUC Score:  0.960657\n",
            "Perf counter:  134.474864\n"
          ]
        }
      ],
      "source": [
        "# initialize the base classifier\n",
        "base_cls = DecisionTreeClassifier()\n",
        "num_trees = 500\n",
        "\n",
        "# bagging classifier\n",
        "Bagging_DecisionTreeClassifier = BaggingClassifier(base_estimator = base_cls,\n",
        "                          n_estimators = num_trees,\n",
        "                          random_state = 0)\n",
        "modelTask2(Bagging_DecisionTreeClassifier,'Bagging_DecisionTreeClassifier')"
      ]
    },
    {
      "cell_type": "markdown",
      "metadata": {
        "id": "dg-gdzlktUlv"
      },
      "source": [
        "**Bagging Classifier with Naïve bayes**"
      ]
    },
    {
      "cell_type": "code",
      "execution_count": 76,
      "metadata": {
        "colab": {
          "base_uri": "https://localhost:8080/",
          "height": 0
        },
        "id": "eB5xIOaMtUlv",
        "outputId": "f603ba23-96d6-448c-8425-3b4c27edbe09"
      },
      "outputs": [
        {
          "name": "stderr",
          "output_type": "stream",
          "text": [
            "/usr/local/lib/python3.7/dist-packages/sklearn/metrics/_classification.py:1375: UserWarning: Note that pos_label (set to 2) is ignored when average != 'binary' (got 'micro'). You may use labels=[pos_label] to specify a single positive class.\n",
            "  UserWarning,\n",
            "/usr/local/lib/python3.7/dist-packages/sklearn/metrics/_classification.py:1375: UserWarning: Note that pos_label (set to 2) is ignored when average != 'binary' (got 'micro'). You may use labels=[pos_label] to specify a single positive class.\n",
            "  UserWarning,\n",
            "/usr/local/lib/python3.7/dist-packages/sklearn/metrics/_classification.py:1375: UserWarning: Note that pos_label (set to 2) is ignored when average != 'binary' (got 'micro'). You may use labels=[pos_label] to specify a single positive class.\n",
            "  UserWarning,\n"
          ]
        },
        {
          "name": "stdout",
          "output_type": "stream",
          "text": [
            "Accuracy :  0.387344\n",
            "Precision:  0.387344\n",
            "Recall:  0.387344\n",
            "F1 score:  0.387344\n",
            "Confusion matrix: [[2466, 15, 758, 6], [2575, 21, 904, 10], [834,...\n",
            "ROC AUC Score:  0.740846\n",
            "Perf counter:  18.041013\n"
          ]
        }
      ],
      "source": [
        "# initialize the base classifier\n",
        "base_cls = GaussianNB()\n",
        "num_trees = 500\n",
        "seed = 7\n",
        "  \n",
        "# bagging classifier\n",
        "Bagging_Naïve_bayes = BaggingClassifier(base_estimator = base_cls,\n",
        "                          n_estimators = num_trees,\n",
        "                          random_state = 7)\n",
        "modelTask2(Bagging_Naïve_bayes,'Bagging_Naïve_bayes')"
      ]
    },
    {
      "cell_type": "markdown",
      "metadata": {
        "id": "ePaX2792tUlv"
      },
      "source": [
        "**AdaBoost Classifier**"
      ]
    },
    {
      "cell_type": "code",
      "execution_count": 77,
      "metadata": {
        "colab": {
          "base_uri": "https://localhost:8080/",
          "height": 0
        },
        "id": "CpGeCZ_HtUlv",
        "outputId": "77c596a0-505d-46ff-e510-896e9f3bb514"
      },
      "outputs": [
        {
          "name": "stdout",
          "output_type": "stream",
          "text": [
            "results:  [0.64782929 0.64790287 0.63789551 0.63870493 0.6422842 ]\n",
            "Mean:  0.6429233595908823\n",
            "Accuracy :  0.649227\n",
            "Precision:  0.649227\n",
            "Recall:  0.649227\n",
            "F1 score:  0.649227\n",
            "Confusion matrix: [[2142, 345, 394, 364], [402, 2233, 452, 423], ...\n",
            "ROC AUC Score:  0.770841\n",
            "Perf counter:  2.302063\n"
          ]
        },
        {
          "name": "stderr",
          "output_type": "stream",
          "text": [
            "/usr/local/lib/python3.7/dist-packages/sklearn/metrics/_classification.py:1375: UserWarning: Note that pos_label (set to 2) is ignored when average != 'binary' (got 'micro'). You may use labels=[pos_label] to specify a single positive class.\n",
            "  UserWarning,\n",
            "/usr/local/lib/python3.7/dist-packages/sklearn/metrics/_classification.py:1375: UserWarning: Note that pos_label (set to 2) is ignored when average != 'binary' (got 'micro'). You may use labels=[pos_label] to specify a single positive class.\n",
            "  UserWarning,\n",
            "/usr/local/lib/python3.7/dist-packages/sklearn/metrics/_classification.py:1375: UserWarning: Note that pos_label (set to 2) is ignored when average != 'binary' (got 'micro'). You may use labels=[pos_label] to specify a single positive class.\n",
            "  UserWarning,\n"
          ]
        }
      ],
      "source": [
        "from sklearn.ensemble import AdaBoostClassifier\n",
        "\n",
        "seed = 7\n",
        "\n",
        "num_trees = 30\n",
        "\n",
        "AdaBoostClassifier = AdaBoostClassifier(n_estimators=num_trees, random_state=seed)\n",
        "result = model_selection.cross_val_score(AdaBoostClassifier, x, y)\n",
        "print(\"results: \",result)\n",
        "print(\"Mean: \",result.mean())\n",
        "\n",
        "modelTask2(AdaBoostClassifier,'AdaBoostClassifier')\n"
      ]
    },
    {
      "cell_type": "markdown",
      "metadata": {
        "id": "s2y2GDlitUlw"
      },
      "source": [
        "**Use Ensembling method to improve the results**"
      ]
    },
    {
      "cell_type": "code",
      "execution_count": 78,
      "metadata": {
        "colab": {
          "base_uri": "https://localhost:8080/",
          "height": 0
        },
        "id": "AqQonRnntUlw",
        "outputId": "88dfafae-0771-49fc-aad2-7ea925ace84b"
      },
      "outputs": [
        {
          "name": "stderr",
          "output_type": "stream",
          "text": [
            "/usr/local/lib/python3.7/dist-packages/sklearn/linear_model/_logistic.py:818: ConvergenceWarning: lbfgs failed to converge (status=1):\n",
            "STOP: TOTAL NO. of ITERATIONS REACHED LIMIT.\n",
            "\n",
            "Increase the number of iterations (max_iter) or scale the data as shown in:\n",
            "    https://scikit-learn.org/stable/modules/preprocessing.html\n",
            "Please also refer to the documentation for alternative solver options:\n",
            "    https://scikit-learn.org/stable/modules/linear_model.html#logistic-regression\n",
            "  extra_warning_msg=_LOGISTIC_SOLVER_CONVERGENCE_MSG,\n",
            "/usr/local/lib/python3.7/dist-packages/sklearn/linear_model/_logistic.py:818: ConvergenceWarning: lbfgs failed to converge (status=1):\n",
            "STOP: TOTAL NO. of ITERATIONS REACHED LIMIT.\n",
            "\n",
            "Increase the number of iterations (max_iter) or scale the data as shown in:\n",
            "    https://scikit-learn.org/stable/modules/preprocessing.html\n",
            "Please also refer to the documentation for alternative solver options:\n",
            "    https://scikit-learn.org/stable/modules/linear_model.html#logistic-regression\n",
            "  extra_warning_msg=_LOGISTIC_SOLVER_CONVERGENCE_MSG,\n",
            "/usr/local/lib/python3.7/dist-packages/sklearn/linear_model/_logistic.py:818: ConvergenceWarning: lbfgs failed to converge (status=1):\n",
            "STOP: TOTAL NO. of ITERATIONS REACHED LIMIT.\n",
            "\n",
            "Increase the number of iterations (max_iter) or scale the data as shown in:\n",
            "    https://scikit-learn.org/stable/modules/preprocessing.html\n",
            "Please also refer to the documentation for alternative solver options:\n",
            "    https://scikit-learn.org/stable/modules/linear_model.html#logistic-regression\n",
            "  extra_warning_msg=_LOGISTIC_SOLVER_CONVERGENCE_MSG,\n",
            "/usr/local/lib/python3.7/dist-packages/sklearn/linear_model/_logistic.py:818: ConvergenceWarning: lbfgs failed to converge (status=1):\n",
            "STOP: TOTAL NO. of ITERATIONS REACHED LIMIT.\n",
            "\n",
            "Increase the number of iterations (max_iter) or scale the data as shown in:\n",
            "    https://scikit-learn.org/stable/modules/preprocessing.html\n",
            "Please also refer to the documentation for alternative solver options:\n",
            "    https://scikit-learn.org/stable/modules/linear_model.html#logistic-regression\n",
            "  extra_warning_msg=_LOGISTIC_SOLVER_CONVERGENCE_MSG,\n",
            "/usr/local/lib/python3.7/dist-packages/sklearn/linear_model/_logistic.py:818: ConvergenceWarning: lbfgs failed to converge (status=1):\n",
            "STOP: TOTAL NO. of ITERATIONS REACHED LIMIT.\n",
            "\n",
            "Increase the number of iterations (max_iter) or scale the data as shown in:\n",
            "    https://scikit-learn.org/stable/modules/preprocessing.html\n",
            "Please also refer to the documentation for alternative solver options:\n",
            "    https://scikit-learn.org/stable/modules/linear_model.html#logistic-regression\n",
            "  extra_warning_msg=_LOGISTIC_SOLVER_CONVERGENCE_MSG,\n",
            "/usr/local/lib/python3.7/dist-packages/sklearn/linear_model/_logistic.py:818: ConvergenceWarning: lbfgs failed to converge (status=1):\n",
            "STOP: TOTAL NO. of ITERATIONS REACHED LIMIT.\n",
            "\n",
            "Increase the number of iterations (max_iter) or scale the data as shown in:\n",
            "    https://scikit-learn.org/stable/modules/preprocessing.html\n",
            "Please also refer to the documentation for alternative solver options:\n",
            "    https://scikit-learn.org/stable/modules/linear_model.html#logistic-regression\n",
            "  extra_warning_msg=_LOGISTIC_SOLVER_CONVERGENCE_MSG,\n",
            "/usr/local/lib/python3.7/dist-packages/sklearn/linear_model/_logistic.py:818: ConvergenceWarning: lbfgs failed to converge (status=1):\n",
            "STOP: TOTAL NO. of ITERATIONS REACHED LIMIT.\n",
            "\n",
            "Increase the number of iterations (max_iter) or scale the data as shown in:\n",
            "    https://scikit-learn.org/stable/modules/preprocessing.html\n",
            "Please also refer to the documentation for alternative solver options:\n",
            "    https://scikit-learn.org/stable/modules/linear_model.html#logistic-regression\n",
            "  extra_warning_msg=_LOGISTIC_SOLVER_CONVERGENCE_MSG,\n",
            "/usr/local/lib/python3.7/dist-packages/sklearn/linear_model/_logistic.py:818: ConvergenceWarning: lbfgs failed to converge (status=1):\n",
            "STOP: TOTAL NO. of ITERATIONS REACHED LIMIT.\n",
            "\n",
            "Increase the number of iterations (max_iter) or scale the data as shown in:\n",
            "    https://scikit-learn.org/stable/modules/preprocessing.html\n",
            "Please also refer to the documentation for alternative solver options:\n",
            "    https://scikit-learn.org/stable/modules/linear_model.html#logistic-regression\n",
            "  extra_warning_msg=_LOGISTIC_SOLVER_CONVERGENCE_MSG,\n",
            "/usr/local/lib/python3.7/dist-packages/sklearn/linear_model/_logistic.py:818: ConvergenceWarning: lbfgs failed to converge (status=1):\n",
            "STOP: TOTAL NO. of ITERATIONS REACHED LIMIT.\n",
            "\n",
            "Increase the number of iterations (max_iter) or scale the data as shown in:\n",
            "    https://scikit-learn.org/stable/modules/preprocessing.html\n",
            "Please also refer to the documentation for alternative solver options:\n",
            "    https://scikit-learn.org/stable/modules/linear_model.html#logistic-regression\n",
            "  extra_warning_msg=_LOGISTIC_SOLVER_CONVERGENCE_MSG,\n",
            "/usr/local/lib/python3.7/dist-packages/sklearn/linear_model/_logistic.py:818: ConvergenceWarning: lbfgs failed to converge (status=1):\n",
            "STOP: TOTAL NO. of ITERATIONS REACHED LIMIT.\n",
            "\n",
            "Increase the number of iterations (max_iter) or scale the data as shown in:\n",
            "    https://scikit-learn.org/stable/modules/preprocessing.html\n",
            "Please also refer to the documentation for alternative solver options:\n",
            "    https://scikit-learn.org/stable/modules/linear_model.html#logistic-regression\n",
            "  extra_warning_msg=_LOGISTIC_SOLVER_CONVERGENCE_MSG,\n",
            "/usr/local/lib/python3.7/dist-packages/sklearn/linear_model/_logistic.py:818: ConvergenceWarning: lbfgs failed to converge (status=1):\n",
            "STOP: TOTAL NO. of ITERATIONS REACHED LIMIT.\n",
            "\n",
            "Increase the number of iterations (max_iter) or scale the data as shown in:\n",
            "    https://scikit-learn.org/stable/modules/preprocessing.html\n",
            "Please also refer to the documentation for alternative solver options:\n",
            "    https://scikit-learn.org/stable/modules/linear_model.html#logistic-regression\n",
            "  extra_warning_msg=_LOGISTIC_SOLVER_CONVERGENCE_MSG,\n",
            "/usr/local/lib/python3.7/dist-packages/sklearn/linear_model/_logistic.py:818: ConvergenceWarning: lbfgs failed to converge (status=1):\n",
            "STOP: TOTAL NO. of ITERATIONS REACHED LIMIT.\n",
            "\n",
            "Increase the number of iterations (max_iter) or scale the data as shown in:\n",
            "    https://scikit-learn.org/stable/modules/preprocessing.html\n",
            "Please also refer to the documentation for alternative solver options:\n",
            "    https://scikit-learn.org/stable/modules/linear_model.html#logistic-regression\n",
            "  extra_warning_msg=_LOGISTIC_SOLVER_CONVERGENCE_MSG,\n",
            "/usr/local/lib/python3.7/dist-packages/sklearn/linear_model/_logistic.py:818: ConvergenceWarning: lbfgs failed to converge (status=1):\n",
            "STOP: TOTAL NO. of ITERATIONS REACHED LIMIT.\n",
            "\n",
            "Increase the number of iterations (max_iter) or scale the data as shown in:\n",
            "    https://scikit-learn.org/stable/modules/preprocessing.html\n",
            "Please also refer to the documentation for alternative solver options:\n",
            "    https://scikit-learn.org/stable/modules/linear_model.html#logistic-regression\n",
            "  extra_warning_msg=_LOGISTIC_SOLVER_CONVERGENCE_MSG,\n",
            "/usr/local/lib/python3.7/dist-packages/sklearn/linear_model/_logistic.py:818: ConvergenceWarning: lbfgs failed to converge (status=1):\n",
            "STOP: TOTAL NO. of ITERATIONS REACHED LIMIT.\n",
            "\n",
            "Increase the number of iterations (max_iter) or scale the data as shown in:\n",
            "    https://scikit-learn.org/stable/modules/preprocessing.html\n",
            "Please also refer to the documentation for alternative solver options:\n",
            "    https://scikit-learn.org/stable/modules/linear_model.html#logistic-regression\n",
            "  extra_warning_msg=_LOGISTIC_SOLVER_CONVERGENCE_MSG,\n",
            "/usr/local/lib/python3.7/dist-packages/sklearn/linear_model/_logistic.py:818: ConvergenceWarning: lbfgs failed to converge (status=1):\n",
            "STOP: TOTAL NO. of ITERATIONS REACHED LIMIT.\n",
            "\n",
            "Increase the number of iterations (max_iter) or scale the data as shown in:\n",
            "    https://scikit-learn.org/stable/modules/preprocessing.html\n",
            "Please also refer to the documentation for alternative solver options:\n",
            "    https://scikit-learn.org/stable/modules/linear_model.html#logistic-regression\n",
            "  extra_warning_msg=_LOGISTIC_SOLVER_CONVERGENCE_MSG,\n",
            "/usr/local/lib/python3.7/dist-packages/sklearn/linear_model/_logistic.py:818: ConvergenceWarning: lbfgs failed to converge (status=1):\n",
            "STOP: TOTAL NO. of ITERATIONS REACHED LIMIT.\n",
            "\n",
            "Increase the number of iterations (max_iter) or scale the data as shown in:\n",
            "    https://scikit-learn.org/stable/modules/preprocessing.html\n",
            "Please also refer to the documentation for alternative solver options:\n",
            "    https://scikit-learn.org/stable/modules/linear_model.html#logistic-regression\n",
            "  extra_warning_msg=_LOGISTIC_SOLVER_CONVERGENCE_MSG,\n",
            "/usr/local/lib/python3.7/dist-packages/sklearn/linear_model/_logistic.py:818: ConvergenceWarning: lbfgs failed to converge (status=1):\n",
            "STOP: TOTAL NO. of ITERATIONS REACHED LIMIT.\n",
            "\n",
            "Increase the number of iterations (max_iter) or scale the data as shown in:\n",
            "    https://scikit-learn.org/stable/modules/preprocessing.html\n",
            "Please also refer to the documentation for alternative solver options:\n",
            "    https://scikit-learn.org/stable/modules/linear_model.html#logistic-regression\n",
            "  extra_warning_msg=_LOGISTIC_SOLVER_CONVERGENCE_MSG,\n",
            "/usr/local/lib/python3.7/dist-packages/sklearn/linear_model/_logistic.py:818: ConvergenceWarning: lbfgs failed to converge (status=1):\n",
            "STOP: TOTAL NO. of ITERATIONS REACHED LIMIT.\n",
            "\n",
            "Increase the number of iterations (max_iter) or scale the data as shown in:\n",
            "    https://scikit-learn.org/stable/modules/preprocessing.html\n",
            "Please also refer to the documentation for alternative solver options:\n",
            "    https://scikit-learn.org/stable/modules/linear_model.html#logistic-regression\n",
            "  extra_warning_msg=_LOGISTIC_SOLVER_CONVERGENCE_MSG,\n",
            "/usr/local/lib/python3.7/dist-packages/sklearn/linear_model/_logistic.py:818: ConvergenceWarning: lbfgs failed to converge (status=1):\n",
            "STOP: TOTAL NO. of ITERATIONS REACHED LIMIT.\n",
            "\n",
            "Increase the number of iterations (max_iter) or scale the data as shown in:\n",
            "    https://scikit-learn.org/stable/modules/preprocessing.html\n",
            "Please also refer to the documentation for alternative solver options:\n",
            "    https://scikit-learn.org/stable/modules/linear_model.html#logistic-regression\n",
            "  extra_warning_msg=_LOGISTIC_SOLVER_CONVERGENCE_MSG,\n",
            "/usr/local/lib/python3.7/dist-packages/sklearn/linear_model/_logistic.py:818: ConvergenceWarning: lbfgs failed to converge (status=1):\n",
            "STOP: TOTAL NO. of ITERATIONS REACHED LIMIT.\n",
            "\n",
            "Increase the number of iterations (max_iter) or scale the data as shown in:\n",
            "    https://scikit-learn.org/stable/modules/preprocessing.html\n",
            "Please also refer to the documentation for alternative solver options:\n",
            "    https://scikit-learn.org/stable/modules/linear_model.html#logistic-regression\n",
            "  extra_warning_msg=_LOGISTIC_SOLVER_CONVERGENCE_MSG,\n",
            "/usr/local/lib/python3.7/dist-packages/sklearn/linear_model/_logistic.py:818: ConvergenceWarning: lbfgs failed to converge (status=1):\n",
            "STOP: TOTAL NO. of ITERATIONS REACHED LIMIT.\n",
            "\n",
            "Increase the number of iterations (max_iter) or scale the data as shown in:\n",
            "    https://scikit-learn.org/stable/modules/preprocessing.html\n",
            "Please also refer to the documentation for alternative solver options:\n",
            "    https://scikit-learn.org/stable/modules/linear_model.html#logistic-regression\n",
            "  extra_warning_msg=_LOGISTIC_SOLVER_CONVERGENCE_MSG,\n"
          ]
        },
        {
          "name": "stdout",
          "output_type": "stream",
          "text": [
            "Best Params:  {'lr__C': 1.0, 'rf__n_estimators': 20}\n",
            "Best Score:  0.7287108791852869\n",
            "Accuracy :  0.730611\n",
            "Precision:  0.730611\n",
            "Recall:  0.730611\n",
            "F1 score:  0.730611\n",
            "Confusion matrix: [[2457, 107, 650, 31], [533, 2378, 562, 37], [6...\n",
            "ROC AUC Score:  0.932649\n",
            "Perf counter:  292.422798\n"
          ]
        },
        {
          "name": "stderr",
          "output_type": "stream",
          "text": [
            "/usr/local/lib/python3.7/dist-packages/sklearn/metrics/_classification.py:1375: UserWarning: Note that pos_label (set to 2) is ignored when average != 'binary' (got 'micro'). You may use labels=[pos_label] to specify a single positive class.\n",
            "  UserWarning,\n",
            "/usr/local/lib/python3.7/dist-packages/sklearn/metrics/_classification.py:1375: UserWarning: Note that pos_label (set to 2) is ignored when average != 'binary' (got 'micro'). You may use labels=[pos_label] to specify a single positive class.\n",
            "  UserWarning,\n",
            "/usr/local/lib/python3.7/dist-packages/sklearn/metrics/_classification.py:1375: UserWarning: Note that pos_label (set to 2) is ignored when average != 'binary' (got 'micro'). You may use labels=[pos_label] to specify a single positive class.\n",
            "  UserWarning,\n"
          ]
        }
      ],
      "source": [
        "from sklearn.model_selection import GridSearchCV\n",
        "from sklearn.ensemble import VotingClassifier\n",
        "from sklearn.linear_model import LogisticRegression\n",
        "from sklearn.naive_bayes import GaussianNB\n",
        "\n",
        "clf1 = LogisticRegression(random_state=1)\n",
        "clf2 = RandomForestClassifier(n_estimators=50, random_state=1)\n",
        "clf3 = GaussianNB()\n",
        "eclf = VotingClassifier(estimators=[('lr', clf1), ('rf', clf2), ('gnb', clf3)], voting='soft')\n",
        "\n",
        "params = {'lr__C': [1.0, 100.0], 'rf__n_estimators': [20, 200]}\n",
        "grid_search = GridSearchCV(estimator=eclf, param_grid=params, cv=5)\n",
        "start = time.perf_counter()\n",
        "grid_search = grid_search.fit(x_train, y_train)\n",
        "print('Best Params: ', grid_search.best_params_)\n",
        "print('Best Score: ', grid_search.best_score_)\n",
        "\n",
        "y_predict = grid_search.predict(x_test)\n",
        "end = time.perf_counter()\n",
        "cm = confusion_matrix(y_test, y_predict)\n",
        "precision = precision_score(y_test, y_predict,pos_label=2, average='micro')\n",
        "recall = recall_score(y_test, y_predict,pos_label=2, average='micro')\n",
        "accuracy= accuracy_score(y_test, y_predict, normalize=True)\n",
        "f1Score = f1_score(y_test, y_predict,pos_label=2, average='micro')\n",
        "RocAucScore = roc_auc_score(y_test, grid_search.predict_proba(x_test), multi_class=\"ovr\")\n",
        "perfcounter = end - start\n",
        "SaveResults('Ensembling_VotingClassifier_GridSearchCV', accuracy, precision, recall, f1Score, cm, RocAucScore, perfcounter )\n",
        "PrintResults('Ensembling_VotingClassifier_GridSearchCV')\n"
      ]
    },
    {
      "cell_type": "markdown",
      "metadata": {
        "id": "PfyIoiH-tUlw"
      },
      "source": [
        "**Compare the classifiers**"
      ]
    },
    {
      "cell_type": "code",
      "execution_count": 95,
      "metadata": {
        "colab": {
          "base_uri": "https://localhost:8080/",
          "height": 426
        },
        "id": "6WOt0OrutUlw",
        "outputId": "3bfa0287-12f1-42d1-d6b7-aa247c0229af"
      },
      "outputs": [
        {
          "data": {
            "text/html": [
              "\n",
              "  <div id=\"df-5357bad3-8673-4583-9ba1-f116c344dcb3\">\n",
              "    <div class=\"colab-df-container\">\n",
              "      <div>\n",
              "<style scoped>\n",
              "    .dataframe tbody tr th:only-of-type {\n",
              "        vertical-align: middle;\n",
              "    }\n",
              "\n",
              "    .dataframe tbody tr th {\n",
              "        vertical-align: top;\n",
              "    }\n",
              "\n",
              "    .dataframe thead th {\n",
              "        text-align: right;\n",
              "    }\n",
              "</style>\n",
              "<table border=\"1\" class=\"dataframe\">\n",
              "  <thead>\n",
              "    <tr style=\"text-align: right;\">\n",
              "      <th></th>\n",
              "      <th>Model</th>\n",
              "      <th>Accuracy</th>\n",
              "      <th>Precision</th>\n",
              "      <th>Recall</th>\n",
              "      <th>F1 score</th>\n",
              "      <th>Confusion matrix</th>\n",
              "      <th>ROC</th>\n",
              "      <th>Perf counter</th>\n",
              "    </tr>\n",
              "  </thead>\n",
              "  <tbody>\n",
              "    <tr>\n",
              "      <th>0</th>\n",
              "      <td>SVC_with_linear_kernel</td>\n",
              "      <td>0.708021</td>\n",
              "      <td>0.708021</td>\n",
              "      <td>0.708021</td>\n",
              "      <td>0.708021</td>\n",
              "      <td>[[2486, 394, 0, 365], [402, 2685, 0, 423], [84...</td>\n",
              "      <td>0.744163</td>\n",
              "      <td>573.571993</td>\n",
              "    </tr>\n",
              "    <tr>\n",
              "      <th>1</th>\n",
              "      <td>GaussianNaiveBayes</td>\n",
              "      <td>0.649375</td>\n",
              "      <td>0.649375</td>\n",
              "      <td>0.649375</td>\n",
              "      <td>0.649375</td>\n",
              "      <td>[[2141, 345, 394, 365], [402, 2233, 452, 423],...</td>\n",
              "      <td>0.767292</td>\n",
              "      <td>0.024081</td>\n",
              "    </tr>\n",
              "    <tr>\n",
              "      <th>2</th>\n",
              "      <td>LogisticRegression</td>\n",
              "      <td>0.474540</td>\n",
              "      <td>0.474540</td>\n",
              "      <td>0.474540</td>\n",
              "      <td>0.474540</td>\n",
              "      <td>[[2193, 222, 250, 580], [830, 1050, 749, 881],...</td>\n",
              "      <td>0.689920</td>\n",
              "      <td>3.046419</td>\n",
              "    </tr>\n",
              "    <tr>\n",
              "      <th>3</th>\n",
              "      <td>DecisionTreeClassifier_with_entropy</td>\n",
              "      <td>0.772112</td>\n",
              "      <td>0.772112</td>\n",
              "      <td>0.772112</td>\n",
              "      <td>0.772112</td>\n",
              "      <td>[[2490, 289, 234, 232], [268, 2693, 278, 271],...</td>\n",
              "      <td>0.848001</td>\n",
              "      <td>0.903397</td>\n",
              "    </tr>\n",
              "    <tr>\n",
              "      <th>4</th>\n",
              "      <td>DecisionTreeClassifier_with_gini_randomsplitter</td>\n",
              "      <td>0.770125</td>\n",
              "      <td>0.770125</td>\n",
              "      <td>0.770125</td>\n",
              "      <td>0.770125</td>\n",
              "      <td>[[2515, 263, 233, 234], [274, 2699, 274, 263],...</td>\n",
              "      <td>0.846752</td>\n",
              "      <td>0.084700</td>\n",
              "    </tr>\n",
              "    <tr>\n",
              "      <th>5</th>\n",
              "      <td>DecisionTreeClassifier_with_gini_bestsplitter</td>\n",
              "      <td>0.770567</td>\n",
              "      <td>0.770567</td>\n",
              "      <td>0.770567</td>\n",
              "      <td>0.770567</td>\n",
              "      <td>[[2491, 274, 263, 217], [263, 2721, 255, 271],...</td>\n",
              "      <td>0.846996</td>\n",
              "      <td>0.516160</td>\n",
              "    </tr>\n",
              "    <tr>\n",
              "      <th>6</th>\n",
              "      <td>RandomForestClassifierWithParams</td>\n",
              "      <td>0.776085</td>\n",
              "      <td>0.776085</td>\n",
              "      <td>0.776085</td>\n",
              "      <td>0.776085</td>\n",
              "      <td>[[2227, 581, 409, 28], [49, 3095, 326, 40], [7...</td>\n",
              "      <td>0.959894</td>\n",
              "      <td>722.467768</td>\n",
              "    </tr>\n",
              "    <tr>\n",
              "      <th>7</th>\n",
              "      <td>GradientBoostingClassifier_GridSearchCV</td>\n",
              "      <td>0.776085</td>\n",
              "      <td>0.776085</td>\n",
              "      <td>0.776085</td>\n",
              "      <td>0.776085</td>\n",
              "      <td>[[2227, 581, 409, 28], [49, 3095, 326, 40], [7...</td>\n",
              "      <td>0.959894</td>\n",
              "      <td>2908.598384</td>\n",
              "    </tr>\n",
              "    <tr>\n",
              "      <th>8</th>\n",
              "      <td>Bagging_DecisionTreeClassifier</td>\n",
              "      <td>0.774614</td>\n",
              "      <td>0.774614</td>\n",
              "      <td>0.774614</td>\n",
              "      <td>0.774614</td>\n",
              "      <td>[[2417, 351, 302, 175], [190, 2822, 301, 197],...</td>\n",
              "      <td>0.960657</td>\n",
              "      <td>134.474864</td>\n",
              "    </tr>\n",
              "    <tr>\n",
              "      <th>9</th>\n",
              "      <td>Bagging_Naïve_bayes</td>\n",
              "      <td>0.387344</td>\n",
              "      <td>0.387344</td>\n",
              "      <td>0.387344</td>\n",
              "      <td>0.387344</td>\n",
              "      <td>[[2466, 15, 758, 6], [2575, 21, 904, 10], [834...</td>\n",
              "      <td>0.740846</td>\n",
              "      <td>18.041013</td>\n",
              "    </tr>\n",
              "    <tr>\n",
              "      <th>10</th>\n",
              "      <td>AdaBoostClassifier</td>\n",
              "      <td>0.649227</td>\n",
              "      <td>0.649227</td>\n",
              "      <td>0.649227</td>\n",
              "      <td>0.649227</td>\n",
              "      <td>[[2142, 345, 394, 364], [402, 2233, 452, 423],...</td>\n",
              "      <td>0.770841</td>\n",
              "      <td>2.302063</td>\n",
              "    </tr>\n",
              "    <tr>\n",
              "      <th>11</th>\n",
              "      <td>Ensembling_VotingClassifier_GridSearchCV</td>\n",
              "      <td>0.730611</td>\n",
              "      <td>0.730611</td>\n",
              "      <td>0.730611</td>\n",
              "      <td>0.730611</td>\n",
              "      <td>[[2457, 107, 650, 31], [533, 2378, 562, 37], [...</td>\n",
              "      <td>0.932649</td>\n",
              "      <td>292.422798</td>\n",
              "    </tr>\n",
              "  </tbody>\n",
              "</table>\n",
              "</div>\n",
              "      <button class=\"colab-df-convert\" onclick=\"convertToInteractive('df-5357bad3-8673-4583-9ba1-f116c344dcb3')\"\n",
              "              title=\"Convert this dataframe to an interactive table.\"\n",
              "              style=\"display:none;\">\n",
              "        \n",
              "  <svg xmlns=\"http://www.w3.org/2000/svg\" height=\"24px\"viewBox=\"0 0 24 24\"\n",
              "       width=\"24px\">\n",
              "    <path d=\"M0 0h24v24H0V0z\" fill=\"none\"/>\n",
              "    <path d=\"M18.56 5.44l.94 2.06.94-2.06 2.06-.94-2.06-.94-.94-2.06-.94 2.06-2.06.94zm-11 1L8.5 8.5l.94-2.06 2.06-.94-2.06-.94L8.5 2.5l-.94 2.06-2.06.94zm10 10l.94 2.06.94-2.06 2.06-.94-2.06-.94-.94-2.06-.94 2.06-2.06.94z\"/><path d=\"M17.41 7.96l-1.37-1.37c-.4-.4-.92-.59-1.43-.59-.52 0-1.04.2-1.43.59L10.3 9.45l-7.72 7.72c-.78.78-.78 2.05 0 2.83L4 21.41c.39.39.9.59 1.41.59.51 0 1.02-.2 1.41-.59l7.78-7.78 2.81-2.81c.8-.78.8-2.07 0-2.86zM5.41 20L4 18.59l7.72-7.72 1.47 1.35L5.41 20z\"/>\n",
              "  </svg>\n",
              "      </button>\n",
              "      \n",
              "  <style>\n",
              "    .colab-df-container {\n",
              "      display:flex;\n",
              "      flex-wrap:wrap;\n",
              "      gap: 12px;\n",
              "    }\n",
              "\n",
              "    .colab-df-convert {\n",
              "      background-color: #E8F0FE;\n",
              "      border: none;\n",
              "      border-radius: 50%;\n",
              "      cursor: pointer;\n",
              "      display: none;\n",
              "      fill: #1967D2;\n",
              "      height: 32px;\n",
              "      padding: 0 0 0 0;\n",
              "      width: 32px;\n",
              "    }\n",
              "\n",
              "    .colab-df-convert:hover {\n",
              "      background-color: #E2EBFA;\n",
              "      box-shadow: 0px 1px 2px rgba(60, 64, 67, 0.3), 0px 1px 3px 1px rgba(60, 64, 67, 0.15);\n",
              "      fill: #174EA6;\n",
              "    }\n",
              "\n",
              "    [theme=dark] .colab-df-convert {\n",
              "      background-color: #3B4455;\n",
              "      fill: #D2E3FC;\n",
              "    }\n",
              "\n",
              "    [theme=dark] .colab-df-convert:hover {\n",
              "      background-color: #434B5C;\n",
              "      box-shadow: 0px 1px 3px 1px rgba(0, 0, 0, 0.15);\n",
              "      filter: drop-shadow(0px 1px 2px rgba(0, 0, 0, 0.3));\n",
              "      fill: #FFFFFF;\n",
              "    }\n",
              "  </style>\n",
              "\n",
              "      <script>\n",
              "        const buttonEl =\n",
              "          document.querySelector('#df-5357bad3-8673-4583-9ba1-f116c344dcb3 button.colab-df-convert');\n",
              "        buttonEl.style.display =\n",
              "          google.colab.kernel.accessAllowed ? 'block' : 'none';\n",
              "\n",
              "        async function convertToInteractive(key) {\n",
              "          const element = document.querySelector('#df-5357bad3-8673-4583-9ba1-f116c344dcb3');\n",
              "          const dataTable =\n",
              "            await google.colab.kernel.invokeFunction('convertToInteractive',\n",
              "                                                     [key], {});\n",
              "          if (!dataTable) return;\n",
              "\n",
              "          const docLinkHtml = 'Like what you see? Visit the ' +\n",
              "            '<a target=\"_blank\" href=https://colab.research.google.com/notebooks/data_table.ipynb>data table notebook</a>'\n",
              "            + ' to learn more about interactive tables.';\n",
              "          element.innerHTML = '';\n",
              "          dataTable['output_type'] = 'display_data';\n",
              "          await google.colab.output.renderOutput(dataTable, element);\n",
              "          const docLink = document.createElement('div');\n",
              "          docLink.innerHTML = docLinkHtml;\n",
              "          element.appendChild(docLink);\n",
              "        }\n",
              "      </script>\n",
              "    </div>\n",
              "  </div>\n",
              "  "
            ],
            "text/plain": [
              "                                              Model  Accuracy  Precision  \\\n",
              "0                            SVC_with_linear_kernel  0.708021   0.708021   \n",
              "1                                GaussianNaiveBayes  0.649375   0.649375   \n",
              "2                                LogisticRegression  0.474540   0.474540   \n",
              "3               DecisionTreeClassifier_with_entropy  0.772112   0.772112   \n",
              "4   DecisionTreeClassifier_with_gini_randomsplitter  0.770125   0.770125   \n",
              "5     DecisionTreeClassifier_with_gini_bestsplitter  0.770567   0.770567   \n",
              "6                  RandomForestClassifierWithParams  0.776085   0.776085   \n",
              "7           GradientBoostingClassifier_GridSearchCV  0.776085   0.776085   \n",
              "8                    Bagging_DecisionTreeClassifier  0.774614   0.774614   \n",
              "9                               Bagging_Naïve_bayes  0.387344   0.387344   \n",
              "10                               AdaBoostClassifier  0.649227   0.649227   \n",
              "11         Ensembling_VotingClassifier_GridSearchCV  0.730611   0.730611   \n",
              "\n",
              "      Recall  F1 score                                   Confusion matrix  \\\n",
              "0   0.708021  0.708021  [[2486, 394, 0, 365], [402, 2685, 0, 423], [84...   \n",
              "1   0.649375  0.649375  [[2141, 345, 394, 365], [402, 2233, 452, 423],...   \n",
              "2   0.474540  0.474540  [[2193, 222, 250, 580], [830, 1050, 749, 881],...   \n",
              "3   0.772112  0.772112  [[2490, 289, 234, 232], [268, 2693, 278, 271],...   \n",
              "4   0.770125  0.770125  [[2515, 263, 233, 234], [274, 2699, 274, 263],...   \n",
              "5   0.770567  0.770567  [[2491, 274, 263, 217], [263, 2721, 255, 271],...   \n",
              "6   0.776085  0.776085  [[2227, 581, 409, 28], [49, 3095, 326, 40], [7...   \n",
              "7   0.776085  0.776085  [[2227, 581, 409, 28], [49, 3095, 326, 40], [7...   \n",
              "8   0.774614  0.774614  [[2417, 351, 302, 175], [190, 2822, 301, 197],...   \n",
              "9   0.387344  0.387344  [[2466, 15, 758, 6], [2575, 21, 904, 10], [834...   \n",
              "10  0.649227  0.649227  [[2142, 345, 394, 364], [402, 2233, 452, 423],...   \n",
              "11  0.730611  0.730611  [[2457, 107, 650, 31], [533, 2378, 562, 37], [...   \n",
              "\n",
              "         ROC  Perf counter  \n",
              "0   0.744163    573.571993  \n",
              "1   0.767292      0.024081  \n",
              "2   0.689920      3.046419  \n",
              "3   0.848001      0.903397  \n",
              "4   0.846752      0.084700  \n",
              "5   0.846996      0.516160  \n",
              "6   0.959894    722.467768  \n",
              "7   0.959894   2908.598384  \n",
              "8   0.960657    134.474864  \n",
              "9   0.740846     18.041013  \n",
              "10  0.770841      2.302063  \n",
              "11  0.932649    292.422798  "
            ]
          },
          "execution_count": 95,
          "metadata": {},
          "output_type": "execute_result"
        }
      ],
      "source": [
        "# Display the model execution results\n",
        "dfResults"
      ]
    },
    {
      "cell_type": "code",
      "execution_count": 96,
      "metadata": {
        "colab": {
          "base_uri": "https://localhost:8080/",
          "height": 844
        },
        "id": "V4_QiNfjtUlx",
        "outputId": "6a7029b4-e8aa-4dee-92d1-ecacb7475cb6"
      },
      "outputs": [
        {
          "data": {
            "image/png": "[encoded data removed]",
            "text/plain": [
              "<Figure size 1440x720 with 1 Axes>"
            ]
          },
          "metadata": {
            "needs_background": "light"
          },
          "output_type": "display_data"
        }
      ],
      "source": [
        "plt.figure(figsize=(20,10))\n",
        "ax= sns.barplot(x = dfResults.Model,y = dfResults.Accuracy, data=dfResults)\n",
        "\n",
        "ax.set_xticklabels(dfResults.Model,rotation = 75)\n",
        "ax.set_title('Comparison plot for all the models and their accuracy')\n",
        "plt.show()"
      ]
    },
    {
      "cell_type": "markdown",
      "metadata": {
        "id": "uHLbM7retUlx"
      },
      "source": [
        "From the above results we can see that RandomForestClassifierWithParams performed the best with accuracy 0.77 and execution time 722 seconds. We can use this model to predict the answer value selected by a student."
      ]
    },
    {
      "cell_type": "markdown",
      "metadata": {
        "id": "_zs8wxeAtUlx"
      },
      "source": [
        "**Save the best Model with pickle**"
      ]
    },
    {
      "cell_type": "code",
      "execution_count": 104,
      "metadata": {
        "id": "6OvR60iUtUlx"
      },
      "outputs": [],
      "source": [
        "import pickle\n",
        "filename='AswerChosen.sav'\n",
        "pickle.dump(RandomForestClassifier_grid_searchCV, open(filename, 'wb'))"
      ]
    },
    {
      "cell_type": "markdown",
      "metadata": {
        "id": "D-fid3NutUlx"
      },
      "source": [
        "**Load the saved mode to predict the sales price.**"
      ]
    },
    {
      "cell_type": "code",
      "execution_count": 105,
      "metadata": {
        "colab": {
          "base_uri": "https://localhost:8080/",
          "height": 0
        },
        "id": "c_LmlZMutUly",
        "outputId": "3f471e2a-4077-4ca8-8835-d8ce2fc00e36"
      },
      "outputs": [
        {
          "data": {
            "text/plain": [
              "array([[   11278,    60776, 19520086,        1,        1,     4528,\n",
              "           13483,        1,      395,       18]])"
            ]
          },
          "execution_count": 105,
          "metadata": {},
          "output_type": "execute_result"
        }
      ],
      "source": [
        "TestData =  np.array([[11278,60776,19520086,1,1,4528,\t13483,\t1,\t395,\t18]])\n",
        "TestData.reshape(1, -1)"
      ]
    },
    {
      "cell_type": "code",
      "execution_count": 106,
      "metadata": {
        "colab": {
          "base_uri": "https://localhost:8080/",
          "height": 0
        },
        "id": "9f58qk_3tUly",
        "outputId": "f3b86b7c-908d-44df-c751-cd387dab1491"
      },
      "outputs": [
        {
          "name": "stdout",
          "output_type": "stream",
          "text": [
            "[1]\n"
          ]
        },
        {
          "name": "stderr",
          "output_type": "stream",
          "text": [
            "/usr/local/lib/python3.7/dist-packages/sklearn/base.py:451: UserWarning: X does not have valid feature names, but RandomForestClassifier was fitted with feature names\n",
            "  \"X does not have valid feature names, but\"\n"
          ]
        }
      ],
      "source": [
        "loaded_model = pickle.load(open(\"/content/AswerChosen.sav\", 'rb'))\n",
        "\n",
        "y_predicted = loaded_model.predict(TestData)\n",
        "\n",
        "print(y_predicted)"
      ]
    },
    {
      "cell_type": "markdown",
      "metadata": {
        "id": "fM0Ecz62tUly"
      },
      "source": [
        "**The predicted result is 1 which means that the answer value chosen by the student is 1.**"
      ]
    }
  ],
  "metadata": {
    "accelerator": "TPU",
    "colab": {
      "collapsed_sections": [],
      "provenance": []
    },
    "gpuClass": "standard",
    "kernelspec": {
      "display_name": "Python 3",
      "name": "python3"
    },
    "language_info": {
      "name": "python"
    }
  },
  "nbformat": 4,
  "nbformat_minor": 0
}
